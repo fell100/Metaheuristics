{
 "cells": [
  {
   "cell_type": "code",
   "execution_count": 78,
   "metadata": {},
   "outputs": [],
   "source": [
    "from pprint import pprint\n",
    "import pandas as pd\n",
    "import yfinance as yf\n",
    "from tqdm import tqdm\n",
    "import pandas_ta as ta\n",
    "import math\n",
    "import backtrader as bt\n",
    "import datetime\n",
    "import random\n",
    "import numpy as np"
   ]
  },
  {
   "cell_type": "code",
   "execution_count": 79,
   "metadata": {},
   "outputs": [
    {
     "name": "stdout",
     "output_type": "stream",
     "text": [
      "0      AALR3\n",
      "1      ABCB4\n",
      "2      ABEV3\n",
      "3      AERI3\n",
      "4      AESB3\n",
      "       ...  \n",
      "549    WLMM4\n",
      "550    YBRA3\n",
      "551    YBRA4\n",
      "552    YDUQ3\n",
      "553    ZAMP3\n",
      "Name: Ticker, Length: 554, dtype: object\n"
     ]
    }
   ],
   "source": [
    "\n",
    "\n",
    "#https://www.b3.com.br/pt_br/market-data-e-indices/servicos-de-dados/market-data/consultas/boletim-diario/dados-publicos-de-produtos-listados-e-de-balcao/\n",
    "# Usamos apenas as colunas em que precisamos aplicar filtros\n",
    "# O arquivo .csv não vem formatado em utf-8, então usamos o encoding = 'latin'\n",
    "# Definimos o dtype da coluna CorpGovnLvlNm como string para não termos problema com a memória\n",
    "df = pd.read_csv(\n",
    "    'InstrumentsConsolidatedFile_20231204_1.csv',\n",
    "    usecols= ['RptDt','TckrSymb', 'SgmtNm', 'SctyCtgyNm', 'TradgStartDt', 'CorpGovnLvlNm'],\n",
    "    sep=';',\n",
    "    encoding = 'latin',\n",
    "    dtype={'CorpGovnLvlNm': 'str'})\n",
    "\n",
    "# Filtramos SctyCtgyNm por ações e units (SHARES e UNIT)\n",
    "# Filtramos SgmtNm por ações do mercado à vista (CASH)\n",
    "# Filtramos os ativos cuja data de início da negociação seja anterior à data de publicação do arquivo .csv\n",
    "# Filtramos as ações que não sejam negociadas no mercado de balcão\n",
    "df = df[ ( (df['SctyCtgyNm'] == 'SHARES') | (df['SctyCtgyNm'] == 'UNIT') ) & (df['SgmtNm'] == 'CASH') & (df['RptDt'] >= df['TradgStartDt']) & (df['CorpGovnLvlNm'] != 'MERCADO DE BALCÃO') ]\n",
    "\n",
    "df_listed_stocks = pd.DataFrame()\n",
    "df_listed_stocks['Ticker'] = df['TckrSymb']\n",
    "\n",
    "# Ativos de nome TAXA100, TAXA101, TAXA102 etc. não nos interessam\n",
    "df_listed_stocks = df_listed_stocks[~df_listed_stocks['Ticker'].str.contains('TAXA')]\n",
    "\n",
    "df_listed_stocks = df_listed_stocks['Ticker'].reset_index()\n",
    "df_listed_stocks = df_listed_stocks.drop(columns=['index'])\n",
    "\n",
    "df_listed_stocks.to_csv('b3_stocks.csv', index=False)\n",
    "\n",
    "print(df_listed_stocks['Ticker'])"
   ]
  },
  {
   "cell_type": "code",
   "execution_count": 80,
   "metadata": {},
   "outputs": [
    {
     "name": "stdout",
     "output_type": "stream",
     "text": [
      "['AALR3.SA',\n",
      " 'ABCB4.SA',\n",
      " 'ABEV3.SA',\n",
      " 'AERI3.SA',\n",
      " 'AESB3.SA',\n",
      " 'AESO3.SA',\n",
      " 'AFLT3.SA',\n",
      " 'AGRO3.SA',\n",
      " 'AGXY3.SA',\n",
      " 'AHEB3.SA']\n"
     ]
    }
   ],
   "source": [
    "stock_list = [stock[0] +'.SA' for stock in df_listed_stocks.values]\n",
    "\n",
    "pprint(stock_list[:10])"
   ]
  },
  {
   "cell_type": "code",
   "execution_count": 81,
   "metadata": {},
   "outputs": [
    {
     "data": {
      "text/plain": [
       "554"
      ]
     },
     "execution_count": 81,
     "metadata": {},
     "output_type": "execute_result"
    }
   ],
   "source": [
    "len(df_listed_stocks['Ticker'].unique())"
   ]
  },
  {
   "cell_type": "code",
   "execution_count": 82,
   "metadata": {},
   "outputs": [
    {
     "data": {
      "text/plain": [
       "Index(['RptDt', 'TckrSymb', 'SgmtNm', 'SctyCtgyNm', 'TradgStartDt',\n",
       "       'CorpGovnLvlNm'],\n",
       "      dtype='object')"
      ]
     },
     "execution_count": 82,
     "metadata": {},
     "output_type": "execute_result"
    }
   ],
   "source": [
    "df.columns"
   ]
  },
  {
   "cell_type": "code",
   "execution_count": 83,
   "metadata": {},
   "outputs": [
    {
     "data": {
      "text/html": [
       "<div>\n",
       "<style scoped>\n",
       "    .dataframe tbody tr th:only-of-type {\n",
       "        vertical-align: middle;\n",
       "    }\n",
       "\n",
       "    .dataframe tbody tr th {\n",
       "        vertical-align: top;\n",
       "    }\n",
       "\n",
       "    .dataframe thead tr th {\n",
       "        text-align: left;\n",
       "    }\n",
       "</style>\n",
       "<table border=\"1\" class=\"dataframe\">\n",
       "  <thead>\n",
       "    <tr>\n",
       "      <th></th>\n",
       "      <th>Open</th>\n",
       "      <th>High</th>\n",
       "      <th>Low</th>\n",
       "      <th>Close</th>\n",
       "      <th>Adj Close</th>\n",
       "      <th>Volume</th>\n",
       "      <th>ticker</th>\n",
       "    </tr>\n",
       "  </thead>\n",
       "  <tbody>\n",
       "  </tbody>\n",
       "</table>\n",
       "</div>"
      ],
      "text/plain": [
       "Empty DataFrame\n",
       "Columns: [(Open,), (High,), (Low,), (Close,), (Adj Close,), (Volume,), (ticker,)]\n",
       "Index: []"
      ]
     },
     "execution_count": 83,
     "metadata": {},
     "output_type": "execute_result"
    }
   ],
   "source": [
    "start_date = '2022-01-01'\n",
    "end_date = '2023-01-01'\n",
    "df_cols = ['Open', 'High', 'Low', 'Close', 'Adj Close', 'Volume', 'ticker']\n",
    "stocks_df = pd.DataFrame(columns=[df_cols])\n",
    "stocks_df"
   ]
  },
  {
   "cell_type": "code",
   "execution_count": 84,
   "metadata": {},
   "outputs": [
    {
     "name": "stderr",
     "output_type": "stream",
     "text": [
      "Processing:   0%|          | 0/554 [00:00<?, ?it/s]"
     ]
    },
    {
     "name": "stdout",
     "output_type": "stream",
     "text": [
      "AALR3.SA\n",
      "[*********************100%%**********************]  1 of 1 completed"
     ]
    },
    {
     "name": "stderr",
     "output_type": "stream",
     "text": [
      "Processing:   0%|          | 1/554 [00:00<07:17,  1.26it/s]"
     ]
    },
    {
     "name": "stdout",
     "output_type": "stream",
     "text": [
      "\n",
      "ABCB4.SA\n",
      "[*********************100%%**********************]  1 of 1 completed"
     ]
    },
    {
     "name": "stderr",
     "output_type": "stream",
     "text": [
      "Processing:   0%|          | 2/554 [00:01<04:33,  2.02it/s]"
     ]
    },
    {
     "name": "stdout",
     "output_type": "stream",
     "text": [
      "\n",
      "ABEV3.SA\n",
      "[*********************100%%**********************]  1 of 1 completed"
     ]
    },
    {
     "name": "stderr",
     "output_type": "stream",
     "text": [
      "Processing:   1%|          | 3/554 [00:01<03:40,  2.49it/s]"
     ]
    },
    {
     "name": "stdout",
     "output_type": "stream",
     "text": [
      "\n",
      "AERI3.SA\n",
      "[*********************100%%**********************]  1 of 1 completed"
     ]
    },
    {
     "name": "stderr",
     "output_type": "stream",
     "text": [
      "Processing:   1%|          | 4/554 [00:01<03:11,  2.87it/s]"
     ]
    },
    {
     "name": "stdout",
     "output_type": "stream",
     "text": [
      "\n",
      "AESB3.SA\n",
      "[*********************100%%**********************]  1 of 1 completed"
     ]
    },
    {
     "name": "stderr",
     "output_type": "stream",
     "text": [
      "Processing:   1%|          | 5/554 [00:01<03:00,  3.03it/s]"
     ]
    },
    {
     "name": "stdout",
     "output_type": "stream",
     "text": [
      "\n",
      "AESO3.SA\n",
      "[*********************100%%**********************]  1 of 1 completed"
     ]
    },
    {
     "name": "stderr",
     "output_type": "stream",
     "text": [
      "\n",
      "1 Failed download:\n",
      "['AESO3.SA']: Exception('%ticker%: No timezone found, symbol may be delisted')\n",
      "Processing:   1%|          | 6/554 [00:03<05:30,  1.66it/s]"
     ]
    },
    {
     "name": "stdout",
     "output_type": "stream",
     "text": [
      "\n",
      "AFLT3.SA\n",
      "[*********************100%%**********************]  1 of 1 completed"
     ]
    },
    {
     "name": "stderr",
     "output_type": "stream",
     "text": [
      "Processing:   1%|▏         | 7/554 [00:03<04:34,  2.00it/s]"
     ]
    },
    {
     "name": "stdout",
     "output_type": "stream",
     "text": [
      "\n",
      "AGRO3.SA\n",
      "[*********************100%%**********************]  1 of 1 completed"
     ]
    },
    {
     "name": "stderr",
     "output_type": "stream",
     "text": [
      "Processing:   1%|▏         | 8/554 [00:03<03:58,  2.29it/s]"
     ]
    },
    {
     "name": "stdout",
     "output_type": "stream",
     "text": [
      "\n",
      "AGXY3.SA\n",
      "[*********************100%%**********************]  1 of 1 completed"
     ]
    },
    {
     "name": "stderr",
     "output_type": "stream",
     "text": [
      "Processing:   2%|▏         | 9/554 [00:03<03:30,  2.58it/s]"
     ]
    },
    {
     "name": "stdout",
     "output_type": "stream",
     "text": [
      "\n",
      "AHEB3.SA\n",
      "[*********************100%%**********************]  1 of 1 completed"
     ]
    },
    {
     "name": "stderr",
     "output_type": "stream",
     "text": [
      "Processing:   2%|▏         | 10/554 [00:04<03:11,  2.84it/s]"
     ]
    },
    {
     "name": "stdout",
     "output_type": "stream",
     "text": [
      "\n",
      "AHEB5.SA\n",
      "[*********************100%%**********************]  1 of 1 completed"
     ]
    },
    {
     "name": "stderr",
     "output_type": "stream",
     "text": [
      "Processing:   2%|▏         | 11/554 [00:04<02:57,  3.07it/s]"
     ]
    },
    {
     "name": "stdout",
     "output_type": "stream",
     "text": [
      "\n",
      "AHEB6.SA\n",
      "[*********************100%%**********************]  1 of 1 completed"
     ]
    },
    {
     "name": "stderr",
     "output_type": "stream",
     "text": [
      "Processing:   2%|▏         | 12/554 [00:04<02:49,  3.19it/s]"
     ]
    },
    {
     "name": "stdout",
     "output_type": "stream",
     "text": [
      "\n",
      "ALLD3.SA\n",
      "[*********************100%%**********************]  1 of 1 completed"
     ]
    },
    {
     "name": "stderr",
     "output_type": "stream",
     "text": [
      "Processing:   2%|▏         | 13/554 [00:05<02:43,  3.31it/s]"
     ]
    },
    {
     "name": "stdout",
     "output_type": "stream",
     "text": [
      "\n",
      "ALOS3.SA\n",
      "[*********************100%%**********************]  1 of 1 completed"
     ]
    },
    {
     "name": "stderr",
     "output_type": "stream",
     "text": [
      "\n",
      "1 Failed download:\n",
      "['ALOS3.SA']: Exception(\"%ticker%: Data doesn't exist for startDate = 1641006000, endDate = 1672542000\")\n",
      "Processing:   3%|▎         | 14/554 [00:05<03:52,  2.32it/s]"
     ]
    },
    {
     "name": "stdout",
     "output_type": "stream",
     "text": [
      "\n",
      "ALOS99.SA\n",
      "[*********************100%%**********************]  1 of 1 completed"
     ]
    },
    {
     "name": "stderr",
     "output_type": "stream",
     "text": [
      "\n",
      "1 Failed download:\n",
      "['ALOS99.SA']: Exception('%ticker%: No timezone found, symbol may be delisted')\n",
      "Processing:   3%|▎         | 15/554 [00:06<04:40,  1.92it/s]"
     ]
    },
    {
     "name": "stdout",
     "output_type": "stream",
     "text": [
      "\n",
      "ALPA3.SA\n",
      "[*********************100%%**********************]  1 of 1 completed"
     ]
    },
    {
     "name": "stderr",
     "output_type": "stream",
     "text": [
      "Processing:   3%|▎         | 16/554 [00:06<04:02,  2.22it/s]"
     ]
    },
    {
     "name": "stdout",
     "output_type": "stream",
     "text": [
      "\n",
      "ALPA4.SA\n",
      "[*********************100%%**********************]  1 of 1 completed"
     ]
    },
    {
     "name": "stderr",
     "output_type": "stream",
     "text": [
      "Processing:   3%|▎         | 17/554 [00:07<03:35,  2.49it/s]"
     ]
    },
    {
     "name": "stdout",
     "output_type": "stream",
     "text": [
      "\n",
      "ALPK3.SA\n",
      "[*********************100%%**********************]  1 of 1 completed"
     ]
    },
    {
     "name": "stderr",
     "output_type": "stream",
     "text": [
      "Processing:   3%|▎         | 18/554 [00:07<03:16,  2.73it/s]"
     ]
    },
    {
     "name": "stdout",
     "output_type": "stream",
     "text": [
      "\n",
      "ALUP11.SA\n",
      "[*********************100%%**********************]  1 of 1 completed"
     ]
    },
    {
     "name": "stderr",
     "output_type": "stream",
     "text": [
      "Processing:   3%|▎         | 19/554 [00:07<03:02,  2.94it/s]"
     ]
    },
    {
     "name": "stdout",
     "output_type": "stream",
     "text": [
      "\n",
      "ALUP3.SA\n",
      "[*********************100%%**********************]  1 of 1 completed"
     ]
    },
    {
     "name": "stderr",
     "output_type": "stream",
     "text": [
      "Processing:   4%|▎         | 20/554 [00:07<02:54,  3.07it/s]"
     ]
    },
    {
     "name": "stdout",
     "output_type": "stream",
     "text": [
      "\n",
      "ALUP4.SA\n",
      "[*********************100%%**********************]  1 of 1 completed"
     ]
    },
    {
     "name": "stderr",
     "output_type": "stream",
     "text": [
      "Processing:   4%|▍         | 21/554 [00:08<02:48,  3.17it/s]"
     ]
    },
    {
     "name": "stdout",
     "output_type": "stream",
     "text": [
      "\n",
      "AMAR3.SA\n",
      "[*********************100%%**********************]  1 of 1 completed"
     ]
    },
    {
     "name": "stderr",
     "output_type": "stream",
     "text": [
      "Processing:   4%|▍         | 22/554 [00:08<02:41,  3.29it/s]"
     ]
    },
    {
     "name": "stdout",
     "output_type": "stream",
     "text": [
      "\n",
      "AMBP3.SA\n",
      "[*********************100%%**********************]  1 of 1 completed"
     ]
    },
    {
     "name": "stderr",
     "output_type": "stream",
     "text": [
      "Processing:   4%|▍         | 23/554 [00:08<02:38,  3.35it/s]"
     ]
    },
    {
     "name": "stdout",
     "output_type": "stream",
     "text": [
      "\n",
      "AMER3.SA\n",
      "[*********************100%%**********************]  1 of 1 completed"
     ]
    },
    {
     "name": "stderr",
     "output_type": "stream",
     "text": [
      "Processing:   4%|▍         | 24/554 [00:09<02:38,  3.35it/s]"
     ]
    },
    {
     "name": "stdout",
     "output_type": "stream",
     "text": [
      "\n",
      "ANIM3.SA\n",
      "[*********************100%%**********************]  1 of 1 completed"
     ]
    },
    {
     "name": "stderr",
     "output_type": "stream",
     "text": [
      "Processing:   5%|▍         | 25/554 [00:09<02:34,  3.43it/s]"
     ]
    },
    {
     "name": "stdout",
     "output_type": "stream",
     "text": [
      "\n",
      "APER3.SA\n",
      "[*********************100%%**********************]  1 of 1 completed"
     ]
    },
    {
     "name": "stderr",
     "output_type": "stream",
     "text": [
      "Processing:   5%|▍         | 26/554 [00:09<02:35,  3.40it/s]"
     ]
    },
    {
     "name": "stdout",
     "output_type": "stream",
     "text": [
      "\n",
      "APTI3.SA\n",
      "[*********************100%%**********************]  1 of 1 completed"
     ]
    },
    {
     "name": "stderr",
     "output_type": "stream",
     "text": [
      "\n",
      "1 Failed download:\n",
      "['APTI3.SA']: Exception('%ticker%: No timezone found, symbol may be delisted')\n",
      "Processing:   5%|▍         | 27/554 [00:10<04:16,  2.06it/s]"
     ]
    },
    {
     "name": "stdout",
     "output_type": "stream",
     "text": [
      "\n",
      "APTI4.SA\n",
      "[*********************100%%**********************]  1 of 1 completed"
     ]
    },
    {
     "name": "stderr",
     "output_type": "stream",
     "text": [
      "\n",
      "1 Failed download:\n",
      "['APTI4.SA']: Exception('%ticker%: No timezone found, symbol may be delisted')\n",
      "Processing:   5%|▌         | 28/554 [00:11<05:02,  1.74it/s]"
     ]
    },
    {
     "name": "stdout",
     "output_type": "stream",
     "text": [
      "\n",
      "ARML3.SA\n",
      "[*********************100%%**********************]  1 of 1 completed"
     ]
    },
    {
     "name": "stderr",
     "output_type": "stream",
     "text": [
      "Processing:   5%|▌         | 29/554 [00:11<04:51,  1.80it/s]"
     ]
    },
    {
     "name": "stdout",
     "output_type": "stream",
     "text": [
      "\n",
      "ARZZ3.SA\n",
      "[*********************100%%**********************]  1 of 1 completed"
     ]
    },
    {
     "name": "stderr",
     "output_type": "stream",
     "text": [
      "Processing:   5%|▌         | 30/554 [00:12<04:12,  2.08it/s]"
     ]
    },
    {
     "name": "stdout",
     "output_type": "stream",
     "text": [
      "\n",
      "ASAI3.SA\n",
      "[*********************100%%**********************]  1 of 1 completed"
     ]
    },
    {
     "name": "stderr",
     "output_type": "stream",
     "text": [
      "Processing:   6%|▌         | 31/554 [00:12<03:44,  2.33it/s]"
     ]
    },
    {
     "name": "stdout",
     "output_type": "stream",
     "text": [
      "\n",
      "ATMP3.SA\n",
      "[*********************100%%**********************]  1 of 1 completed"
     ]
    },
    {
     "name": "stderr",
     "output_type": "stream",
     "text": [
      "Processing:   6%|▌         | 32/554 [00:12<03:20,  2.61it/s]"
     ]
    },
    {
     "name": "stdout",
     "output_type": "stream",
     "text": [
      "\n",
      "ATOM3.SA\n",
      "[*********************100%%**********************]  1 of 1 completed"
     ]
    },
    {
     "name": "stderr",
     "output_type": "stream",
     "text": [
      "Processing:   6%|▌         | 33/554 [00:13<03:03,  2.84it/s]"
     ]
    },
    {
     "name": "stdout",
     "output_type": "stream",
     "text": [
      "\n",
      "AURE3.SA\n",
      "[*********************100%%**********************]  1 of 1 completed"
     ]
    },
    {
     "name": "stderr",
     "output_type": "stream",
     "text": [
      "Processing:   6%|▌         | 34/554 [00:13<02:51,  3.04it/s]"
     ]
    },
    {
     "name": "stdout",
     "output_type": "stream",
     "text": [
      "\n",
      "AVLL3.SA\n",
      "[*********************100%%**********************]  1 of 1 completed"
     ]
    },
    {
     "name": "stderr",
     "output_type": "stream",
     "text": [
      "Processing:   6%|▋         | 35/554 [00:13<02:42,  3.19it/s]"
     ]
    },
    {
     "name": "stdout",
     "output_type": "stream",
     "text": [
      "\n",
      "AZEV3.SA\n",
      "[*********************100%%**********************]  1 of 1 completed"
     ]
    },
    {
     "name": "stderr",
     "output_type": "stream",
     "text": [
      "Processing:   6%|▋         | 36/554 [00:13<02:37,  3.30it/s]"
     ]
    },
    {
     "name": "stdout",
     "output_type": "stream",
     "text": [
      "\n",
      "AZEV4.SA\n",
      "[*********************100%%**********************]  1 of 1 completed"
     ]
    },
    {
     "name": "stderr",
     "output_type": "stream",
     "text": [
      "Processing:   7%|▋         | 37/554 [00:14<02:32,  3.39it/s]"
     ]
    },
    {
     "name": "stdout",
     "output_type": "stream",
     "text": [
      "\n",
      "AZUL4.SA\n",
      "[*********************100%%**********************]  1 of 1 completed"
     ]
    },
    {
     "name": "stderr",
     "output_type": "stream",
     "text": [
      "Processing:   7%|▋         | 38/554 [00:14<02:27,  3.49it/s]"
     ]
    },
    {
     "name": "stdout",
     "output_type": "stream",
     "text": [
      "\n",
      "B3SA3.SA\n",
      "[*********************100%%**********************]  1 of 1 completed"
     ]
    },
    {
     "name": "stderr",
     "output_type": "stream",
     "text": [
      "Processing:   7%|▋         | 39/554 [00:14<02:28,  3.46it/s]"
     ]
    },
    {
     "name": "stdout",
     "output_type": "stream",
     "text": [
      "\n",
      "BAHI3.SA\n",
      "[*********************100%%**********************]  1 of 1 completed"
     ]
    },
    {
     "name": "stderr",
     "output_type": "stream",
     "text": [
      "Processing:   7%|▋         | 40/554 [00:15<03:00,  2.85it/s]"
     ]
    },
    {
     "name": "stdout",
     "output_type": "stream",
     "text": [
      "\n",
      "BALM3.SA\n",
      "[*********************100%%**********************]  1 of 1 completed"
     ]
    },
    {
     "name": "stderr",
     "output_type": "stream",
     "text": [
      "Processing:   7%|▋         | 41/554 [00:15<02:51,  2.99it/s]"
     ]
    },
    {
     "name": "stdout",
     "output_type": "stream",
     "text": [
      "\n",
      "BALM4.SA\n",
      "[*********************100%%**********************]  1 of 1 completed"
     ]
    },
    {
     "name": "stderr",
     "output_type": "stream",
     "text": [
      "Processing:   8%|▊         | 42/554 [00:15<02:44,  3.11it/s]"
     ]
    },
    {
     "name": "stdout",
     "output_type": "stream",
     "text": [
      "\n",
      "BAUH3.SA\n",
      "[*********************100%%**********************]  1 of 1 completed"
     ]
    },
    {
     "name": "stderr",
     "output_type": "stream",
     "text": [
      "Processing:   8%|▊         | 43/554 [00:16<02:40,  3.19it/s]"
     ]
    },
    {
     "name": "stdout",
     "output_type": "stream",
     "text": [
      "\n",
      "BAUH4.SA\n",
      "[*********************100%%**********************]  1 of 1 completed"
     ]
    },
    {
     "name": "stderr",
     "output_type": "stream",
     "text": [
      "Processing:   8%|▊         | 44/554 [00:16<02:34,  3.31it/s]"
     ]
    },
    {
     "name": "stdout",
     "output_type": "stream",
     "text": [
      "\n",
      "BAZA3.SA\n",
      "[*********************100%%**********************]  1 of 1 completed"
     ]
    },
    {
     "name": "stderr",
     "output_type": "stream",
     "text": [
      "Processing:   8%|▊         | 45/554 [00:16<02:33,  3.33it/s]"
     ]
    },
    {
     "name": "stdout",
     "output_type": "stream",
     "text": [
      "\n",
      "BBAS11.SA\n",
      "[*********************100%%**********************]  1 of 1 completed"
     ]
    },
    {
     "name": "stderr",
     "output_type": "stream",
     "text": [
      "\n",
      "1 Failed download:\n",
      "['BBAS11.SA']: Exception('%ticker%: No price data found, symbol may be delisted (1d 2022-01-01 -> 2023-01-01)')\n",
      "Processing:   8%|▊         | 46/554 [00:16<02:29,  3.41it/s]"
     ]
    },
    {
     "name": "stdout",
     "output_type": "stream",
     "text": [
      "\n",
      "BBAS12.SA\n",
      "[*********************100%%**********************]  1 of 1 completed"
     ]
    },
    {
     "name": "stderr",
     "output_type": "stream",
     "text": [
      "\n",
      "1 Failed download:\n",
      "['BBAS12.SA']: Exception('%ticker%: No price data found, symbol may be delisted (1d 2022-01-01 -> 2023-01-01)')\n",
      "Processing:   8%|▊         | 47/554 [00:17<02:23,  3.52it/s]"
     ]
    },
    {
     "name": "stdout",
     "output_type": "stream",
     "text": [
      "\n",
      "BBAS3.SA\n",
      "[*********************100%%**********************]  1 of 1 completed"
     ]
    },
    {
     "name": "stderr",
     "output_type": "stream",
     "text": [
      "Processing:   9%|▊         | 48/554 [00:17<02:29,  3.40it/s]"
     ]
    },
    {
     "name": "stdout",
     "output_type": "stream",
     "text": [
      "\n",
      "BBDC3.SA\n",
      "[*********************100%%**********************]  1 of 1 completed"
     ]
    },
    {
     "name": "stderr",
     "output_type": "stream",
     "text": [
      "Processing:   9%|▉         | 49/554 [00:17<02:30,  3.35it/s]"
     ]
    },
    {
     "name": "stdout",
     "output_type": "stream",
     "text": [
      "\n",
      "BBDC4.SA\n",
      "[*********************100%%**********************]  1 of 1 completed"
     ]
    },
    {
     "name": "stderr",
     "output_type": "stream",
     "text": [
      "Processing:   9%|▉         | 50/554 [00:18<02:32,  3.30it/s]"
     ]
    },
    {
     "name": "stdout",
     "output_type": "stream",
     "text": [
      "\n",
      "BBML3.SA\n",
      "[*********************100%%**********************]  1 of 1 completed"
     ]
    },
    {
     "name": "stderr",
     "output_type": "stream",
     "text": [
      "\n",
      "1 Failed download:\n",
      "['BBML3.SA']: Exception('%ticker%: No timezone found, symbol may be delisted')\n",
      "Processing:   9%|▉         | 51/554 [00:18<03:35,  2.34it/s]"
     ]
    },
    {
     "name": "stdout",
     "output_type": "stream",
     "text": [
      "\n",
      "BBSE3.SA\n",
      "[*********************100%%**********************]  1 of 1 completed"
     ]
    },
    {
     "name": "stderr",
     "output_type": "stream",
     "text": [
      "Processing:   9%|▉         | 52/554 [00:19<03:13,  2.60it/s]"
     ]
    },
    {
     "name": "stdout",
     "output_type": "stream",
     "text": [
      "\n",
      "BDLL3.SA\n",
      "[*********************100%%**********************]  1 of 1 completed"
     ]
    },
    {
     "name": "stderr",
     "output_type": "stream",
     "text": [
      "Processing:  10%|▉         | 53/554 [00:19<02:56,  2.84it/s]"
     ]
    },
    {
     "name": "stdout",
     "output_type": "stream",
     "text": [
      "\n",
      "BDLL4.SA\n",
      "[*********************100%%**********************]  1 of 1 completed"
     ]
    },
    {
     "name": "stderr",
     "output_type": "stream",
     "text": [
      "Processing:  10%|▉         | 54/554 [00:19<02:46,  3.01it/s]"
     ]
    },
    {
     "name": "stdout",
     "output_type": "stream",
     "text": [
      "\n",
      "BEEF3.SA\n",
      "[*********************100%%**********************]  1 of 1 completed"
     ]
    },
    {
     "name": "stderr",
     "output_type": "stream",
     "text": [
      "Processing:  10%|▉         | 55/554 [00:20<02:39,  3.12it/s]"
     ]
    },
    {
     "name": "stdout",
     "output_type": "stream",
     "text": [
      "\n",
      "BEES3.SA\n",
      "[*********************100%%**********************]  1 of 1 completed"
     ]
    },
    {
     "name": "stderr",
     "output_type": "stream",
     "text": [
      "Processing:  10%|█         | 56/554 [00:20<02:36,  3.18it/s]"
     ]
    },
    {
     "name": "stdout",
     "output_type": "stream",
     "text": [
      "\n",
      "BEES4.SA\n",
      "[*********************100%%**********************]  1 of 1 completed"
     ]
    },
    {
     "name": "stderr",
     "output_type": "stream",
     "text": [
      "Processing:  10%|█         | 57/554 [00:20<02:32,  3.26it/s]"
     ]
    },
    {
     "name": "stdout",
     "output_type": "stream",
     "text": [
      "\n",
      "BETP3.SA\n",
      "[*********************100%%**********************]  1 of 1 completed"
     ]
    },
    {
     "name": "stderr",
     "output_type": "stream",
     "text": [
      "\n",
      "1 Failed download:\n",
      "['BETP3.SA']: Exception('%ticker%: No timezone found, symbol may be delisted')\n",
      "Processing:  10%|█         | 58/554 [00:21<03:33,  2.32it/s]"
     ]
    },
    {
     "name": "stdout",
     "output_type": "stream",
     "text": [
      "\n",
      "BGIP3.SA\n",
      "[*********************100%%**********************]  1 of 1 completed"
     ]
    },
    {
     "name": "stderr",
     "output_type": "stream",
     "text": [
      "Processing:  11%|█         | 59/554 [00:21<03:12,  2.57it/s]"
     ]
    },
    {
     "name": "stdout",
     "output_type": "stream",
     "text": [
      "\n",
      "BGIP4.SA\n",
      "[*********************100%%**********************]  1 of 1 completed"
     ]
    },
    {
     "name": "stderr",
     "output_type": "stream",
     "text": [
      "Processing:  11%|█         | 60/554 [00:21<03:00,  2.74it/s]"
     ]
    },
    {
     "name": "stdout",
     "output_type": "stream",
     "text": [
      "\n",
      "BHIA3.SA\n",
      "[*********************100%%**********************]  1 of 1 completed"
     ]
    },
    {
     "name": "stderr",
     "output_type": "stream",
     "text": [
      "Processing:  11%|█         | 61/554 [00:22<02:49,  2.90it/s]"
     ]
    },
    {
     "name": "stdout",
     "output_type": "stream",
     "text": [
      "\n",
      "BIOM3.SA\n",
      "[*********************100%%**********************]  1 of 1 completed"
     ]
    },
    {
     "name": "stderr",
     "output_type": "stream",
     "text": [
      "Processing:  11%|█         | 62/554 [00:22<02:39,  3.08it/s]"
     ]
    },
    {
     "name": "stdout",
     "output_type": "stream",
     "text": [
      "\n",
      "BLAU3.SA\n",
      "[*********************100%%**********************]  1 of 1 completed"
     ]
    },
    {
     "name": "stderr",
     "output_type": "stream",
     "text": [
      "Processing:  11%|█▏        | 63/554 [00:22<02:32,  3.22it/s]"
     ]
    },
    {
     "name": "stdout",
     "output_type": "stream",
     "text": [
      "\n",
      "BMEB3.SA\n",
      "[*********************100%%**********************]  1 of 1 completed"
     ]
    },
    {
     "name": "stderr",
     "output_type": "stream",
     "text": [
      "Processing:  12%|█▏        | 64/554 [00:23<02:31,  3.24it/s]"
     ]
    },
    {
     "name": "stdout",
     "output_type": "stream",
     "text": [
      "\n",
      "BMEB4.SA\n",
      "[*********************100%%**********************]  1 of 1 completed"
     ]
    },
    {
     "name": "stderr",
     "output_type": "stream",
     "text": [
      "Processing:  12%|█▏        | 65/554 [00:23<02:27,  3.32it/s]"
     ]
    },
    {
     "name": "stdout",
     "output_type": "stream",
     "text": [
      "\n",
      "BMGB4.SA\n",
      "[*********************100%%**********************]  1 of 1 completed"
     ]
    },
    {
     "name": "stderr",
     "output_type": "stream",
     "text": [
      "Processing:  12%|█▏        | 66/554 [00:23<02:23,  3.40it/s]"
     ]
    },
    {
     "name": "stdout",
     "output_type": "stream",
     "text": [
      "\n",
      "BMIN3.SA\n",
      "[*********************100%%**********************]  1 of 1 completed"
     ]
    },
    {
     "name": "stderr",
     "output_type": "stream",
     "text": [
      "Processing:  12%|█▏        | 67/554 [00:23<02:22,  3.41it/s]"
     ]
    },
    {
     "name": "stdout",
     "output_type": "stream",
     "text": [
      "\n",
      "BMIN4.SA\n",
      "[*********************100%%**********************]  1 of 1 completed"
     ]
    },
    {
     "name": "stderr",
     "output_type": "stream",
     "text": [
      "Processing:  12%|█▏        | 68/554 [00:24<02:20,  3.46it/s]"
     ]
    },
    {
     "name": "stdout",
     "output_type": "stream",
     "text": [
      "\n",
      "BMKS3.SA\n",
      "[*********************100%%**********************]  1 of 1 completed"
     ]
    },
    {
     "name": "stderr",
     "output_type": "stream",
     "text": [
      "Processing:  12%|█▏        | 69/554 [00:24<02:20,  3.44it/s]"
     ]
    },
    {
     "name": "stdout",
     "output_type": "stream",
     "text": [
      "\n",
      "BMOB3.SA\n",
      "[*********************100%%**********************]  1 of 1 completed"
     ]
    },
    {
     "name": "stderr",
     "output_type": "stream",
     "text": [
      "Processing:  13%|█▎        | 70/554 [00:24<02:18,  3.48it/s]"
     ]
    },
    {
     "name": "stdout",
     "output_type": "stream",
     "text": [
      "\n",
      "BNBR3.SA\n",
      "[*********************100%%**********************]  1 of 1 completed"
     ]
    },
    {
     "name": "stderr",
     "output_type": "stream",
     "text": [
      "Processing:  13%|█▎        | 71/554 [00:25<02:17,  3.51it/s]"
     ]
    },
    {
     "name": "stdout",
     "output_type": "stream",
     "text": [
      "\n",
      "BOBR3.SA\n",
      "[*********************100%%**********************]  1 of 1 completed"
     ]
    },
    {
     "name": "stderr",
     "output_type": "stream",
     "text": [
      "Processing:  13%|█▎        | 72/554 [00:25<02:15,  3.56it/s]"
     ]
    },
    {
     "name": "stdout",
     "output_type": "stream",
     "text": [
      "\n",
      "BOBR4.SA\n",
      "[*********************100%%**********************]  1 of 1 completed"
     ]
    },
    {
     "name": "stderr",
     "output_type": "stream",
     "text": [
      "Processing:  13%|█▎        | 73/554 [00:25<02:12,  3.63it/s]"
     ]
    },
    {
     "name": "stdout",
     "output_type": "stream",
     "text": [
      "\n",
      "BPAC11.SA\n",
      "[*********************100%%**********************]  1 of 1 completed"
     ]
    },
    {
     "name": "stderr",
     "output_type": "stream",
     "text": [
      "Processing:  13%|█▎        | 74/554 [00:25<02:15,  3.53it/s]"
     ]
    },
    {
     "name": "stdout",
     "output_type": "stream",
     "text": [
      "\n",
      "BPAC3.SA\n",
      "[*********************100%%**********************]  1 of 1 completed"
     ]
    },
    {
     "name": "stderr",
     "output_type": "stream",
     "text": [
      "Processing:  14%|█▎        | 75/554 [00:26<02:17,  3.49it/s]"
     ]
    },
    {
     "name": "stdout",
     "output_type": "stream",
     "text": [
      "\n",
      "BPAC5.SA\n",
      "[*********************100%%**********************]  1 of 1 completed"
     ]
    },
    {
     "name": "stderr",
     "output_type": "stream",
     "text": [
      "Processing:  14%|█▎        | 76/554 [00:26<02:15,  3.52it/s]"
     ]
    },
    {
     "name": "stdout",
     "output_type": "stream",
     "text": [
      "\n",
      "BPAN4.SA\n",
      "[*********************100%%**********************]  1 of 1 completed"
     ]
    },
    {
     "name": "stderr",
     "output_type": "stream",
     "text": [
      "Processing:  14%|█▍        | 77/554 [00:26<02:16,  3.50it/s]"
     ]
    },
    {
     "name": "stdout",
     "output_type": "stream",
     "text": [
      "\n",
      "BPAR3.SA\n",
      "[*********************100%%**********************]  1 of 1 completed"
     ]
    },
    {
     "name": "stderr",
     "output_type": "stream",
     "text": [
      "\n",
      "1 Failed download:\n",
      "['BPAR3.SA']: Exception('%ticker%: No timezone found, symbol may be delisted')\n",
      "Processing:  14%|█▍        | 78/554 [00:27<03:18,  2.39it/s]"
     ]
    },
    {
     "name": "stdout",
     "output_type": "stream",
     "text": [
      "\n",
      "BRAP3.SA\n",
      "[*********************100%%**********************]  1 of 1 completed"
     ]
    },
    {
     "name": "stderr",
     "output_type": "stream",
     "text": [
      "Processing:  14%|█▍        | 79/554 [00:27<03:08,  2.53it/s]"
     ]
    },
    {
     "name": "stdout",
     "output_type": "stream",
     "text": [
      "\n",
      "BRAP4.SA\n",
      "[*********************100%%**********************]  1 of 1 completed"
     ]
    },
    {
     "name": "stderr",
     "output_type": "stream",
     "text": [
      "Processing:  14%|█▍        | 80/554 [00:28<02:55,  2.71it/s]"
     ]
    },
    {
     "name": "stdout",
     "output_type": "stream",
     "text": [
      "\n",
      "BRBI11.SA\n",
      "[*********************100%%**********************]  1 of 1 completed"
     ]
    },
    {
     "name": "stderr",
     "output_type": "stream",
     "text": [
      "Processing:  15%|█▍        | 81/554 [00:28<02:43,  2.89it/s]"
     ]
    },
    {
     "name": "stdout",
     "output_type": "stream",
     "text": [
      "\n",
      "BRFS3.SA\n",
      "[*********************100%%**********************]  1 of 1 completed"
     ]
    },
    {
     "name": "stderr",
     "output_type": "stream",
     "text": [
      "Processing:  15%|█▍        | 82/554 [00:28<02:34,  3.05it/s]"
     ]
    },
    {
     "name": "stdout",
     "output_type": "stream",
     "text": [
      "\n",
      "BRGE11.SA\n",
      "[*********************100%%**********************]  1 of 1 completed"
     ]
    },
    {
     "name": "stderr",
     "output_type": "stream",
     "text": [
      "Processing:  15%|█▍        | 83/554 [00:28<02:28,  3.16it/s]"
     ]
    },
    {
     "name": "stdout",
     "output_type": "stream",
     "text": [
      "\n",
      "BRGE12.SA\n",
      "[*********************100%%**********************]  1 of 1 completed"
     ]
    },
    {
     "name": "stderr",
     "output_type": "stream",
     "text": [
      "Processing:  15%|█▌        | 84/554 [00:29<02:29,  3.14it/s]"
     ]
    },
    {
     "name": "stdout",
     "output_type": "stream",
     "text": [
      "\n",
      "BRGE3.SA\n",
      "[*********************100%%**********************]  1 of 1 completed"
     ]
    },
    {
     "name": "stderr",
     "output_type": "stream",
     "text": [
      "Processing:  15%|█▌        | 85/554 [00:29<02:26,  3.19it/s]"
     ]
    },
    {
     "name": "stdout",
     "output_type": "stream",
     "text": [
      "\n",
      "BRGE5.SA\n",
      "[*********************100%%**********************]  1 of 1 completed"
     ]
    },
    {
     "name": "stderr",
     "output_type": "stream",
     "text": [
      "Processing:  16%|█▌        | 86/554 [00:29<02:23,  3.27it/s]"
     ]
    },
    {
     "name": "stdout",
     "output_type": "stream",
     "text": [
      "\n",
      "BRGE6.SA\n",
      "[*********************100%%**********************]  1 of 1 completed"
     ]
    },
    {
     "name": "stderr",
     "output_type": "stream",
     "text": [
      "Processing:  16%|█▌        | 87/554 [00:30<02:19,  3.34it/s]"
     ]
    },
    {
     "name": "stdout",
     "output_type": "stream",
     "text": [
      "\n",
      "BRGE7.SA\n",
      "[*********************100%%**********************]  1 of 1 completed"
     ]
    },
    {
     "name": "stderr",
     "output_type": "stream",
     "text": [
      "Processing:  16%|█▌        | 88/554 [00:30<02:16,  3.41it/s]"
     ]
    },
    {
     "name": "stdout",
     "output_type": "stream",
     "text": [
      "\n",
      "BRGE8.SA\n",
      "[*********************100%%**********************]  1 of 1 completed"
     ]
    },
    {
     "name": "stderr",
     "output_type": "stream",
     "text": [
      "Processing:  16%|█▌        | 89/554 [00:30<02:14,  3.45it/s]"
     ]
    },
    {
     "name": "stdout",
     "output_type": "stream",
     "text": [
      "\n",
      "BRIT3.SA\n",
      "[*********************100%%**********************]  1 of 1 completed"
     ]
    },
    {
     "name": "stderr",
     "output_type": "stream",
     "text": [
      "Processing:  16%|█▌        | 90/554 [00:31<02:12,  3.49it/s]"
     ]
    },
    {
     "name": "stdout",
     "output_type": "stream",
     "text": [
      "\n",
      "BRIV3.SA\n",
      "[*********************100%%**********************]  1 of 1 completed"
     ]
    },
    {
     "name": "stderr",
     "output_type": "stream",
     "text": [
      "Processing:  16%|█▋        | 91/554 [00:31<02:12,  3.51it/s]"
     ]
    },
    {
     "name": "stdout",
     "output_type": "stream",
     "text": [
      "\n",
      "BRIV4.SA\n",
      "[*********************100%%**********************]  1 of 1 completed"
     ]
    },
    {
     "name": "stderr",
     "output_type": "stream",
     "text": [
      "Processing:  17%|█▋        | 92/554 [00:31<02:43,  2.83it/s]"
     ]
    },
    {
     "name": "stdout",
     "output_type": "stream",
     "text": [
      "\n",
      "BRKM3.SA\n",
      "[*********************100%%**********************]  1 of 1 completed"
     ]
    },
    {
     "name": "stderr",
     "output_type": "stream",
     "text": [
      "Processing:  17%|█▋        | 93/554 [00:32<02:33,  3.01it/s]"
     ]
    },
    {
     "name": "stdout",
     "output_type": "stream",
     "text": [
      "\n",
      "BRKM5.SA\n",
      "[*********************100%%**********************]  1 of 1 completed"
     ]
    },
    {
     "name": "stderr",
     "output_type": "stream",
     "text": [
      "Processing:  17%|█▋        | 94/554 [00:32<02:29,  3.08it/s]"
     ]
    },
    {
     "name": "stdout",
     "output_type": "stream",
     "text": [
      "\n",
      "BRKM6.SA\n",
      "[*********************100%%**********************]  1 of 1 completed"
     ]
    },
    {
     "name": "stderr",
     "output_type": "stream",
     "text": [
      "Processing:  17%|█▋        | 95/554 [00:32<02:23,  3.20it/s]"
     ]
    },
    {
     "name": "stdout",
     "output_type": "stream",
     "text": [
      "\n",
      "BRQB3.SA\n",
      "[*********************100%%**********************]  1 of 1 completed"
     ]
    },
    {
     "name": "stderr",
     "output_type": "stream",
     "text": [
      "\n",
      "1 Failed download:\n",
      "['BRQB3.SA']: Exception('%ticker%: No price data found, symbol may be delisted (1d 2022-01-01 -> 2023-01-01)')\n",
      "Processing:  17%|█▋        | 96/554 [00:32<02:16,  3.37it/s]"
     ]
    },
    {
     "name": "stdout",
     "output_type": "stream",
     "text": [
      "\n",
      "BRSR3.SA\n",
      "[*********************100%%**********************]  1 of 1 completed"
     ]
    },
    {
     "name": "stderr",
     "output_type": "stream",
     "text": [
      "Processing:  18%|█▊        | 97/554 [00:33<02:16,  3.34it/s]"
     ]
    },
    {
     "name": "stdout",
     "output_type": "stream",
     "text": [
      "\n",
      "BRSR5.SA\n",
      "[*********************100%%**********************]  1 of 1 completed"
     ]
    },
    {
     "name": "stderr",
     "output_type": "stream",
     "text": [
      "Processing:  18%|█▊        | 98/554 [00:33<02:15,  3.37it/s]"
     ]
    },
    {
     "name": "stdout",
     "output_type": "stream",
     "text": [
      "\n",
      "BRSR6.SA\n",
      "[*********************100%%**********************]  1 of 1 completed"
     ]
    },
    {
     "name": "stderr",
     "output_type": "stream",
     "text": [
      "Processing:  18%|█▊        | 99/554 [00:33<02:14,  3.39it/s]"
     ]
    },
    {
     "name": "stdout",
     "output_type": "stream",
     "text": [
      "\n",
      "BSLI3.SA\n",
      "[*********************100%%**********************]  1 of 1 completed"
     ]
    },
    {
     "name": "stderr",
     "output_type": "stream",
     "text": [
      "Processing:  18%|█▊        | 100/554 [00:34<02:14,  3.39it/s]"
     ]
    },
    {
     "name": "stdout",
     "output_type": "stream",
     "text": [
      "\n",
      "BSLI4.SA\n",
      "[*********************100%%**********************]  1 of 1 completed"
     ]
    },
    {
     "name": "stderr",
     "output_type": "stream",
     "text": [
      "Processing:  18%|█▊        | 101/554 [00:34<02:12,  3.42it/s]"
     ]
    },
    {
     "name": "stdout",
     "output_type": "stream",
     "text": [
      "\n",
      "CABI3.SA\n",
      "[*********************100%%**********************]  1 of 1 completed"
     ]
    },
    {
     "name": "stderr",
     "output_type": "stream",
     "text": [
      "\n",
      "1 Failed download:\n",
      "['CABI3.SA']: Exception('%ticker%: No timezone found, symbol may be delisted')\n",
      "Processing:  18%|█▊        | 102/554 [00:35<03:15,  2.31it/s]"
     ]
    },
    {
     "name": "stdout",
     "output_type": "stream",
     "text": [
      "\n",
      "CALI3.SA\n",
      "[*********************100%%**********************]  1 of 1 completed"
     ]
    },
    {
     "name": "stderr",
     "output_type": "stream",
     "text": [
      "Processing:  19%|█▊        | 103/554 [00:35<02:55,  2.57it/s]"
     ]
    },
    {
     "name": "stdout",
     "output_type": "stream",
     "text": [
      "\n",
      "CAMB3.SA\n",
      "[*********************100%%**********************]  1 of 1 completed"
     ]
    },
    {
     "name": "stderr",
     "output_type": "stream",
     "text": [
      "Processing:  19%|█▉        | 104/554 [00:35<02:43,  2.76it/s]"
     ]
    },
    {
     "name": "stdout",
     "output_type": "stream",
     "text": [
      "\n",
      "CAML3.SA\n",
      "[*********************100%%**********************]  1 of 1 completed"
     ]
    },
    {
     "name": "stderr",
     "output_type": "stream",
     "text": [
      "Processing:  19%|█▉        | 105/554 [00:36<02:33,  2.92it/s]"
     ]
    },
    {
     "name": "stdout",
     "output_type": "stream",
     "text": [
      "\n",
      "CASH3.SA\n",
      "[*********************100%%**********************]  1 of 1 completed"
     ]
    },
    {
     "name": "stderr",
     "output_type": "stream",
     "text": [
      "Processing:  19%|█▉        | 106/554 [00:36<02:51,  2.61it/s]"
     ]
    },
    {
     "name": "stdout",
     "output_type": "stream",
     "text": [
      "\n",
      "CASN3.SA\n",
      "[*********************100%%**********************]  1 of 1 completed"
     ]
    },
    {
     "name": "stderr",
     "output_type": "stream",
     "text": [
      "Processing:  19%|█▉        | 107/554 [00:36<02:39,  2.80it/s]"
     ]
    },
    {
     "name": "stdout",
     "output_type": "stream",
     "text": [
      "\n",
      "CASN4.SA\n",
      "[*********************100%%**********************]  1 of 1 completed"
     ]
    },
    {
     "name": "stderr",
     "output_type": "stream",
     "text": [
      "Processing:  19%|█▉        | 108/554 [00:37<02:28,  3.00it/s]"
     ]
    },
    {
     "name": "stdout",
     "output_type": "stream",
     "text": [
      "\n",
      "CATA3.SA\n",
      "[*********************100%%**********************]  1 of 1 completed"
     ]
    },
    {
     "name": "stderr",
     "output_type": "stream",
     "text": [
      "\n",
      "1 Failed download:\n",
      "['CATA3.SA']: Exception('%ticker%: No timezone found, symbol may be delisted')\n",
      "Processing:  20%|█▉        | 109/554 [00:37<03:20,  2.22it/s]"
     ]
    },
    {
     "name": "stdout",
     "output_type": "stream",
     "text": [
      "\n",
      "CATA4.SA\n",
      "[*********************100%%**********************]  1 of 1 completed"
     ]
    },
    {
     "name": "stderr",
     "output_type": "stream",
     "text": [
      "\n",
      "1 Failed download:\n",
      "['CATA4.SA']: Exception('%ticker%: No timezone found, symbol may be delisted')\n",
      "Processing:  20%|█▉        | 110/554 [00:38<03:59,  1.85it/s]"
     ]
    },
    {
     "name": "stdout",
     "output_type": "stream",
     "text": [
      "\n",
      "CBAV3.SA\n",
      "[*********************100%%**********************]  1 of 1 completed"
     ]
    },
    {
     "name": "stderr",
     "output_type": "stream",
     "text": [
      "Processing:  20%|██        | 111/554 [00:38<03:23,  2.18it/s]"
     ]
    },
    {
     "name": "stdout",
     "output_type": "stream",
     "text": [
      "\n",
      "CBEE3.SA\n",
      "[*********************100%%**********************]  1 of 1 completed"
     ]
    },
    {
     "name": "stderr",
     "output_type": "stream",
     "text": [
      "Processing:  20%|██        | 112/554 [00:39<03:01,  2.44it/s]"
     ]
    },
    {
     "name": "stdout",
     "output_type": "stream",
     "text": [
      "\n",
      "CCRO3.SA\n",
      "[*********************100%%**********************]  1 of 1 completed"
     ]
    },
    {
     "name": "stderr",
     "output_type": "stream",
     "text": [
      "Processing:  20%|██        | 113/554 [00:39<02:44,  2.68it/s]"
     ]
    },
    {
     "name": "stdout",
     "output_type": "stream",
     "text": [
      "\n",
      "CEAB3.SA\n",
      "[*********************100%%**********************]  1 of 1 completed"
     ]
    },
    {
     "name": "stderr",
     "output_type": "stream",
     "text": [
      "Processing:  21%|██        | 114/554 [00:39<02:30,  2.93it/s]"
     ]
    },
    {
     "name": "stdout",
     "output_type": "stream",
     "text": [
      "\n",
      "CEBR3.SA\n",
      "[*********************100%%**********************]  1 of 1 completed"
     ]
    },
    {
     "name": "stderr",
     "output_type": "stream",
     "text": [
      "Processing:  21%|██        | 115/554 [00:40<02:23,  3.06it/s]"
     ]
    },
    {
     "name": "stdout",
     "output_type": "stream",
     "text": [
      "\n",
      "CEBR5.SA\n",
      "[*********************100%%**********************]  1 of 1 completed"
     ]
    },
    {
     "name": "stderr",
     "output_type": "stream",
     "text": [
      "Processing:  21%|██        | 116/554 [00:40<02:18,  3.16it/s]"
     ]
    },
    {
     "name": "stdout",
     "output_type": "stream",
     "text": [
      "\n",
      "CEBR6.SA\n",
      "[*********************100%%**********************]  1 of 1 completed"
     ]
    },
    {
     "name": "stderr",
     "output_type": "stream",
     "text": [
      "Processing:  21%|██        | 117/554 [00:40<02:16,  3.21it/s]"
     ]
    },
    {
     "name": "stdout",
     "output_type": "stream",
     "text": [
      "\n",
      "CEDO3.SA\n",
      "[*********************100%%**********************]  1 of 1 completed"
     ]
    },
    {
     "name": "stderr",
     "output_type": "stream",
     "text": [
      "Processing:  21%|██▏       | 118/554 [00:40<02:10,  3.34it/s]"
     ]
    },
    {
     "name": "stdout",
     "output_type": "stream",
     "text": [
      "\n",
      "CEDO4.SA\n",
      "[*********************100%%**********************]  1 of 1 completed"
     ]
    },
    {
     "name": "stderr",
     "output_type": "stream",
     "text": [
      "Processing:  21%|██▏       | 119/554 [00:41<02:06,  3.44it/s]"
     ]
    },
    {
     "name": "stdout",
     "output_type": "stream",
     "text": [
      "\n",
      "CEEB3.SA\n",
      "[*********************100%%**********************]  1 of 1 completed"
     ]
    },
    {
     "name": "stderr",
     "output_type": "stream",
     "text": [
      "Processing:  22%|██▏       | 120/554 [00:41<02:08,  3.39it/s]"
     ]
    },
    {
     "name": "stdout",
     "output_type": "stream",
     "text": [
      "\n",
      "CEEB5.SA\n",
      "[*********************100%%**********************]  1 of 1 completed"
     ]
    },
    {
     "name": "stderr",
     "output_type": "stream",
     "text": [
      "Processing:  22%|██▏       | 121/554 [00:41<02:07,  3.38it/s]"
     ]
    },
    {
     "name": "stdout",
     "output_type": "stream",
     "text": [
      "\n",
      "CEEB6.SA\n",
      "[*********************100%%**********************]  1 of 1 completed"
     ]
    },
    {
     "name": "stderr",
     "output_type": "stream",
     "text": [
      "\n",
      "1 Failed download:\n",
      "['CEEB6.SA']: Exception('%ticker%: No timezone found, symbol may be delisted')\n",
      "Processing:  22%|██▏       | 122/554 [00:42<03:05,  2.32it/s]"
     ]
    },
    {
     "name": "stdout",
     "output_type": "stream",
     "text": [
      "\n",
      "CEED3.SA\n",
      "[*********************100%%**********************]  1 of 1 completed"
     ]
    },
    {
     "name": "stderr",
     "output_type": "stream",
     "text": [
      "Processing:  22%|██▏       | 123/554 [00:42<02:46,  2.58it/s]"
     ]
    },
    {
     "name": "stdout",
     "output_type": "stream",
     "text": [
      "\n",
      "CEED4.SA\n",
      "[*********************100%%**********************]  1 of 1 completed"
     ]
    },
    {
     "name": "stderr",
     "output_type": "stream",
     "text": [
      "Processing:  22%|██▏       | 124/554 [00:43<02:31,  2.84it/s]"
     ]
    },
    {
     "name": "stdout",
     "output_type": "stream",
     "text": [
      "\n",
      "CEGR3.SA\n",
      "[*********************100%%**********************]  1 of 1 completed"
     ]
    },
    {
     "name": "stderr",
     "output_type": "stream",
     "text": [
      "Processing:  23%|██▎       | 125/554 [00:43<02:23,  2.99it/s]"
     ]
    },
    {
     "name": "stdout",
     "output_type": "stream",
     "text": [
      "\n",
      "CGAS3.SA\n",
      "[*********************100%%**********************]  1 of 1 completed"
     ]
    },
    {
     "name": "stderr",
     "output_type": "stream",
     "text": [
      "Processing:  23%|██▎       | 126/554 [00:43<02:16,  3.14it/s]"
     ]
    },
    {
     "name": "stdout",
     "output_type": "stream",
     "text": [
      "\n",
      "CGAS5.SA\n",
      "[*********************100%%**********************]  1 of 1 completed"
     ]
    },
    {
     "name": "stderr",
     "output_type": "stream",
     "text": [
      "Processing:  23%|██▎       | 127/554 [00:43<02:12,  3.23it/s]"
     ]
    },
    {
     "name": "stdout",
     "output_type": "stream",
     "text": [
      "\n",
      "CGEE3.SA\n",
      "[*********************100%%**********************]  1 of 1 completed"
     ]
    },
    {
     "name": "stderr",
     "output_type": "stream",
     "text": [
      "\n",
      "1 Failed download:\n",
      "['CGEE3.SA']: Exception('%ticker%: No timezone found, symbol may be delisted')\n",
      "Processing:  23%|██▎       | 128/554 [00:44<03:10,  2.24it/s]"
     ]
    },
    {
     "name": "stdout",
     "output_type": "stream",
     "text": [
      "\n",
      "CGEE4.SA\n",
      "[*********************100%%**********************]  1 of 1 completed"
     ]
    },
    {
     "name": "stderr",
     "output_type": "stream",
     "text": [
      "\n",
      "1 Failed download:\n",
      "['CGEE4.SA']: Exception('%ticker%: No timezone found, symbol may be delisted')\n",
      "Processing:  23%|██▎       | 129/554 [00:45<03:45,  1.88it/s]"
     ]
    },
    {
     "name": "stdout",
     "output_type": "stream",
     "text": [
      "\n",
      "CGRA3.SA\n",
      "[*********************100%%**********************]  1 of 1 completed"
     ]
    },
    {
     "name": "stderr",
     "output_type": "stream",
     "text": [
      "Processing:  23%|██▎       | 130/554 [00:45<03:14,  2.18it/s]"
     ]
    },
    {
     "name": "stdout",
     "output_type": "stream",
     "text": [
      "\n",
      "CGRA4.SA\n",
      "[*********************100%%**********************]  1 of 1 completed"
     ]
    },
    {
     "name": "stderr",
     "output_type": "stream",
     "text": [
      "Processing:  24%|██▎       | 131/554 [00:45<02:52,  2.45it/s]"
     ]
    },
    {
     "name": "stdout",
     "output_type": "stream",
     "text": [
      "\n",
      "CIEL3.SA\n",
      "[*********************100%%**********************]  1 of 1 completed"
     ]
    },
    {
     "name": "stderr",
     "output_type": "stream",
     "text": [
      "Processing:  24%|██▍       | 132/554 [00:46<02:38,  2.66it/s]"
     ]
    },
    {
     "name": "stdout",
     "output_type": "stream",
     "text": [
      "\n",
      "CLSA3.SA\n",
      "[*********************100%%**********************]  1 of 1 completed"
     ]
    },
    {
     "name": "stderr",
     "output_type": "stream",
     "text": [
      "Processing:  24%|██▍       | 133/554 [00:46<02:25,  2.90it/s]"
     ]
    },
    {
     "name": "stdout",
     "output_type": "stream",
     "text": [
      "\n",
      "CLSC3.SA\n",
      "[*********************100%%**********************]  1 of 1 completed"
     ]
    },
    {
     "name": "stderr",
     "output_type": "stream",
     "text": [
      "Processing:  24%|██▍       | 134/554 [00:46<02:17,  3.04it/s]"
     ]
    },
    {
     "name": "stdout",
     "output_type": "stream",
     "text": [
      "\n",
      "CLSC4.SA\n",
      "[*********************100%%**********************]  1 of 1 completed"
     ]
    },
    {
     "name": "stderr",
     "output_type": "stream",
     "text": [
      "Processing:  24%|██▍       | 135/554 [00:47<02:11,  3.18it/s]"
     ]
    },
    {
     "name": "stdout",
     "output_type": "stream",
     "text": [
      "\n",
      "CMIG3.SA\n",
      "[*********************100%%**********************]  1 of 1 completed"
     ]
    },
    {
     "name": "stderr",
     "output_type": "stream",
     "text": [
      "Processing:  25%|██▍       | 136/554 [00:47<02:10,  3.21it/s]"
     ]
    },
    {
     "name": "stdout",
     "output_type": "stream",
     "text": [
      "\n",
      "CMIG4.SA\n",
      "[*********************100%%**********************]  1 of 1 completed"
     ]
    },
    {
     "name": "stderr",
     "output_type": "stream",
     "text": [
      "Processing:  25%|██▍       | 137/554 [00:47<02:07,  3.28it/s]"
     ]
    },
    {
     "name": "stdout",
     "output_type": "stream",
     "text": [
      "\n",
      "CMIN3.SA\n",
      "[*********************100%%**********************]  1 of 1 completed"
     ]
    },
    {
     "name": "stderr",
     "output_type": "stream",
     "text": [
      "Processing:  25%|██▍       | 138/554 [00:48<02:03,  3.36it/s]"
     ]
    },
    {
     "name": "stdout",
     "output_type": "stream",
     "text": [
      "\n",
      "CMSA3.SA\n",
      "[*********************100%%**********************]  1 of 1 completed"
     ]
    },
    {
     "name": "stderr",
     "output_type": "stream",
     "text": [
      "\n",
      "1 Failed download:\n",
      "['CMSA3.SA']: Exception('%ticker%: No timezone found, symbol may be delisted')\n",
      "Processing:  25%|██▌       | 139/554 [00:48<03:01,  2.29it/s]"
     ]
    },
    {
     "name": "stdout",
     "output_type": "stream",
     "text": [
      "\n",
      "CMSA4.SA\n",
      "[*********************100%%**********************]  1 of 1 completed"
     ]
    },
    {
     "name": "stderr",
     "output_type": "stream",
     "text": [
      "\n",
      "1 Failed download:\n",
      "['CMSA4.SA']: Exception('%ticker%: No timezone found, symbol may be delisted')\n",
      "Processing:  25%|██▌       | 140/554 [00:49<03:40,  1.88it/s]"
     ]
    },
    {
     "name": "stdout",
     "output_type": "stream",
     "text": [
      "\n",
      "COCE3.SA\n",
      "[*********************100%%**********************]  1 of 1 completed"
     ]
    },
    {
     "name": "stderr",
     "output_type": "stream",
     "text": [
      "Processing:  25%|██▌       | 141/554 [00:49<03:11,  2.16it/s]"
     ]
    },
    {
     "name": "stdout",
     "output_type": "stream",
     "text": [
      "\n",
      "COCE5.SA\n",
      "[*********************100%%**********************]  1 of 1 completed"
     ]
    },
    {
     "name": "stderr",
     "output_type": "stream",
     "text": [
      "Processing:  26%|██▌       | 142/554 [00:50<02:52,  2.39it/s]"
     ]
    },
    {
     "name": "stdout",
     "output_type": "stream",
     "text": [
      "\n",
      "COCE6.SA\n",
      "[*********************100%%**********************]  1 of 1 completed"
     ]
    },
    {
     "name": "stderr",
     "output_type": "stream",
     "text": [
      "Processing:  26%|██▌       | 143/554 [00:50<03:05,  2.21it/s]"
     ]
    },
    {
     "name": "stdout",
     "output_type": "stream",
     "text": [
      "\n",
      "COGN3.SA\n",
      "[*********************100%%**********************]  1 of 1 completed"
     ]
    },
    {
     "name": "stderr",
     "output_type": "stream",
     "text": [
      "Processing:  26%|██▌       | 144/554 [00:50<02:46,  2.47it/s]"
     ]
    },
    {
     "name": "stdout",
     "output_type": "stream",
     "text": [
      "\n",
      "COMR3.SA\n",
      "[*********************100%%**********************]  1 of 1 completed"
     ]
    },
    {
     "name": "stderr",
     "output_type": "stream",
     "text": [
      "\n",
      "1 Failed download:\n",
      "['COMR3.SA']: Exception('%ticker%: No timezone found, symbol may be delisted')\n",
      "Processing:  26%|██▌       | 145/554 [00:51<03:25,  1.99it/s]"
     ]
    },
    {
     "name": "stdout",
     "output_type": "stream",
     "text": [
      "\n",
      "CORR3.SA\n",
      "[*********************100%%**********************]  1 of 1 completed"
     ]
    },
    {
     "name": "stderr",
     "output_type": "stream",
     "text": [
      "Processing:  26%|██▋       | 146/554 [00:52<03:05,  2.19it/s]"
     ]
    },
    {
     "name": "stdout",
     "output_type": "stream",
     "text": [
      "\n",
      "CORR4.SA\n",
      "[*********************100%%**********************]  1 of 1 completed"
     ]
    },
    {
     "name": "stderr",
     "output_type": "stream",
     "text": [
      "Processing:  27%|██▋       | 147/554 [00:52<02:44,  2.47it/s]"
     ]
    },
    {
     "name": "stdout",
     "output_type": "stream",
     "text": [
      "\n",
      "CPFE3.SA\n",
      "[*********************100%%**********************]  1 of 1 completed"
     ]
    },
    {
     "name": "stderr",
     "output_type": "stream",
     "text": [
      "Processing:  27%|██▋       | 148/554 [00:52<02:31,  2.68it/s]"
     ]
    },
    {
     "name": "stdout",
     "output_type": "stream",
     "text": [
      "\n",
      "CPLE11.SA\n",
      "[*********************100%%**********************]  1 of 1 completed"
     ]
    },
    {
     "name": "stderr",
     "output_type": "stream",
     "text": [
      "Processing:  27%|██▋       | 149/554 [00:52<02:20,  2.88it/s]"
     ]
    },
    {
     "name": "stdout",
     "output_type": "stream",
     "text": [
      "\n",
      "CPLE3.SA\n",
      "[*********************100%%**********************]  1 of 1 completed"
     ]
    },
    {
     "name": "stderr",
     "output_type": "stream",
     "text": [
      "Processing:  27%|██▋       | 150/554 [00:53<02:14,  3.00it/s]"
     ]
    },
    {
     "name": "stdout",
     "output_type": "stream",
     "text": [
      "\n",
      "CPLE5.SA\n",
      "[*********************100%%**********************]  1 of 1 completed"
     ]
    },
    {
     "name": "stderr",
     "output_type": "stream",
     "text": [
      "Processing:  27%|██▋       | 151/554 [00:53<02:08,  3.13it/s]"
     ]
    },
    {
     "name": "stdout",
     "output_type": "stream",
     "text": [
      "\n",
      "CPLE6.SA\n",
      "[*********************100%%**********************]  1 of 1 completed"
     ]
    },
    {
     "name": "stderr",
     "output_type": "stream",
     "text": [
      "Processing:  27%|██▋       | 152/554 [00:53<02:07,  3.16it/s]"
     ]
    },
    {
     "name": "stdout",
     "output_type": "stream",
     "text": [
      "\n",
      "CRFB3.SA\n",
      "[*********************100%%**********************]  1 of 1 completed"
     ]
    },
    {
     "name": "stderr",
     "output_type": "stream",
     "text": [
      "Processing:  28%|██▊       | 153/554 [00:54<02:02,  3.26it/s]"
     ]
    },
    {
     "name": "stdout",
     "output_type": "stream",
     "text": [
      "\n",
      "CRIV3.SA\n",
      "[*********************100%%**********************]  1 of 1 completed"
     ]
    },
    {
     "name": "stderr",
     "output_type": "stream",
     "text": [
      "Processing:  28%|██▊       | 154/554 [00:54<02:01,  3.30it/s]"
     ]
    },
    {
     "name": "stdout",
     "output_type": "stream",
     "text": [
      "\n",
      "CRIV4.SA\n",
      "[*********************100%%**********************]  1 of 1 completed"
     ]
    },
    {
     "name": "stderr",
     "output_type": "stream",
     "text": [
      "Processing:  28%|██▊       | 155/554 [00:54<01:58,  3.36it/s]"
     ]
    },
    {
     "name": "stdout",
     "output_type": "stream",
     "text": [
      "\n",
      "CRPG3.SA\n",
      "[*********************100%%**********************]  1 of 1 completed"
     ]
    },
    {
     "name": "stderr",
     "output_type": "stream",
     "text": [
      "Processing:  28%|██▊       | 156/554 [00:54<01:57,  3.37it/s]"
     ]
    },
    {
     "name": "stdout",
     "output_type": "stream",
     "text": [
      "\n",
      "CRPG5.SA\n",
      "[*********************100%%**********************]  1 of 1 completed"
     ]
    },
    {
     "name": "stderr",
     "output_type": "stream",
     "text": [
      "Processing:  28%|██▊       | 157/554 [00:55<01:58,  3.35it/s]"
     ]
    },
    {
     "name": "stdout",
     "output_type": "stream",
     "text": [
      "\n",
      "CRPG6.SA\n",
      "[*********************100%%**********************]  1 of 1 completed"
     ]
    },
    {
     "name": "stderr",
     "output_type": "stream",
     "text": [
      "Processing:  29%|██▊       | 158/554 [00:55<01:58,  3.33it/s]"
     ]
    },
    {
     "name": "stdout",
     "output_type": "stream",
     "text": [
      "\n",
      "CRTE3.SA\n",
      "[*********************100%%**********************]  1 of 1 completed"
     ]
    },
    {
     "name": "stderr",
     "output_type": "stream",
     "text": [
      "\n",
      "1 Failed download:\n",
      "['CRTE3.SA']: Exception('%ticker%: No timezone found, symbol may be delisted')\n",
      "Processing:  29%|██▊       | 159/554 [00:56<02:50,  2.31it/s]"
     ]
    },
    {
     "name": "stdout",
     "output_type": "stream",
     "text": [
      "\n",
      "CRTE5.SA\n",
      "[*********************100%%**********************]  1 of 1 completed"
     ]
    },
    {
     "name": "stderr",
     "output_type": "stream",
     "text": [
      "\n",
      "1 Failed download:\n",
      "['CRTE5.SA']: Exception('%ticker%: No timezone found, symbol may be delisted')\n",
      "Processing:  29%|██▉       | 160/554 [00:57<03:51,  1.70it/s]"
     ]
    },
    {
     "name": "stdout",
     "output_type": "stream",
     "text": [
      "\n",
      "CSAB3.SA\n",
      "[*********************100%%**********************]  1 of 1 completed"
     ]
    },
    {
     "name": "stderr",
     "output_type": "stream",
     "text": [
      "Processing:  29%|██▉       | 161/554 [00:57<03:17,  1.99it/s]"
     ]
    },
    {
     "name": "stdout",
     "output_type": "stream",
     "text": [
      "\n",
      "CSAB4.SA\n",
      "[*********************100%%**********************]  1 of 1 completed"
     ]
    },
    {
     "name": "stderr",
     "output_type": "stream",
     "text": [
      "Processing:  29%|██▉       | 162/554 [00:57<02:52,  2.28it/s]"
     ]
    },
    {
     "name": "stdout",
     "output_type": "stream",
     "text": [
      "\n",
      "CSAN3.SA\n",
      "[*********************100%%**********************]  1 of 1 completed"
     ]
    },
    {
     "name": "stderr",
     "output_type": "stream",
     "text": [
      "Processing:  29%|██▉       | 163/554 [00:58<02:34,  2.53it/s]"
     ]
    },
    {
     "name": "stdout",
     "output_type": "stream",
     "text": [
      "\n",
      "CSED3.SA\n",
      "[*********************100%%**********************]  1 of 1 completed"
     ]
    },
    {
     "name": "stderr",
     "output_type": "stream",
     "text": [
      "Processing:  30%|██▉       | 164/554 [00:58<02:21,  2.75it/s]"
     ]
    },
    {
     "name": "stdout",
     "output_type": "stream",
     "text": [
      "\n",
      "CSMG3.SA\n",
      "[*********************100%%**********************]  1 of 1 completed"
     ]
    },
    {
     "name": "stderr",
     "output_type": "stream",
     "text": [
      "Processing:  30%|██▉       | 165/554 [00:58<02:13,  2.91it/s]"
     ]
    },
    {
     "name": "stdout",
     "output_type": "stream",
     "text": [
      "\n",
      "CSNA3.SA\n",
      "[*********************100%%**********************]  1 of 1 completed"
     ]
    },
    {
     "name": "stderr",
     "output_type": "stream",
     "text": [
      "Processing:  30%|██▉       | 166/554 [00:59<02:11,  2.95it/s]"
     ]
    },
    {
     "name": "stdout",
     "output_type": "stream",
     "text": [
      "\n",
      "CSRN3.SA\n",
      "[*********************100%%**********************]  1 of 1 completed"
     ]
    },
    {
     "name": "stderr",
     "output_type": "stream",
     "text": [
      "Processing:  30%|███       | 167/554 [00:59<02:06,  3.05it/s]"
     ]
    },
    {
     "name": "stdout",
     "output_type": "stream",
     "text": [
      "\n",
      "CSRN5.SA\n",
      "[*********************100%%**********************]  1 of 1 completed"
     ]
    },
    {
     "name": "stderr",
     "output_type": "stream",
     "text": [
      "Processing:  30%|███       | 168/554 [00:59<02:03,  3.13it/s]"
     ]
    },
    {
     "name": "stdout",
     "output_type": "stream",
     "text": [
      "\n",
      "CSRN6.SA\n",
      "[*********************100%%**********************]  1 of 1 completed"
     ]
    },
    {
     "name": "stderr",
     "output_type": "stream",
     "text": [
      "Processing:  31%|███       | 169/554 [00:59<02:00,  3.21it/s]"
     ]
    },
    {
     "name": "stdout",
     "output_type": "stream",
     "text": [
      "\n",
      "CSUD3.SA\n",
      "[*********************100%%**********************]  1 of 1 completed"
     ]
    },
    {
     "name": "stderr",
     "output_type": "stream",
     "text": [
      "Processing:  31%|███       | 170/554 [01:00<01:56,  3.30it/s]"
     ]
    },
    {
     "name": "stdout",
     "output_type": "stream",
     "text": [
      "\n",
      "CTBA11B.SA\n",
      "[*********************100%%**********************]  1 of 1 completed"
     ]
    },
    {
     "name": "stderr",
     "output_type": "stream",
     "text": [
      "\n",
      "1 Failed download:\n",
      "['CTBA11B.SA']: Exception('%ticker%: No timezone found, symbol may be delisted')\n",
      "Processing:  31%|███       | 171/554 [01:00<02:45,  2.32it/s]"
     ]
    },
    {
     "name": "stdout",
     "output_type": "stream",
     "text": [
      "\n",
      "CTCA3.SA\n",
      "[*********************100%%**********************]  1 of 1 completed"
     ]
    },
    {
     "name": "stderr",
     "output_type": "stream",
     "text": [
      "\n",
      "1 Failed download:\n",
      "['CTCA3.SA']: Exception('%ticker%: No timezone found, symbol may be delisted')\n",
      "Processing:  31%|███       | 172/554 [01:01<03:19,  1.92it/s]"
     ]
    },
    {
     "name": "stdout",
     "output_type": "stream",
     "text": [
      "\n",
      "CTKA3.SA\n",
      "[*********************100%%**********************]  1 of 1 completed"
     ]
    },
    {
     "name": "stderr",
     "output_type": "stream",
     "text": [
      "Processing:  31%|███       | 173/554 [01:01<02:50,  2.24it/s]"
     ]
    },
    {
     "name": "stdout",
     "output_type": "stream",
     "text": [
      "\n",
      "CTKA4.SA\n",
      "[*********************100%%**********************]  1 of 1 completed"
     ]
    },
    {
     "name": "stderr",
     "output_type": "stream",
     "text": [
      "Processing:  31%|███▏      | 174/554 [01:02<02:30,  2.53it/s]"
     ]
    },
    {
     "name": "stdout",
     "output_type": "stream",
     "text": [
      "\n",
      "CTNM3.SA\n",
      "[*********************100%%**********************]  1 of 1 completed"
     ]
    },
    {
     "name": "stderr",
     "output_type": "stream",
     "text": [
      "Processing:  32%|███▏      | 175/554 [01:02<02:16,  2.78it/s]"
     ]
    },
    {
     "name": "stdout",
     "output_type": "stream",
     "text": [
      "\n",
      "CTNM4.SA\n",
      "[*********************100%%**********************]  1 of 1 completed"
     ]
    },
    {
     "name": "stderr",
     "output_type": "stream",
     "text": [
      "Processing:  32%|███▏      | 176/554 [01:02<02:07,  2.96it/s]"
     ]
    },
    {
     "name": "stdout",
     "output_type": "stream",
     "text": [
      "\n",
      "CTSA3.SA\n",
      "[*********************100%%**********************]  1 of 1 completed"
     ]
    },
    {
     "name": "stderr",
     "output_type": "stream",
     "text": [
      "Processing:  32%|███▏      | 177/554 [01:03<02:02,  3.09it/s]"
     ]
    },
    {
     "name": "stdout",
     "output_type": "stream",
     "text": [
      "\n",
      "CTSA4.SA\n",
      "[*********************100%%**********************]  1 of 1 completed"
     ]
    },
    {
     "name": "stderr",
     "output_type": "stream",
     "text": [
      "Processing:  32%|███▏      | 178/554 [01:03<01:58,  3.17it/s]"
     ]
    },
    {
     "name": "stdout",
     "output_type": "stream",
     "text": [
      "\n",
      "CURY3.SA\n",
      "[*********************100%%**********************]  1 of 1 completed"
     ]
    },
    {
     "name": "stderr",
     "output_type": "stream",
     "text": [
      "Processing:  32%|███▏      | 179/554 [01:03<01:57,  3.20it/s]"
     ]
    },
    {
     "name": "stdout",
     "output_type": "stream",
     "text": [
      "\n",
      "CVCB3.SA\n",
      "[*********************100%%**********************]  1 of 1 completed"
     ]
    },
    {
     "name": "stderr",
     "output_type": "stream",
     "text": [
      "Processing:  32%|███▏      | 180/554 [01:04<01:53,  3.29it/s]"
     ]
    },
    {
     "name": "stdout",
     "output_type": "stream",
     "text": [
      "\n",
      "CXSE3.SA\n",
      "[*********************100%%**********************]  1 of 1 completed"
     ]
    },
    {
     "name": "stderr",
     "output_type": "stream",
     "text": [
      "Processing:  33%|███▎      | 181/554 [01:04<01:50,  3.36it/s]"
     ]
    },
    {
     "name": "stdout",
     "output_type": "stream",
     "text": [
      "\n",
      "CYRE3.SA\n",
      "[*********************100%%**********************]  1 of 1 completed"
     ]
    },
    {
     "name": "stderr",
     "output_type": "stream",
     "text": [
      "Processing:  33%|███▎      | 182/554 [01:04<01:51,  3.33it/s]"
     ]
    },
    {
     "name": "stdout",
     "output_type": "stream",
     "text": [
      "\n",
      "DASA3.SA\n",
      "[*********************100%%**********************]  1 of 1 completed"
     ]
    },
    {
     "name": "stderr",
     "output_type": "stream",
     "text": [
      "Processing:  33%|███▎      | 183/554 [01:04<01:49,  3.39it/s]"
     ]
    },
    {
     "name": "stdout",
     "output_type": "stream",
     "text": [
      "\n",
      "DESK3.SA\n",
      "[*********************100%%**********************]  1 of 1 completed"
     ]
    },
    {
     "name": "stderr",
     "output_type": "stream",
     "text": [
      "Processing:  33%|███▎      | 184/554 [01:05<01:46,  3.48it/s]"
     ]
    },
    {
     "name": "stdout",
     "output_type": "stream",
     "text": [
      "\n",
      "DEXP3.SA\n",
      "[*********************100%%**********************]  1 of 1 completed"
     ]
    },
    {
     "name": "stderr",
     "output_type": "stream",
     "text": [
      "Processing:  33%|███▎      | 185/554 [01:05<01:46,  3.48it/s]"
     ]
    },
    {
     "name": "stdout",
     "output_type": "stream",
     "text": [
      "\n",
      "DEXP4.SA\n",
      "[*********************100%%**********************]  1 of 1 completed"
     ]
    },
    {
     "name": "stderr",
     "output_type": "stream",
     "text": [
      "Processing:  34%|███▎      | 186/554 [01:05<01:48,  3.40it/s]"
     ]
    },
    {
     "name": "stdout",
     "output_type": "stream",
     "text": [
      "\n",
      "DIRR3.SA\n",
      "[*********************100%%**********************]  1 of 1 completed"
     ]
    },
    {
     "name": "stderr",
     "output_type": "stream",
     "text": [
      "Processing:  34%|███▍      | 187/554 [01:06<01:47,  3.41it/s]"
     ]
    },
    {
     "name": "stdout",
     "output_type": "stream",
     "text": [
      "\n",
      "DMFN3.SA\n",
      "[*********************100%%**********************]  1 of 1 completed"
     ]
    },
    {
     "name": "stderr",
     "output_type": "stream",
     "text": [
      "Processing:  34%|███▍      | 188/554 [01:06<01:45,  3.46it/s]"
     ]
    },
    {
     "name": "stdout",
     "output_type": "stream",
     "text": [
      "\n",
      "DMVF3.SA\n",
      "[*********************100%%**********************]  1 of 1 completed"
     ]
    },
    {
     "name": "stderr",
     "output_type": "stream",
     "text": [
      "Processing:  34%|███▍      | 189/554 [01:06<01:43,  3.53it/s]"
     ]
    },
    {
     "name": "stdout",
     "output_type": "stream",
     "text": [
      "\n",
      "DOHL3.SA\n",
      "[*********************100%%**********************]  1 of 1 completed"
     ]
    },
    {
     "name": "stderr",
     "output_type": "stream",
     "text": [
      "Processing:  34%|███▍      | 190/554 [01:06<01:43,  3.52it/s]"
     ]
    },
    {
     "name": "stdout",
     "output_type": "stream",
     "text": [
      "\n",
      "DOHL4.SA\n",
      "[*********************100%%**********************]  1 of 1 completed"
     ]
    },
    {
     "name": "stderr",
     "output_type": "stream",
     "text": [
      "Processing:  34%|███▍      | 191/554 [01:07<01:44,  3.48it/s]"
     ]
    },
    {
     "name": "stdout",
     "output_type": "stream",
     "text": [
      "\n",
      "DOTZ3.SA\n",
      "[*********************100%%**********************]  1 of 1 completed"
     ]
    },
    {
     "name": "stderr",
     "output_type": "stream",
     "text": [
      "Processing:  35%|███▍      | 192/554 [01:07<01:42,  3.54it/s]"
     ]
    },
    {
     "name": "stdout",
     "output_type": "stream",
     "text": [
      "\n",
      "DTCY3.SA\n",
      "[*********************100%%**********************]  1 of 1 completed"
     ]
    },
    {
     "name": "stderr",
     "output_type": "stream",
     "text": [
      "Processing:  35%|███▍      | 193/554 [01:07<01:41,  3.57it/s]"
     ]
    },
    {
     "name": "stdout",
     "output_type": "stream",
     "text": [
      "\n",
      "DTCY4.SA\n",
      "[*********************100%%**********************]  1 of 1 completed"
     ]
    },
    {
     "name": "stderr",
     "output_type": "stream",
     "text": [
      "\n",
      "1 Failed download:\n",
      "['DTCY4.SA']: Exception('%ticker%: No timezone found, symbol may be delisted')\n",
      "Processing:  35%|███▌      | 194/554 [01:08<02:29,  2.41it/s]"
     ]
    },
    {
     "name": "stdout",
     "output_type": "stream",
     "text": [
      "\n",
      "DXCO3.SA\n",
      "[*********************100%%**********************]  1 of 1 completed"
     ]
    },
    {
     "name": "stderr",
     "output_type": "stream",
     "text": [
      "Processing:  35%|███▌      | 195/554 [01:08<02:16,  2.63it/s]"
     ]
    },
    {
     "name": "stdout",
     "output_type": "stream",
     "text": [
      "\n",
      "EALT3.SA\n",
      "[*********************100%%**********************]  1 of 1 completed"
     ]
    },
    {
     "name": "stderr",
     "output_type": "stream",
     "text": [
      "Processing:  35%|███▌      | 196/554 [01:09<02:07,  2.81it/s]"
     ]
    },
    {
     "name": "stdout",
     "output_type": "stream",
     "text": [
      "\n",
      "EALT4.SA\n",
      "[*********************100%%**********************]  1 of 1 completed"
     ]
    },
    {
     "name": "stderr",
     "output_type": "stream",
     "text": [
      "Processing:  36%|███▌      | 197/554 [01:09<01:59,  2.99it/s]"
     ]
    },
    {
     "name": "stdout",
     "output_type": "stream",
     "text": [
      "\n",
      "ECOR3.SA\n",
      "[*********************100%%**********************]  1 of 1 completed"
     ]
    },
    {
     "name": "stderr",
     "output_type": "stream",
     "text": [
      "Processing:  36%|███▌      | 198/554 [01:09<01:54,  3.10it/s]"
     ]
    },
    {
     "name": "stdout",
     "output_type": "stream",
     "text": [
      "\n",
      "EGIE3.SA\n",
      "[*********************100%%**********************]  1 of 1 completed"
     ]
    },
    {
     "name": "stderr",
     "output_type": "stream",
     "text": [
      "Processing:  36%|███▌      | 199/554 [01:09<01:51,  3.19it/s]"
     ]
    },
    {
     "name": "stdout",
     "output_type": "stream",
     "text": [
      "\n",
      "EKTR3.SA\n",
      "[*********************100%%**********************]  1 of 1 completed"
     ]
    },
    {
     "name": "stderr",
     "output_type": "stream",
     "text": [
      "Processing:  36%|███▌      | 200/554 [01:10<01:48,  3.25it/s]"
     ]
    },
    {
     "name": "stdout",
     "output_type": "stream",
     "text": [
      "\n",
      "EKTR4.SA\n",
      "[*********************100%%**********************]  1 of 1 completed"
     ]
    },
    {
     "name": "stderr",
     "output_type": "stream",
     "text": [
      "Processing:  36%|███▋      | 201/554 [01:10<01:48,  3.27it/s]"
     ]
    },
    {
     "name": "stdout",
     "output_type": "stream",
     "text": [
      "\n",
      "ELET3.SA\n",
      "[*********************100%%**********************]  1 of 1 completed"
     ]
    },
    {
     "name": "stderr",
     "output_type": "stream",
     "text": [
      "Processing:  36%|███▋      | 202/554 [01:10<01:46,  3.30it/s]"
     ]
    },
    {
     "name": "stdout",
     "output_type": "stream",
     "text": [
      "\n",
      "ELET5.SA\n",
      "[*********************100%%**********************]  1 of 1 completed"
     ]
    },
    {
     "name": "stderr",
     "output_type": "stream",
     "text": [
      "Processing:  37%|███▋      | 203/554 [01:11<01:46,  3.28it/s]"
     ]
    },
    {
     "name": "stdout",
     "output_type": "stream",
     "text": [
      "\n",
      "ELET6.SA\n",
      "[*********************100%%**********************]  1 of 1 completed"
     ]
    },
    {
     "name": "stderr",
     "output_type": "stream",
     "text": [
      "Processing:  37%|███▋      | 204/554 [01:11<01:46,  3.28it/s]"
     ]
    },
    {
     "name": "stdout",
     "output_type": "stream",
     "text": [
      "\n",
      "ELMD3.SA\n",
      "[*********************100%%**********************]  1 of 1 completed"
     ]
    },
    {
     "name": "stderr",
     "output_type": "stream",
     "text": [
      "Processing:  37%|███▋      | 205/554 [01:11<01:43,  3.38it/s]"
     ]
    },
    {
     "name": "stdout",
     "output_type": "stream",
     "text": [
      "\n",
      "EMAE3.SA\n",
      "[*********************100%%**********************]  1 of 1 completed"
     ]
    },
    {
     "name": "stderr",
     "output_type": "stream",
     "text": [
      "Processing:  37%|███▋      | 206/554 [01:11<01:41,  3.44it/s]"
     ]
    },
    {
     "name": "stdout",
     "output_type": "stream",
     "text": [
      "\n",
      "EMAE4.SA\n",
      "[*********************100%%**********************]  1 of 1 completed"
     ]
    },
    {
     "name": "stderr",
     "output_type": "stream",
     "text": [
      "Processing:  37%|███▋      | 207/554 [01:12<01:42,  3.37it/s]"
     ]
    },
    {
     "name": "stdout",
     "output_type": "stream",
     "text": [
      "\n",
      "EMBR3.SA\n",
      "[*********************100%%**********************]  1 of 1 completed"
     ]
    },
    {
     "name": "stderr",
     "output_type": "stream",
     "text": [
      "Processing:  38%|███▊      | 208/554 [01:12<01:41,  3.40it/s]"
     ]
    },
    {
     "name": "stdout",
     "output_type": "stream",
     "text": [
      "\n",
      "ENAT3.SA\n",
      "[*********************100%%**********************]  1 of 1 completed"
     ]
    },
    {
     "name": "stderr",
     "output_type": "stream",
     "text": [
      "Processing:  38%|███▊      | 209/554 [01:12<01:42,  3.38it/s]"
     ]
    },
    {
     "name": "stdout",
     "output_type": "stream",
     "text": [
      "\n",
      "ENEV3.SA\n",
      "[*********************100%%**********************]  1 of 1 completed"
     ]
    },
    {
     "name": "stderr",
     "output_type": "stream",
     "text": [
      "Processing:  38%|███▊      | 210/554 [01:13<01:39,  3.47it/s]"
     ]
    },
    {
     "name": "stdout",
     "output_type": "stream",
     "text": [
      "\n",
      "ENGI11.SA\n",
      "[*********************100%%**********************]  1 of 1 completed"
     ]
    },
    {
     "name": "stderr",
     "output_type": "stream",
     "text": [
      "Processing:  38%|███▊      | 211/554 [01:13<01:39,  3.46it/s]"
     ]
    },
    {
     "name": "stdout",
     "output_type": "stream",
     "text": [
      "\n",
      "ENGI3.SA\n",
      "[*********************100%%**********************]  1 of 1 completed"
     ]
    },
    {
     "name": "stderr",
     "output_type": "stream",
     "text": [
      "Processing:  38%|███▊      | 212/554 [01:13<01:38,  3.46it/s]"
     ]
    },
    {
     "name": "stdout",
     "output_type": "stream",
     "text": [
      "\n",
      "ENGI4.SA\n",
      "[*********************100%%**********************]  1 of 1 completed"
     ]
    },
    {
     "name": "stderr",
     "output_type": "stream",
     "text": [
      "Processing:  38%|███▊      | 213/554 [01:13<01:37,  3.49it/s]"
     ]
    },
    {
     "name": "stdout",
     "output_type": "stream",
     "text": [
      "\n",
      "ENJU3.SA\n",
      "[*********************100%%**********************]  1 of 1 completed"
     ]
    },
    {
     "name": "stderr",
     "output_type": "stream",
     "text": [
      "Processing:  39%|███▊      | 214/554 [01:14<01:35,  3.56it/s]"
     ]
    },
    {
     "name": "stdout",
     "output_type": "stream",
     "text": [
      "\n",
      "ENMT3.SA\n",
      "[*********************100%%**********************]  1 of 1 completed"
     ]
    },
    {
     "name": "stderr",
     "output_type": "stream",
     "text": [
      "Processing:  39%|███▉      | 215/554 [01:14<01:35,  3.53it/s]"
     ]
    },
    {
     "name": "stdout",
     "output_type": "stream",
     "text": [
      "\n",
      "ENMT4.SA\n",
      "[*********************100%%**********************]  1 of 1 completed"
     ]
    },
    {
     "name": "stderr",
     "output_type": "stream",
     "text": [
      "Processing:  39%|███▉      | 216/554 [01:14<01:36,  3.51it/s]"
     ]
    },
    {
     "name": "stdout",
     "output_type": "stream",
     "text": [
      "\n",
      "EPAR3.SA\n",
      "[*********************100%%**********************]  1 of 1 completed"
     ]
    },
    {
     "name": "stderr",
     "output_type": "stream",
     "text": [
      "Processing:  39%|███▉      | 217/554 [01:15<01:36,  3.51it/s]"
     ]
    },
    {
     "name": "stdout",
     "output_type": "stream",
     "text": [
      "\n",
      "EQMA3B.SA\n",
      "[*********************100%%**********************]  1 of 1 completed"
     ]
    },
    {
     "name": "stderr",
     "output_type": "stream",
     "text": [
      "Processing:  39%|███▉      | 218/554 [01:15<01:35,  3.52it/s]"
     ]
    },
    {
     "name": "stdout",
     "output_type": "stream",
     "text": [
      "\n",
      "EQMA5B.SA\n",
      "[*********************100%%**********************]  1 of 1 completed"
     ]
    },
    {
     "name": "stderr",
     "output_type": "stream",
     "text": [
      "\n",
      "1 Failed download:\n",
      "['EQMA5B.SA']: Exception('%ticker%: No timezone found, symbol may be delisted')\n",
      "Processing:  40%|███▉      | 219/554 [01:16<02:19,  2.40it/s]"
     ]
    },
    {
     "name": "stdout",
     "output_type": "stream",
     "text": [
      "\n",
      "EQMA6B.SA\n",
      "[*********************100%%**********************]  1 of 1 completed"
     ]
    },
    {
     "name": "stderr",
     "output_type": "stream",
     "text": [
      "\n",
      "1 Failed download:\n",
      "['EQMA6B.SA']: Exception('%ticker%: No timezone found, symbol may be delisted')\n",
      "Processing:  40%|███▉      | 220/554 [01:16<02:50,  1.96it/s]"
     ]
    },
    {
     "name": "stdout",
     "output_type": "stream",
     "text": [
      "\n",
      "EQPA3.SA\n",
      "[*********************100%%**********************]  1 of 1 completed"
     ]
    },
    {
     "name": "stderr",
     "output_type": "stream",
     "text": [
      "Processing:  40%|███▉      | 221/554 [01:17<02:28,  2.25it/s]"
     ]
    },
    {
     "name": "stdout",
     "output_type": "stream",
     "text": [
      "\n",
      "EQPA5.SA\n",
      "[*********************100%%**********************]  1 of 1 completed"
     ]
    },
    {
     "name": "stderr",
     "output_type": "stream",
     "text": [
      "Processing:  40%|████      | 222/554 [01:17<02:11,  2.53it/s]"
     ]
    },
    {
     "name": "stdout",
     "output_type": "stream",
     "text": [
      "\n",
      "EQPA6.SA\n",
      "[*********************100%%**********************]  1 of 1 completed"
     ]
    },
    {
     "name": "stderr",
     "output_type": "stream",
     "text": [
      "Processing:  40%|████      | 223/554 [01:17<01:59,  2.76it/s]"
     ]
    },
    {
     "name": "stdout",
     "output_type": "stream",
     "text": [
      "\n",
      "EQPA7.SA\n",
      "[*********************100%%**********************]  1 of 1 completed"
     ]
    },
    {
     "name": "stderr",
     "output_type": "stream",
     "text": [
      "Processing:  40%|████      | 224/554 [01:18<01:53,  2.91it/s]"
     ]
    },
    {
     "name": "stdout",
     "output_type": "stream",
     "text": [
      "\n",
      "EQTL3.SA\n",
      "[*********************100%%**********************]  1 of 1 completed"
     ]
    },
    {
     "name": "stderr",
     "output_type": "stream",
     "text": [
      "Processing:  41%|████      | 225/554 [01:18<01:50,  2.99it/s]"
     ]
    },
    {
     "name": "stdout",
     "output_type": "stream",
     "text": [
      "\n",
      "ESPA3.SA\n",
      "[*********************100%%**********************]  1 of 1 completed"
     ]
    },
    {
     "name": "stderr",
     "output_type": "stream",
     "text": [
      "Processing:  41%|████      | 226/554 [01:18<01:44,  3.14it/s]"
     ]
    },
    {
     "name": "stdout",
     "output_type": "stream",
     "text": [
      "\n",
      "ESTR3.SA\n",
      "[*********************100%%**********************]  1 of 1 completed"
     ]
    },
    {
     "name": "stderr",
     "output_type": "stream",
     "text": [
      "Processing:  41%|████      | 227/554 [01:18<01:39,  3.28it/s]"
     ]
    },
    {
     "name": "stdout",
     "output_type": "stream",
     "text": [
      "\n",
      "ESTR4.SA\n",
      "[*********************100%%**********************]  1 of 1 completed"
     ]
    },
    {
     "name": "stderr",
     "output_type": "stream",
     "text": [
      "Processing:  41%|████      | 228/554 [01:19<01:36,  3.37it/s]"
     ]
    },
    {
     "name": "stdout",
     "output_type": "stream",
     "text": [
      "\n",
      "ETER3.SA\n",
      "[*********************100%%**********************]  1 of 1 completed"
     ]
    },
    {
     "name": "stderr",
     "output_type": "stream",
     "text": [
      "Processing:  41%|████▏     | 229/554 [01:19<01:35,  3.41it/s]"
     ]
    },
    {
     "name": "stdout",
     "output_type": "stream",
     "text": [
      "\n",
      "EUCA3.SA\n",
      "[*********************100%%**********************]  1 of 1 completed"
     ]
    },
    {
     "name": "stderr",
     "output_type": "stream",
     "text": [
      "Processing:  42%|████▏     | 230/554 [01:19<01:34,  3.43it/s]"
     ]
    },
    {
     "name": "stdout",
     "output_type": "stream",
     "text": [
      "\n",
      "EUCA4.SA\n",
      "[*********************100%%**********************]  1 of 1 completed"
     ]
    },
    {
     "name": "stderr",
     "output_type": "stream",
     "text": [
      "Processing:  42%|████▏     | 231/554 [01:20<01:35,  3.39it/s]"
     ]
    },
    {
     "name": "stdout",
     "output_type": "stream",
     "text": [
      "\n",
      "EUFA3.SA\n",
      "[*********************100%%**********************]  1 of 1 completed"
     ]
    },
    {
     "name": "stderr",
     "output_type": "stream",
     "text": [
      "\n",
      "1 Failed download:\n",
      "['EUFA3.SA']: Exception('%ticker%: No timezone found, symbol may be delisted')\n",
      "Processing:  42%|████▏     | 232/554 [01:20<02:18,  2.33it/s]"
     ]
    },
    {
     "name": "stdout",
     "output_type": "stream",
     "text": [
      "\n",
      "EVEN3.SA\n",
      "[*********************100%%**********************]  1 of 1 completed"
     ]
    },
    {
     "name": "stderr",
     "output_type": "stream",
     "text": [
      "Processing:  42%|████▏     | 233/554 [01:21<02:07,  2.52it/s]"
     ]
    },
    {
     "name": "stdout",
     "output_type": "stream",
     "text": [
      "\n",
      "EZTC3.SA\n",
      "[*********************100%%**********************]  1 of 1 completed"
     ]
    },
    {
     "name": "stderr",
     "output_type": "stream",
     "text": [
      "Processing:  42%|████▏     | 234/554 [01:21<01:57,  2.73it/s]"
     ]
    },
    {
     "name": "stdout",
     "output_type": "stream",
     "text": [
      "\n",
      "FESA3.SA\n",
      "[*********************100%%**********************]  1 of 1 completed"
     ]
    },
    {
     "name": "stderr",
     "output_type": "stream",
     "text": [
      "Processing:  42%|████▏     | 235/554 [01:21<01:51,  2.87it/s]"
     ]
    },
    {
     "name": "stdout",
     "output_type": "stream",
     "text": [
      "\n",
      "FESA4.SA\n",
      "[*********************100%%**********************]  1 of 1 completed"
     ]
    },
    {
     "name": "stderr",
     "output_type": "stream",
     "text": [
      "Processing:  43%|████▎     | 236/554 [01:22<01:46,  3.00it/s]"
     ]
    },
    {
     "name": "stdout",
     "output_type": "stream",
     "text": [
      "\n",
      "FHER3.SA\n",
      "[*********************100%%**********************]  1 of 1 completed"
     ]
    },
    {
     "name": "stderr",
     "output_type": "stream",
     "text": [
      "Processing:  43%|████▎     | 237/554 [01:22<01:41,  3.12it/s]"
     ]
    },
    {
     "name": "stdout",
     "output_type": "stream",
     "text": [
      "\n",
      "FIEI3.SA\n",
      "[*********************100%%**********************]  1 of 1 completed"
     ]
    },
    {
     "name": "stderr",
     "output_type": "stream",
     "text": [
      "Processing:  43%|████▎     | 238/554 [01:22<01:37,  3.25it/s]"
     ]
    },
    {
     "name": "stdout",
     "output_type": "stream",
     "text": [
      "\n",
      "FIGE3.SA\n",
      "[*********************100%%**********************]  1 of 1 completed"
     ]
    },
    {
     "name": "stderr",
     "output_type": "stream",
     "text": [
      "Processing:  43%|████▎     | 239/554 [01:22<01:35,  3.31it/s]"
     ]
    },
    {
     "name": "stdout",
     "output_type": "stream",
     "text": [
      "\n",
      "FIGE4.SA\n",
      "[*********************100%%**********************]  1 of 1 completed"
     ]
    },
    {
     "name": "stderr",
     "output_type": "stream",
     "text": [
      "Processing:  43%|████▎     | 240/554 [01:23<01:33,  3.35it/s]"
     ]
    },
    {
     "name": "stdout",
     "output_type": "stream",
     "text": [
      "\n",
      "FIQE3.SA\n",
      "[*********************100%%**********************]  1 of 1 completed"
     ]
    },
    {
     "name": "stderr",
     "output_type": "stream",
     "text": [
      "Processing:  44%|████▎     | 241/554 [01:23<01:32,  3.37it/s]"
     ]
    },
    {
     "name": "stdout",
     "output_type": "stream",
     "text": [
      "\n",
      "FLRY3.SA\n",
      "[*********************100%%**********************]  1 of 1 completed"
     ]
    },
    {
     "name": "stderr",
     "output_type": "stream",
     "text": [
      "Processing:  44%|████▎     | 242/554 [01:23<01:31,  3.40it/s]"
     ]
    },
    {
     "name": "stdout",
     "output_type": "stream",
     "text": [
      "\n",
      "FRAS3.SA\n",
      "[*********************100%%**********************]  1 of 1 completed"
     ]
    },
    {
     "name": "stderr",
     "output_type": "stream",
     "text": [
      "Processing:  44%|████▍     | 243/554 [01:24<01:38,  3.16it/s]"
     ]
    },
    {
     "name": "stdout",
     "output_type": "stream",
     "text": [
      "\n",
      "FRIO3.SA\n",
      "[*********************100%%**********************]  1 of 1 completed"
     ]
    },
    {
     "name": "stderr",
     "output_type": "stream",
     "text": [
      "Processing:  44%|████▍     | 244/554 [01:24<01:34,  3.28it/s]"
     ]
    },
    {
     "name": "stdout",
     "output_type": "stream",
     "text": [
      "\n",
      "FRRN3B.SA\n",
      "[*********************100%%**********************]  1 of 1 completed"
     ]
    },
    {
     "name": "stderr",
     "output_type": "stream",
     "text": [
      "\n",
      "1 Failed download:\n",
      "['FRRN3B.SA']: Exception('%ticker%: No timezone found, symbol may be delisted')\n",
      "Processing:  44%|████▍     | 245/554 [01:25<02:13,  2.31it/s]"
     ]
    },
    {
     "name": "stdout",
     "output_type": "stream",
     "text": [
      "\n",
      "FRRN5B.SA\n",
      "[*********************100%%**********************]  1 of 1 completed"
     ]
    },
    {
     "name": "stderr",
     "output_type": "stream",
     "text": [
      "\n",
      "1 Failed download:\n",
      "['FRRN5B.SA']: Exception('%ticker%: No timezone found, symbol may be delisted')\n",
      "Processing:  44%|████▍     | 246/554 [01:25<02:40,  1.92it/s]"
     ]
    },
    {
     "name": "stdout",
     "output_type": "stream",
     "text": [
      "\n",
      "FRRN6B.SA\n",
      "[*********************100%%**********************]  1 of 1 completed"
     ]
    },
    {
     "name": "stderr",
     "output_type": "stream",
     "text": [
      "\n",
      "1 Failed download:\n",
      "['FRRN6B.SA']: Exception('%ticker%: No timezone found, symbol may be delisted')\n",
      "Processing:  45%|████▍     | 247/554 [01:26<02:59,  1.71it/s]"
     ]
    },
    {
     "name": "stdout",
     "output_type": "stream",
     "text": [
      "\n",
      "FRTA3.SA\n",
      "[*********************100%%**********************]  1 of 1 completed"
     ]
    },
    {
     "name": "stderr",
     "output_type": "stream",
     "text": [
      "Processing:  45%|████▍     | 248/554 [01:26<02:30,  2.04it/s]"
     ]
    },
    {
     "name": "stdout",
     "output_type": "stream",
     "text": [
      "\n",
      "GEPA3.SA\n",
      "[*********************100%%**********************]  1 of 1 completed"
     ]
    },
    {
     "name": "stderr",
     "output_type": "stream",
     "text": [
      "Processing:  45%|████▍     | 249/554 [01:27<02:11,  2.32it/s]"
     ]
    },
    {
     "name": "stdout",
     "output_type": "stream",
     "text": [
      "\n",
      "GEPA4.SA\n",
      "[*********************100%%**********************]  1 of 1 completed"
     ]
    },
    {
     "name": "stderr",
     "output_type": "stream",
     "text": [
      "Processing:  45%|████▌     | 250/554 [01:27<01:57,  2.58it/s]"
     ]
    },
    {
     "name": "stdout",
     "output_type": "stream",
     "text": [
      "\n",
      "GFSA3.SA\n",
      "[*********************100%%**********************]  1 of 1 completed"
     ]
    },
    {
     "name": "stderr",
     "output_type": "stream",
     "text": [
      "Processing:  45%|████▌     | 251/554 [01:27<01:52,  2.70it/s]"
     ]
    },
    {
     "name": "stdout",
     "output_type": "stream",
     "text": [
      "\n",
      "GGBR3.SA\n",
      "[*********************100%%**********************]  1 of 1 completed"
     ]
    },
    {
     "name": "stderr",
     "output_type": "stream",
     "text": [
      "Processing:  45%|████▌     | 252/554 [01:28<01:45,  2.86it/s]"
     ]
    },
    {
     "name": "stdout",
     "output_type": "stream",
     "text": [
      "\n",
      "GGBR4.SA\n",
      "[*********************100%%**********************]  1 of 1 completed"
     ]
    },
    {
     "name": "stderr",
     "output_type": "stream",
     "text": [
      "Processing:  46%|████▌     | 253/554 [01:28<01:42,  2.94it/s]"
     ]
    },
    {
     "name": "stdout",
     "output_type": "stream",
     "text": [
      "\n",
      "GGPS3.SA\n",
      "[*********************100%%**********************]  1 of 1 completed"
     ]
    },
    {
     "name": "stderr",
     "output_type": "stream",
     "text": [
      "Processing:  46%|████▌     | 254/554 [01:28<01:37,  3.08it/s]"
     ]
    },
    {
     "name": "stdout",
     "output_type": "stream",
     "text": [
      "\n",
      "GMAT3.SA\n",
      "[*********************100%%**********************]  1 of 1 completed"
     ]
    },
    {
     "name": "stderr",
     "output_type": "stream",
     "text": [
      "Processing:  46%|████▌     | 255/554 [01:28<01:35,  3.12it/s]"
     ]
    },
    {
     "name": "stdout",
     "output_type": "stream",
     "text": [
      "\n",
      "GOAU3.SA\n",
      "[*********************100%%**********************]  1 of 1 completed"
     ]
    },
    {
     "name": "stderr",
     "output_type": "stream",
     "text": [
      "Processing:  46%|████▌     | 256/554 [01:29<01:35,  3.12it/s]"
     ]
    },
    {
     "name": "stdout",
     "output_type": "stream",
     "text": [
      "\n",
      "GOAU4.SA\n",
      "[*********************100%%**********************]  1 of 1 completed"
     ]
    },
    {
     "name": "stderr",
     "output_type": "stream",
     "text": [
      "Processing:  46%|████▋     | 257/554 [01:29<01:38,  3.03it/s]"
     ]
    },
    {
     "name": "stdout",
     "output_type": "stream",
     "text": [
      "\n",
      "GOLL3.SA\n",
      "[*********************100%%**********************]  1 of 1 completed"
     ]
    },
    {
     "name": "stderr",
     "output_type": "stream",
     "text": [
      "\n",
      "1 Failed download:\n",
      "['GOLL3.SA']: Exception(\"%ticker%: Period 'max' is invalid, must be one of ['1d', '5d']\")\n",
      "Processing:  47%|████▋     | 258/554 [01:29<01:32,  3.19it/s]"
     ]
    },
    {
     "name": "stdout",
     "output_type": "stream",
     "text": [
      "\n",
      "GOLL4.SA\n",
      "[*********************100%%**********************]  1 of 1 completed"
     ]
    },
    {
     "name": "stderr",
     "output_type": "stream",
     "text": [
      "Processing:  47%|████▋     | 259/554 [01:30<01:30,  3.26it/s]"
     ]
    },
    {
     "name": "stdout",
     "output_type": "stream",
     "text": [
      "\n",
      "GPAR3.SA\n",
      "[*********************100%%**********************]  1 of 1 completed"
     ]
    },
    {
     "name": "stderr",
     "output_type": "stream",
     "text": [
      "Processing:  47%|████▋     | 260/554 [01:30<01:28,  3.32it/s]"
     ]
    },
    {
     "name": "stdout",
     "output_type": "stream",
     "text": [
      "\n",
      "GRAO3.SA\n",
      "[*********************100%%**********************]  1 of 1 completed"
     ]
    },
    {
     "name": "stderr",
     "output_type": "stream",
     "text": [
      "\n",
      "1 Failed download:\n",
      "['GRAO3.SA']: Exception(\"%ticker%: Period 'max' is invalid, must be one of ['1d', '5d']\")\n",
      "Processing:  47%|████▋     | 261/554 [01:30<01:25,  3.41it/s]"
     ]
    },
    {
     "name": "stdout",
     "output_type": "stream",
     "text": [
      "\n",
      "GRND3.SA\n",
      "[*********************100%%**********************]  1 of 1 completed"
     ]
    },
    {
     "name": "stderr",
     "output_type": "stream",
     "text": [
      "Processing:  47%|████▋     | 262/554 [01:31<01:44,  2.81it/s]"
     ]
    },
    {
     "name": "stdout",
     "output_type": "stream",
     "text": [
      "\n",
      "GSHP3.SA\n",
      "[*********************100%%**********************]  1 of 1 completed"
     ]
    },
    {
     "name": "stderr",
     "output_type": "stream",
     "text": [
      "Processing:  47%|████▋     | 263/554 [01:31<01:36,  3.03it/s]"
     ]
    },
    {
     "name": "stdout",
     "output_type": "stream",
     "text": [
      "\n",
      "GUAR3.SA\n",
      "[*********************100%%**********************]  1 of 1 completed"
     ]
    },
    {
     "name": "stderr",
     "output_type": "stream",
     "text": [
      "Processing:  48%|████▊     | 264/554 [01:31<01:33,  3.11it/s]"
     ]
    },
    {
     "name": "stdout",
     "output_type": "stream",
     "text": [
      "\n",
      "HAGA3.SA\n",
      "[*********************100%%**********************]  1 of 1 completed"
     ]
    },
    {
     "name": "stderr",
     "output_type": "stream",
     "text": [
      "Processing:  48%|████▊     | 265/554 [01:32<01:29,  3.22it/s]"
     ]
    },
    {
     "name": "stdout",
     "output_type": "stream",
     "text": [
      "\n",
      "HAGA4.SA\n",
      "[*********************100%%**********************]  1 of 1 completed"
     ]
    },
    {
     "name": "stderr",
     "output_type": "stream",
     "text": [
      "Processing:  48%|████▊     | 266/554 [01:32<01:26,  3.33it/s]"
     ]
    },
    {
     "name": "stdout",
     "output_type": "stream",
     "text": [
      "\n",
      "HAPV3.SA\n",
      "[*********************100%%**********************]  1 of 1 completed"
     ]
    },
    {
     "name": "stderr",
     "output_type": "stream",
     "text": [
      "Processing:  48%|████▊     | 267/554 [01:32<01:27,  3.30it/s]"
     ]
    },
    {
     "name": "stdout",
     "output_type": "stream",
     "text": [
      "\n",
      "HAPV99.SA\n",
      "[*********************100%%**********************]  1 of 1 completed"
     ]
    },
    {
     "name": "stderr",
     "output_type": "stream",
     "text": [
      "\n",
      "1 Failed download:\n",
      "['HAPV99.SA']: Exception('%ticker%: No timezone found, symbol may be delisted')\n",
      "Processing:  48%|████▊     | 268/554 [01:33<02:04,  2.29it/s]"
     ]
    },
    {
     "name": "stdout",
     "output_type": "stream",
     "text": [
      "\n",
      "HBOR3.SA\n",
      "[*********************100%%**********************]  1 of 1 completed"
     ]
    },
    {
     "name": "stderr",
     "output_type": "stream",
     "text": [
      "Processing:  49%|████▊     | 269/554 [01:33<01:52,  2.53it/s]"
     ]
    },
    {
     "name": "stdout",
     "output_type": "stream",
     "text": [
      "\n",
      "HBRE3.SA\n",
      "[*********************100%%**********************]  1 of 1 completed"
     ]
    },
    {
     "name": "stderr",
     "output_type": "stream",
     "text": [
      "Processing:  49%|████▊     | 270/554 [01:34<01:42,  2.78it/s]"
     ]
    },
    {
     "name": "stdout",
     "output_type": "stream",
     "text": [
      "\n",
      "HBSA3.SA\n",
      "[*********************100%%**********************]  1 of 1 completed"
     ]
    },
    {
     "name": "stderr",
     "output_type": "stream",
     "text": [
      "Processing:  49%|████▉     | 271/554 [01:34<01:35,  2.98it/s]"
     ]
    },
    {
     "name": "stdout",
     "output_type": "stream",
     "text": [
      "\n",
      "HBTS3.SA\n",
      "[*********************100%%**********************]  1 of 1 completed"
     ]
    },
    {
     "name": "stderr",
     "output_type": "stream",
     "text": [
      "\n",
      "1 Failed download:\n",
      "['HBTS3.SA']: Exception('%ticker%: No price data found, symbol may be delisted (1d 2022-01-01 -> 2023-01-01)')\n",
      "Processing:  49%|████▉     | 272/554 [01:34<01:29,  3.15it/s]"
     ]
    },
    {
     "name": "stdout",
     "output_type": "stream",
     "text": [
      "\n",
      "HBTS5.SA\n",
      "[*********************100%%**********************]  1 of 1 completed"
     ]
    },
    {
     "name": "stderr",
     "output_type": "stream",
     "text": [
      "Processing:  49%|████▉     | 273/554 [01:34<01:26,  3.23it/s]"
     ]
    },
    {
     "name": "stdout",
     "output_type": "stream",
     "text": [
      "\n",
      "HBTS6.SA\n",
      "[*********************100%%**********************]  1 of 1 completed"
     ]
    },
    {
     "name": "stderr",
     "output_type": "stream",
     "text": [
      "\n",
      "1 Failed download:\n",
      "['HBTS6.SA']: Exception('%ticker%: No price data found, symbol may be delisted (1d 2022-01-01 -> 2023-01-01)')\n",
      "Processing:  49%|████▉     | 274/554 [01:35<01:22,  3.38it/s]"
     ]
    },
    {
     "name": "stdout",
     "output_type": "stream",
     "text": [
      "\n",
      "HETA3.SA\n",
      "[*********************100%%**********************]  1 of 1 completed"
     ]
    },
    {
     "name": "stderr",
     "output_type": "stream",
     "text": [
      "Processing:  50%|████▉     | 275/554 [01:35<01:20,  3.49it/s]"
     ]
    },
    {
     "name": "stdout",
     "output_type": "stream",
     "text": [
      "\n",
      "HETA4.SA\n",
      "[*********************100%%**********************]  1 of 1 completed"
     ]
    },
    {
     "name": "stderr",
     "output_type": "stream",
     "text": [
      "Processing:  50%|████▉     | 276/554 [01:35<01:18,  3.52it/s]"
     ]
    },
    {
     "name": "stdout",
     "output_type": "stream",
     "text": [
      "\n",
      "HMOB3.SA\n",
      "[*********************100%%**********************]  1 of 1 completed"
     ]
    },
    {
     "name": "stderr",
     "output_type": "stream",
     "text": [
      "\n",
      "1 Failed download:\n",
      "['HMOB3.SA']: Exception('%ticker%: No timezone found, symbol may be delisted')\n",
      "Processing:  50%|█████     | 277/554 [01:36<01:56,  2.39it/s]"
     ]
    },
    {
     "name": "stdout",
     "output_type": "stream",
     "text": [
      "\n",
      "HOOT3.SA\n",
      "[*********************100%%**********************]  1 of 1 completed"
     ]
    },
    {
     "name": "stderr",
     "output_type": "stream",
     "text": [
      "Processing:  50%|█████     | 278/554 [01:36<01:43,  2.66it/s]"
     ]
    },
    {
     "name": "stdout",
     "output_type": "stream",
     "text": [
      "\n",
      "HOOT4.SA\n",
      "[*********************100%%**********************]  1 of 1 completed"
     ]
    },
    {
     "name": "stderr",
     "output_type": "stream",
     "text": [
      "Processing:  50%|█████     | 279/554 [01:36<01:35,  2.89it/s]"
     ]
    },
    {
     "name": "stdout",
     "output_type": "stream",
     "text": [
      "\n",
      "HYPE3.SA\n",
      "[*********************100%%**********************]  1 of 1 completed"
     ]
    },
    {
     "name": "stderr",
     "output_type": "stream",
     "text": [
      "Processing:  51%|█████     | 280/554 [01:37<01:58,  2.31it/s]"
     ]
    },
    {
     "name": "stdout",
     "output_type": "stream",
     "text": [
      "\n",
      "IFCM3.SA\n",
      "[*********************100%%**********************]  1 of 1 completed"
     ]
    },
    {
     "name": "stderr",
     "output_type": "stream",
     "text": [
      "Processing:  51%|█████     | 281/554 [01:37<01:45,  2.58it/s]"
     ]
    },
    {
     "name": "stdout",
     "output_type": "stream",
     "text": [
      "\n",
      "IGSN3.SA\n",
      "[*********************100%%**********************]  1 of 1 completed"
     ]
    },
    {
     "name": "stderr",
     "output_type": "stream",
     "text": [
      "\n",
      "1 Failed download:\n",
      "['IGSN3.SA']: Exception('%ticker%: No price data found, symbol may be delisted (1d 2022-01-01 -> 2023-01-01)')\n",
      "Processing:  51%|█████     | 282/554 [01:38<01:35,  2.85it/s]"
     ]
    },
    {
     "name": "stdout",
     "output_type": "stream",
     "text": [
      "\n",
      "IGTI11.SA\n",
      "[*********************100%%**********************]  1 of 1 completed"
     ]
    },
    {
     "name": "stderr",
     "output_type": "stream",
     "text": [
      "Processing:  51%|█████     | 283/554 [01:38<01:31,  2.95it/s]"
     ]
    },
    {
     "name": "stdout",
     "output_type": "stream",
     "text": [
      "\n",
      "IGTI3.SA\n",
      "[*********************100%%**********************]  1 of 1 completed"
     ]
    },
    {
     "name": "stderr",
     "output_type": "stream",
     "text": [
      "Processing:  51%|█████▏    | 284/554 [01:38<01:28,  3.04it/s]"
     ]
    },
    {
     "name": "stdout",
     "output_type": "stream",
     "text": [
      "\n",
      "IGTI4.SA\n",
      "[*********************100%%**********************]  1 of 1 completed"
     ]
    },
    {
     "name": "stderr",
     "output_type": "stream",
     "text": [
      "\n",
      "1 Failed download:\n",
      "['IGTI4.SA']: Exception(\"%ticker%: Data doesn't exist for startDate = 1641006000, endDate = 1672542000\")\n",
      "Processing:  51%|█████▏    | 285/554 [01:39<02:01,  2.22it/s]"
     ]
    },
    {
     "name": "stdout",
     "output_type": "stream",
     "text": [
      "\n",
      "INEP3.SA\n",
      "[*********************100%%**********************]  1 of 1 completed"
     ]
    },
    {
     "name": "stderr",
     "output_type": "stream",
     "text": [
      "Processing:  52%|█████▏    | 286/554 [01:39<01:47,  2.50it/s]"
     ]
    },
    {
     "name": "stdout",
     "output_type": "stream",
     "text": [
      "\n",
      "INEP4.SA\n",
      "[*********************100%%**********************]  1 of 1 completed"
     ]
    },
    {
     "name": "stderr",
     "output_type": "stream",
     "text": [
      "Processing:  52%|█████▏    | 287/554 [01:40<01:37,  2.73it/s]"
     ]
    },
    {
     "name": "stdout",
     "output_type": "stream",
     "text": [
      "\n",
      "INNT3.SA\n",
      "[*********************100%%**********************]  1 of 1 completed"
     ]
    },
    {
     "name": "stderr",
     "output_type": "stream",
     "text": [
      "\n",
      "1 Failed download:\n",
      "['INNT3.SA']: Exception('%ticker%: No timezone found, symbol may be delisted')\n",
      "Processing:  52%|█████▏    | 288/554 [01:40<02:07,  2.09it/s]"
     ]
    },
    {
     "name": "stdout",
     "output_type": "stream",
     "text": [
      "\n",
      "INTB3.SA\n",
      "[*********************100%%**********************]  1 of 1 completed"
     ]
    },
    {
     "name": "stderr",
     "output_type": "stream",
     "text": [
      "Processing:  52%|█████▏    | 289/554 [01:41<01:50,  2.39it/s]"
     ]
    },
    {
     "name": "stdout",
     "output_type": "stream",
     "text": [
      "\n",
      "IRBR3.SA\n",
      "[*********************100%%**********************]  1 of 1 completed"
     ]
    },
    {
     "name": "stderr",
     "output_type": "stream",
     "text": [
      "Processing:  52%|█████▏    | 290/554 [01:41<01:38,  2.68it/s]"
     ]
    },
    {
     "name": "stdout",
     "output_type": "stream",
     "text": [
      "\n",
      "ITSA3.SA\n",
      "[*********************100%%**********************]  1 of 1 completed"
     ]
    },
    {
     "name": "stderr",
     "output_type": "stream",
     "text": [
      "Processing:  53%|█████▎    | 291/554 [01:41<01:33,  2.80it/s]"
     ]
    },
    {
     "name": "stdout",
     "output_type": "stream",
     "text": [
      "\n",
      "ITSA4.SA\n",
      "[*********************100%%**********************]  1 of 1 completed"
     ]
    },
    {
     "name": "stderr",
     "output_type": "stream",
     "text": [
      "Processing:  53%|█████▎    | 292/554 [01:41<01:29,  2.94it/s]"
     ]
    },
    {
     "name": "stdout",
     "output_type": "stream",
     "text": [
      "\n",
      "ITUB3.SA\n",
      "[*********************100%%**********************]  1 of 1 completed"
     ]
    },
    {
     "name": "stderr",
     "output_type": "stream",
     "text": [
      "Processing:  53%|█████▎    | 293/554 [01:42<01:25,  3.05it/s]"
     ]
    },
    {
     "name": "stdout",
     "output_type": "stream",
     "text": [
      "\n",
      "ITUB4.SA\n",
      "[*********************100%%**********************]  1 of 1 completed"
     ]
    },
    {
     "name": "stderr",
     "output_type": "stream",
     "text": [
      "Processing:  53%|█████▎    | 294/554 [01:42<01:22,  3.15it/s]"
     ]
    },
    {
     "name": "stdout",
     "output_type": "stream",
     "text": [
      "\n",
      "IVPR3B.SA\n",
      "[*********************100%%**********************]  1 of 1 completed"
     ]
    },
    {
     "name": "stderr",
     "output_type": "stream",
     "text": [
      "\n",
      "1 Failed download:\n",
      "['IVPR3B.SA']: Exception('%ticker%: No timezone found, symbol may be delisted')\n",
      "Processing:  53%|█████▎    | 295/554 [01:43<01:57,  2.21it/s]"
     ]
    },
    {
     "name": "stdout",
     "output_type": "stream",
     "text": [
      "\n",
      "IVPR4B.SA\n",
      "[*********************100%%**********************]  1 of 1 completed"
     ]
    },
    {
     "name": "stderr",
     "output_type": "stream",
     "text": [
      "\n",
      "1 Failed download:\n",
      "['IVPR4B.SA']: Exception('%ticker%: No timezone found, symbol may be delisted')\n",
      "Processing:  53%|█████▎    | 296/554 [01:44<02:21,  1.83it/s]"
     ]
    },
    {
     "name": "stdout",
     "output_type": "stream",
     "text": [
      "\n",
      "JALL3.SA\n",
      "[*********************100%%**********************]  1 of 1 completed"
     ]
    },
    {
     "name": "stderr",
     "output_type": "stream",
     "text": [
      "Processing:  54%|█████▎    | 297/554 [01:44<02:00,  2.13it/s]"
     ]
    },
    {
     "name": "stdout",
     "output_type": "stream",
     "text": [
      "\n",
      "JBSS3.SA\n",
      "[*********************100%%**********************]  1 of 1 completed"
     ]
    },
    {
     "name": "stderr",
     "output_type": "stream",
     "text": [
      "Processing:  54%|█████▍    | 298/554 [01:44<01:51,  2.30it/s]"
     ]
    },
    {
     "name": "stdout",
     "output_type": "stream",
     "text": [
      "\n",
      "JFEN3.SA\n",
      "[*********************100%%**********************]  1 of 1 completed"
     ]
    },
    {
     "name": "stderr",
     "output_type": "stream",
     "text": [
      "Processing:  54%|█████▍    | 299/554 [01:45<01:39,  2.56it/s]"
     ]
    },
    {
     "name": "stdout",
     "output_type": "stream",
     "text": [
      "\n",
      "JHSF3.SA\n",
      "[*********************100%%**********************]  1 of 1 completed"
     ]
    },
    {
     "name": "stderr",
     "output_type": "stream",
     "text": [
      "Processing:  54%|█████▍    | 300/554 [01:45<01:32,  2.75it/s]"
     ]
    },
    {
     "name": "stdout",
     "output_type": "stream",
     "text": [
      "\n",
      "JOPA3.SA\n",
      "[*********************100%%**********************]  1 of 1 completed"
     ]
    },
    {
     "name": "stderr",
     "output_type": "stream",
     "text": [
      "Processing:  54%|█████▍    | 301/554 [01:45<01:27,  2.91it/s]"
     ]
    },
    {
     "name": "stdout",
     "output_type": "stream",
     "text": [
      "\n",
      "JOPA4.SA\n",
      "[*********************100%%**********************]  1 of 1 completed"
     ]
    },
    {
     "name": "stderr",
     "output_type": "stream",
     "text": [
      "Processing:  55%|█████▍    | 302/554 [01:45<01:22,  3.06it/s]"
     ]
    },
    {
     "name": "stdout",
     "output_type": "stream",
     "text": [
      "\n",
      "JSLG3.SA\n",
      "[*********************100%%**********************]  1 of 1 completed"
     ]
    },
    {
     "name": "stderr",
     "output_type": "stream",
     "text": [
      "Processing:  55%|█████▍    | 303/554 [01:46<01:18,  3.20it/s]"
     ]
    },
    {
     "name": "stdout",
     "output_type": "stream",
     "text": [
      "\n",
      "KEPL3.SA\n",
      "[*********************100%%**********************]  1 of 1 completed"
     ]
    },
    {
     "name": "stderr",
     "output_type": "stream",
     "text": [
      "Processing:  55%|█████▍    | 304/554 [01:46<01:16,  3.27it/s]"
     ]
    },
    {
     "name": "stdout",
     "output_type": "stream",
     "text": [
      "\n",
      "KLAS3.SA\n",
      "[*********************100%%**********************]  1 of 1 completed"
     ]
    },
    {
     "name": "stderr",
     "output_type": "stream",
     "text": [
      "\n",
      "1 Failed download:\n",
      "['KLAS3.SA']: Exception('%ticker%: No timezone found, symbol may be delisted')\n",
      "Processing:  55%|█████▌    | 305/554 [01:47<01:48,  2.29it/s]"
     ]
    },
    {
     "name": "stdout",
     "output_type": "stream",
     "text": [
      "\n",
      "KLBN11.SA\n",
      "[*********************100%%**********************]  1 of 1 completed"
     ]
    },
    {
     "name": "stderr",
     "output_type": "stream",
     "text": [
      "Processing:  55%|█████▌    | 306/554 [01:47<01:38,  2.51it/s]"
     ]
    },
    {
     "name": "stdout",
     "output_type": "stream",
     "text": [
      "\n",
      "KLBN3.SA\n",
      "[*********************100%%**********************]  1 of 1 completed"
     ]
    },
    {
     "name": "stderr",
     "output_type": "stream",
     "text": [
      "Processing:  55%|█████▌    | 307/554 [01:47<01:30,  2.73it/s]"
     ]
    },
    {
     "name": "stdout",
     "output_type": "stream",
     "text": [
      "\n",
      "KLBN4.SA\n",
      "[*********************100%%**********************]  1 of 1 completed"
     ]
    },
    {
     "name": "stderr",
     "output_type": "stream",
     "text": [
      "Processing:  56%|█████▌    | 308/554 [01:48<01:24,  2.91it/s]"
     ]
    },
    {
     "name": "stdout",
     "output_type": "stream",
     "text": [
      "\n",
      "KRSA3.SA\n",
      "[*********************100%%**********************]  1 of 1 completed"
     ]
    },
    {
     "name": "stderr",
     "output_type": "stream",
     "text": [
      "Processing:  56%|█████▌    | 309/554 [01:48<01:19,  3.08it/s]"
     ]
    },
    {
     "name": "stdout",
     "output_type": "stream",
     "text": [
      "\n",
      "LAND3.SA\n",
      "[*********************100%%**********************]  1 of 1 completed"
     ]
    },
    {
     "name": "stderr",
     "output_type": "stream",
     "text": [
      "Processing:  56%|█████▌    | 310/554 [01:48<01:16,  3.21it/s]"
     ]
    },
    {
     "name": "stdout",
     "output_type": "stream",
     "text": [
      "\n",
      "LAVV3.SA\n",
      "[*********************100%%**********************]  1 of 1 completed"
     ]
    },
    {
     "name": "stderr",
     "output_type": "stream",
     "text": [
      "Processing:  56%|█████▌    | 311/554 [01:48<01:13,  3.32it/s]"
     ]
    },
    {
     "name": "stdout",
     "output_type": "stream",
     "text": [
      "\n",
      "LEVE3.SA\n",
      "[*********************100%%**********************]  1 of 1 completed"
     ]
    },
    {
     "name": "stderr",
     "output_type": "stream",
     "text": [
      "Processing:  56%|█████▋    | 312/554 [01:49<01:14,  3.26it/s]"
     ]
    },
    {
     "name": "stdout",
     "output_type": "stream",
     "text": [
      "\n",
      "LIGT3.SA\n",
      "[*********************100%%**********************]  1 of 1 completed"
     ]
    },
    {
     "name": "stderr",
     "output_type": "stream",
     "text": [
      "Processing:  56%|█████▋    | 313/554 [01:49<01:12,  3.31it/s]"
     ]
    },
    {
     "name": "stdout",
     "output_type": "stream",
     "text": [
      "\n",
      "LIPR3.SA\n",
      "[*********************100%%**********************]  1 of 1 completed"
     ]
    },
    {
     "name": "stderr",
     "output_type": "stream",
     "text": [
      "Processing:  57%|█████▋    | 314/554 [01:49<01:12,  3.31it/s]"
     ]
    },
    {
     "name": "stdout",
     "output_type": "stream",
     "text": [
      "\n",
      "LJQQ3.SA\n",
      "[*********************100%%**********************]  1 of 1 completed"
     ]
    },
    {
     "name": "stderr",
     "output_type": "stream",
     "text": [
      "Processing:  57%|█████▋    | 315/554 [01:50<01:28,  2.70it/s]"
     ]
    },
    {
     "name": "stdout",
     "output_type": "stream",
     "text": [
      "\n",
      "LLBI3.SA\n",
      "[*********************100%%**********************]  1 of 1 completed"
     ]
    },
    {
     "name": "stderr",
     "output_type": "stream",
     "text": [
      "\n",
      "1 Failed download:\n",
      "['LLBI3.SA']: Exception('%ticker%: No timezone found, symbol may be delisted')\n",
      "Processing:  57%|█████▋    | 316/554 [01:51<01:55,  2.06it/s]"
     ]
    },
    {
     "name": "stdout",
     "output_type": "stream",
     "text": [
      "\n",
      "LMED3.SA\n",
      "[*********************100%%**********************]  1 of 1 completed"
     ]
    },
    {
     "name": "stderr",
     "output_type": "stream",
     "text": [
      "\n",
      "1 Failed download:\n",
      "['LMED3.SA']: Exception('%ticker%: No timezone found, symbol may be delisted')\n",
      "Processing:  57%|█████▋    | 317/554 [01:51<02:13,  1.78it/s]"
     ]
    },
    {
     "name": "stdout",
     "output_type": "stream",
     "text": [
      "\n",
      "LOGG3.SA\n",
      "[*********************100%%**********************]  1 of 1 completed"
     ]
    },
    {
     "name": "stderr",
     "output_type": "stream",
     "text": [
      "Processing:  57%|█████▋    | 318/554 [01:52<02:07,  1.85it/s]"
     ]
    },
    {
     "name": "stdout",
     "output_type": "stream",
     "text": [
      "\n",
      "LOGN3.SA\n",
      "[*********************100%%**********************]  1 of 1 completed"
     ]
    },
    {
     "name": "stderr",
     "output_type": "stream",
     "text": [
      "Processing:  58%|█████▊    | 319/554 [01:52<01:48,  2.17it/s]"
     ]
    },
    {
     "name": "stdout",
     "output_type": "stream",
     "text": [
      "\n",
      "LPSB3.SA\n",
      "[*********************100%%**********************]  1 of 1 completed"
     ]
    },
    {
     "name": "stderr",
     "output_type": "stream",
     "text": [
      "Processing:  58%|█████▊    | 320/554 [01:52<01:37,  2.40it/s]"
     ]
    },
    {
     "name": "stdout",
     "output_type": "stream",
     "text": [
      "\n",
      "LREN3.SA\n",
      "[*********************100%%**********************]  1 of 1 completed"
     ]
    },
    {
     "name": "stderr",
     "output_type": "stream",
     "text": [
      "Processing:  58%|█████▊    | 321/554 [01:53<01:28,  2.63it/s]"
     ]
    },
    {
     "name": "stdout",
     "output_type": "stream",
     "text": [
      "\n",
      "LTEL3B.SA\n",
      "[*********************100%%**********************]  1 of 1 completed"
     ]
    },
    {
     "name": "stderr",
     "output_type": "stream",
     "text": [
      "\n",
      "1 Failed download:\n",
      "['LTEL3B.SA']: Exception('%ticker%: No timezone found, symbol may be delisted')\n",
      "Processing:  58%|█████▊    | 322/554 [01:54<01:53,  2.04it/s]"
     ]
    },
    {
     "name": "stdout",
     "output_type": "stream",
     "text": [
      "\n",
      "LTLA3B.SA\n",
      "[*********************100%%**********************]  1 of 1 completed"
     ]
    },
    {
     "name": "stderr",
     "output_type": "stream",
     "text": [
      "\n",
      "1 Failed download:\n",
      "['LTLA3B.SA']: Exception('%ticker%: No timezone found, symbol may be delisted')\n",
      "Processing:  58%|█████▊    | 323/554 [01:54<02:10,  1.77it/s]"
     ]
    },
    {
     "name": "stdout",
     "output_type": "stream",
     "text": [
      "\n",
      "LUPA3.SA\n",
      "[*********************100%%**********************]  1 of 1 completed"
     ]
    },
    {
     "name": "stderr",
     "output_type": "stream",
     "text": [
      "Processing:  58%|█████▊    | 324/554 [01:55<01:50,  2.09it/s]"
     ]
    },
    {
     "name": "stdout",
     "output_type": "stream",
     "text": [
      "\n",
      "LUXM3.SA\n",
      "[*********************100%%**********************]  1 of 1 completed"
     ]
    },
    {
     "name": "stderr",
     "output_type": "stream",
     "text": [
      "Processing:  59%|█████▊    | 325/554 [01:55<01:36,  2.37it/s]"
     ]
    },
    {
     "name": "stdout",
     "output_type": "stream",
     "text": [
      "\n",
      "LUXM4.SA\n",
      "[*********************100%%**********************]  1 of 1 completed"
     ]
    },
    {
     "name": "stderr",
     "output_type": "stream",
     "text": [
      "Processing:  59%|█████▉    | 326/554 [01:55<01:26,  2.62it/s]"
     ]
    },
    {
     "name": "stdout",
     "output_type": "stream",
     "text": [
      "\n",
      "LVTC3.SA\n",
      "[*********************100%%**********************]  1 of 1 completed"
     ]
    },
    {
     "name": "stderr",
     "output_type": "stream",
     "text": [
      "Processing:  59%|█████▉    | 327/554 [01:55<01:19,  2.87it/s]"
     ]
    },
    {
     "name": "stdout",
     "output_type": "stream",
     "text": [
      "\n",
      "LWSA3.SA\n",
      "[*********************100%%**********************]  1 of 1 completed"
     ]
    },
    {
     "name": "stderr",
     "output_type": "stream",
     "text": [
      "Processing:  59%|█████▉    | 328/554 [01:56<01:14,  3.03it/s]"
     ]
    },
    {
     "name": "stdout",
     "output_type": "stream",
     "text": [
      "\n",
      "MAPT3.SA\n",
      "[*********************100%%**********************]  1 of 1 completed"
     ]
    },
    {
     "name": "stderr",
     "output_type": "stream",
     "text": [
      "Processing:  59%|█████▉    | 329/554 [01:56<01:10,  3.21it/s]"
     ]
    },
    {
     "name": "stdout",
     "output_type": "stream",
     "text": [
      "\n",
      "MAPT4.SA\n",
      "[*********************100%%**********************]  1 of 1 completed"
     ]
    },
    {
     "name": "stderr",
     "output_type": "stream",
     "text": [
      "Processing:  60%|█████▉    | 330/554 [01:56<01:07,  3.33it/s]"
     ]
    },
    {
     "name": "stdout",
     "output_type": "stream",
     "text": [
      "\n",
      "MATD3.SA\n",
      "[*********************100%%**********************]  1 of 1 completed"
     ]
    },
    {
     "name": "stderr",
     "output_type": "stream",
     "text": [
      "Processing:  60%|█████▉    | 331/554 [01:57<01:05,  3.40it/s]"
     ]
    },
    {
     "name": "stdout",
     "output_type": "stream",
     "text": [
      "\n",
      "MBLY3.SA\n",
      "[*********************100%%**********************]  1 of 1 completed"
     ]
    },
    {
     "name": "stderr",
     "output_type": "stream",
     "text": [
      "Processing:  60%|█████▉    | 332/554 [01:57<01:03,  3.49it/s]"
     ]
    },
    {
     "name": "stdout",
     "output_type": "stream",
     "text": [
      "\n",
      "MCRJ11B.SA\n",
      "[*********************100%%**********************]  1 of 1 completed"
     ]
    },
    {
     "name": "stderr",
     "output_type": "stream",
     "text": [
      "\n",
      "1 Failed download:\n",
      "['MCRJ11B.SA']: Exception('%ticker%: No timezone found, symbol may be delisted')\n",
      "Processing:  60%|██████    | 333/554 [01:58<01:32,  2.38it/s]"
     ]
    },
    {
     "name": "stdout",
     "output_type": "stream",
     "text": [
      "\n",
      "MDIA3.SA\n",
      "[*********************100%%**********************]  1 of 1 completed"
     ]
    },
    {
     "name": "stderr",
     "output_type": "stream",
     "text": [
      "Processing:  60%|██████    | 334/554 [01:58<01:23,  2.62it/s]"
     ]
    },
    {
     "name": "stdout",
     "output_type": "stream",
     "text": [
      "\n",
      "MDNE3.SA\n",
      "[*********************100%%**********************]  1 of 1 completed"
     ]
    },
    {
     "name": "stderr",
     "output_type": "stream",
     "text": [
      "Processing:  60%|██████    | 335/554 [01:58<01:16,  2.88it/s]"
     ]
    },
    {
     "name": "stdout",
     "output_type": "stream",
     "text": [
      "\n",
      "MEAL3.SA\n",
      "[*********************100%%**********************]  1 of 1 completed"
     ]
    },
    {
     "name": "stderr",
     "output_type": "stream",
     "text": [
      "Processing:  61%|██████    | 336/554 [01:58<01:11,  3.06it/s]"
     ]
    },
    {
     "name": "stdout",
     "output_type": "stream",
     "text": [
      "\n",
      "MELK3.SA\n",
      "[*********************100%%**********************]  1 of 1 completed"
     ]
    },
    {
     "name": "stderr",
     "output_type": "stream",
     "text": [
      "Processing:  61%|██████    | 337/554 [01:59<01:09,  3.14it/s]"
     ]
    },
    {
     "name": "stdout",
     "output_type": "stream",
     "text": [
      "\n",
      "MERC3.SA\n",
      "[*********************100%%**********************]  1 of 1 completed"
     ]
    },
    {
     "name": "stderr",
     "output_type": "stream",
     "text": [
      "Processing:  61%|██████    | 338/554 [01:59<01:06,  3.23it/s]"
     ]
    },
    {
     "name": "stdout",
     "output_type": "stream",
     "text": [
      "\n",
      "MERC4.SA\n",
      "[*********************100%%**********************]  1 of 1 completed"
     ]
    },
    {
     "name": "stderr",
     "output_type": "stream",
     "text": [
      "Processing:  61%|██████    | 339/554 [01:59<01:05,  3.29it/s]"
     ]
    },
    {
     "name": "stdout",
     "output_type": "stream",
     "text": [
      "\n",
      "MGEL3.SA\n",
      "[*********************100%%**********************]  1 of 1 completed"
     ]
    },
    {
     "name": "stderr",
     "output_type": "stream",
     "text": [
      "Processing:  61%|██████▏   | 340/554 [01:59<01:03,  3.39it/s]"
     ]
    },
    {
     "name": "stdout",
     "output_type": "stream",
     "text": [
      "\n",
      "MGEL4.SA\n",
      "[*********************100%%**********************]  1 of 1 completed"
     ]
    },
    {
     "name": "stderr",
     "output_type": "stream",
     "text": [
      "Processing:  62%|██████▏   | 341/554 [02:00<01:02,  3.43it/s]"
     ]
    },
    {
     "name": "stdout",
     "output_type": "stream",
     "text": [
      "\n",
      "MGLU3.SA\n",
      "[*********************100%%**********************]  1 of 1 completed"
     ]
    },
    {
     "name": "stderr",
     "output_type": "stream",
     "text": [
      "Processing:  62%|██████▏   | 342/554 [02:00<01:00,  3.48it/s]"
     ]
    },
    {
     "name": "stdout",
     "output_type": "stream",
     "text": [
      "\n",
      "MILS3.SA\n",
      "[*********************100%%**********************]  1 of 1 completed"
     ]
    },
    {
     "name": "stderr",
     "output_type": "stream",
     "text": [
      "Processing:  62%|██████▏   | 343/554 [02:00<01:00,  3.48it/s]"
     ]
    },
    {
     "name": "stdout",
     "output_type": "stream",
     "text": [
      "\n",
      "MLAS3.SA\n",
      "[*********************100%%**********************]  1 of 1 completed"
     ]
    },
    {
     "name": "stderr",
     "output_type": "stream",
     "text": [
      "Processing:  62%|██████▏   | 344/554 [02:01<00:59,  3.51it/s]"
     ]
    },
    {
     "name": "stdout",
     "output_type": "stream",
     "text": [
      "\n",
      "MMAQ3.SA\n",
      "[*********************100%%**********************]  1 of 1 completed"
     ]
    },
    {
     "name": "stderr",
     "output_type": "stream",
     "text": [
      "Processing:  62%|██████▏   | 345/554 [02:01<01:00,  3.44it/s]"
     ]
    },
    {
     "name": "stdout",
     "output_type": "stream",
     "text": [
      "\n",
      "MMAQ4.SA\n",
      "[*********************100%%**********************]  1 of 1 completed"
     ]
    },
    {
     "name": "stderr",
     "output_type": "stream",
     "text": [
      "Processing:  62%|██████▏   | 346/554 [02:01<01:00,  3.41it/s]"
     ]
    },
    {
     "name": "stdout",
     "output_type": "stream",
     "text": [
      "\n",
      "MNDL3.SA\n",
      "[*********************100%%**********************]  1 of 1 completed"
     ]
    },
    {
     "name": "stderr",
     "output_type": "stream",
     "text": [
      "Processing:  63%|██████▎   | 347/554 [02:02<00:59,  3.47it/s]"
     ]
    },
    {
     "name": "stdout",
     "output_type": "stream",
     "text": [
      "\n",
      "MNPR3.SA\n",
      "[*********************100%%**********************]  1 of 1 completed"
     ]
    },
    {
     "name": "stderr",
     "output_type": "stream",
     "text": [
      "Processing:  63%|██████▎   | 348/554 [02:02<00:58,  3.55it/s]"
     ]
    },
    {
     "name": "stdout",
     "output_type": "stream",
     "text": [
      "\n",
      "MNZC3.SA\n",
      "[*********************100%%**********************]  1 of 1 completed"
     ]
    },
    {
     "name": "stderr",
     "output_type": "stream",
     "text": [
      "\n",
      "1 Failed download:\n",
      "['MNZC3.SA']: Exception('%ticker%: No timezone found, symbol may be delisted')\n",
      "Processing:  63%|██████▎   | 349/554 [02:03<01:25,  2.39it/s]"
     ]
    },
    {
     "name": "stdout",
     "output_type": "stream",
     "text": [
      "\n",
      "MOAR3.SA\n",
      "[*********************100%%**********************]  1 of 1 completed"
     ]
    },
    {
     "name": "stderr",
     "output_type": "stream",
     "text": [
      "Processing:  63%|██████▎   | 350/554 [02:03<01:17,  2.62it/s]"
     ]
    },
    {
     "name": "stdout",
     "output_type": "stream",
     "text": [
      "\n",
      "MOVI3.SA\n",
      "[*********************100%%**********************]  1 of 1 completed"
     ]
    },
    {
     "name": "stderr",
     "output_type": "stream",
     "text": [
      "Processing:  63%|██████▎   | 351/554 [02:03<01:11,  2.85it/s]"
     ]
    },
    {
     "name": "stdout",
     "output_type": "stream",
     "text": [
      "\n",
      "MRFG3.SA\n",
      "[*********************100%%**********************]  1 of 1 completed"
     ]
    },
    {
     "name": "stderr",
     "output_type": "stream",
     "text": [
      "Processing:  64%|██████▎   | 352/554 [02:03<01:07,  2.99it/s]"
     ]
    },
    {
     "name": "stdout",
     "output_type": "stream",
     "text": [
      "\n",
      "MRSA3B.SA\n",
      "[*********************100%%**********************]  1 of 1 completed"
     ]
    },
    {
     "name": "stderr",
     "output_type": "stream",
     "text": [
      "Processing:  64%|██████▎   | 353/554 [02:04<01:06,  3.03it/s]"
     ]
    },
    {
     "name": "stdout",
     "output_type": "stream",
     "text": [
      "\n",
      "MRSA5B.SA\n",
      "[*********************100%%**********************]  1 of 1 completed"
     ]
    },
    {
     "name": "stderr",
     "output_type": "stream",
     "text": [
      "Processing:  64%|██████▍   | 354/554 [02:04<01:03,  3.17it/s]"
     ]
    },
    {
     "name": "stdout",
     "output_type": "stream",
     "text": [
      "\n",
      "MRSA6B.SA\n",
      "[*********************100%%**********************]  1 of 1 completed"
     ]
    },
    {
     "name": "stderr",
     "output_type": "stream",
     "text": [
      "Processing:  64%|██████▍   | 355/554 [02:04<01:00,  3.28it/s]"
     ]
    },
    {
     "name": "stdout",
     "output_type": "stream",
     "text": [
      "\n",
      "MRVE3.SA\n",
      "[*********************100%%**********************]  1 of 1 completed"
     ]
    },
    {
     "name": "stderr",
     "output_type": "stream",
     "text": [
      "Processing:  64%|██████▍   | 356/554 [02:05<00:59,  3.35it/s]"
     ]
    },
    {
     "name": "stdout",
     "output_type": "stream",
     "text": [
      "\n",
      "MSPA3.SA\n",
      "[*********************100%%**********************]  1 of 1 completed"
     ]
    },
    {
     "name": "stderr",
     "output_type": "stream",
     "text": [
      "Processing:  64%|██████▍   | 357/554 [02:05<00:58,  3.39it/s]"
     ]
    },
    {
     "name": "stdout",
     "output_type": "stream",
     "text": [
      "\n",
      "MSPA4.SA\n",
      "[*********************100%%**********************]  1 of 1 completed"
     ]
    },
    {
     "name": "stderr",
     "output_type": "stream",
     "text": [
      "Processing:  65%|██████▍   | 358/554 [02:05<00:56,  3.45it/s]"
     ]
    },
    {
     "name": "stdout",
     "output_type": "stream",
     "text": [
      "\n",
      "MSRO3.SA\n",
      "[*********************100%%**********************]  1 of 1 completed"
     ]
    },
    {
     "name": "stderr",
     "output_type": "stream",
     "text": [
      "\n",
      "1 Failed download:\n",
      "['MSRO3.SA']: Exception('%ticker%: No timezone found, symbol may be delisted')\n",
      "Processing:  65%|██████▍   | 359/554 [02:06<01:22,  2.37it/s]"
     ]
    },
    {
     "name": "stdout",
     "output_type": "stream",
     "text": [
      "\n",
      "MTRE3.SA\n",
      "[*********************100%%**********************]  1 of 1 completed"
     ]
    },
    {
     "name": "stderr",
     "output_type": "stream",
     "text": [
      "Processing:  65%|██████▍   | 360/554 [02:06<01:13,  2.63it/s]"
     ]
    },
    {
     "name": "stdout",
     "output_type": "stream",
     "text": [
      "\n",
      "MTSA3.SA\n",
      "[*********************100%%**********************]  1 of 1 completed"
     ]
    },
    {
     "name": "stderr",
     "output_type": "stream",
     "text": [
      "Processing:  65%|██████▌   | 361/554 [02:06<01:07,  2.86it/s]"
     ]
    },
    {
     "name": "stdout",
     "output_type": "stream",
     "text": [
      "\n",
      "MTSA4.SA\n",
      "[*********************100%%**********************]  1 of 1 completed"
     ]
    },
    {
     "name": "stderr",
     "output_type": "stream",
     "text": [
      "Processing:  65%|██████▌   | 362/554 [02:07<01:03,  3.02it/s]"
     ]
    },
    {
     "name": "stdout",
     "output_type": "stream",
     "text": [
      "\n",
      "MULT3.SA\n",
      "[*********************100%%**********************]  1 of 1 completed"
     ]
    },
    {
     "name": "stderr",
     "output_type": "stream",
     "text": [
      "Processing:  66%|██████▌   | 363/554 [02:07<01:01,  3.11it/s]"
     ]
    },
    {
     "name": "stdout",
     "output_type": "stream",
     "text": [
      "\n",
      "MWET3.SA\n",
      "[*********************100%%**********************]  1 of 1 completed"
     ]
    },
    {
     "name": "stderr",
     "output_type": "stream",
     "text": [
      "Processing:  66%|██████▌   | 364/554 [02:07<00:58,  3.25it/s]"
     ]
    },
    {
     "name": "stdout",
     "output_type": "stream",
     "text": [
      "\n",
      "MWET4.SA\n",
      "[*********************100%%**********************]  1 of 1 completed"
     ]
    },
    {
     "name": "stderr",
     "output_type": "stream",
     "text": [
      "Processing:  66%|██████▌   | 365/554 [02:08<00:56,  3.37it/s]"
     ]
    },
    {
     "name": "stdout",
     "output_type": "stream",
     "text": [
      "\n",
      "MYPK3.SA\n",
      "[*********************100%%**********************]  1 of 1 completed"
     ]
    },
    {
     "name": "stderr",
     "output_type": "stream",
     "text": [
      "Processing:  66%|██████▌   | 366/554 [02:08<00:57,  3.29it/s]"
     ]
    },
    {
     "name": "stdout",
     "output_type": "stream",
     "text": [
      "\n",
      "NEMO3.SA\n",
      "[*********************100%%**********************]  1 of 1 completed"
     ]
    },
    {
     "name": "stderr",
     "output_type": "stream",
     "text": [
      "Processing:  66%|██████▌   | 367/554 [02:08<00:58,  3.22it/s]"
     ]
    },
    {
     "name": "stdout",
     "output_type": "stream",
     "text": [
      "\n",
      "NEMO5.SA\n",
      "[*********************100%%**********************]  1 of 1 completed"
     ]
    },
    {
     "name": "stderr",
     "output_type": "stream",
     "text": [
      "\n",
      "1 Failed download:\n",
      "['NEMO5.SA']: Exception(\"%ticker%: Period 'max' is invalid, must be one of ['1d', '5d']\")\n",
      "Processing:  66%|██████▋   | 368/554 [02:08<00:55,  3.36it/s]"
     ]
    },
    {
     "name": "stdout",
     "output_type": "stream",
     "text": [
      "\n",
      "NEMO6.SA\n",
      "[*********************100%%**********************]  1 of 1 completed"
     ]
    },
    {
     "name": "stderr",
     "output_type": "stream",
     "text": [
      "\n",
      "1 Failed download:\n",
      "['NEMO6.SA']: Exception(\"%ticker%: Period 'max' is invalid, must be one of ['1d', '5d']\")\n",
      "Processing:  67%|██████▋   | 369/554 [02:09<00:53,  3.47it/s]"
     ]
    },
    {
     "name": "stdout",
     "output_type": "stream",
     "text": [
      "\n",
      "NEOE3.SA\n",
      "[*********************100%%**********************]  1 of 1 completed"
     ]
    },
    {
     "name": "stderr",
     "output_type": "stream",
     "text": [
      "Processing:  67%|██████▋   | 370/554 [02:09<00:52,  3.51it/s]"
     ]
    },
    {
     "name": "stdout",
     "output_type": "stream",
     "text": [
      "\n",
      "NEXP3.SA\n",
      "[*********************100%%**********************]  1 of 1 completed"
     ]
    },
    {
     "name": "stderr",
     "output_type": "stream",
     "text": [
      "Processing:  67%|██████▋   | 371/554 [02:09<00:51,  3.53it/s]"
     ]
    },
    {
     "name": "stdout",
     "output_type": "stream",
     "text": [
      "\n",
      "NGRD3.SA\n",
      "[*********************100%%**********************]  1 of 1 completed"
     ]
    },
    {
     "name": "stderr",
     "output_type": "stream",
     "text": [
      "Processing:  67%|██████▋   | 372/554 [02:10<00:51,  3.56it/s]"
     ]
    },
    {
     "name": "stdout",
     "output_type": "stream",
     "text": [
      "\n",
      "NINJ3.SA\n",
      "[*********************100%%**********************]  1 of 1 completed"
     ]
    },
    {
     "name": "stderr",
     "output_type": "stream",
     "text": [
      "Processing:  67%|██████▋   | 373/554 [02:10<00:50,  3.58it/s]"
     ]
    },
    {
     "name": "stdout",
     "output_type": "stream",
     "text": [
      "\n",
      "NORD3.SA\n",
      "[*********************100%%**********************]  1 of 1 completed"
     ]
    },
    {
     "name": "stderr",
     "output_type": "stream",
     "text": [
      "Processing:  68%|██████▊   | 374/554 [02:10<00:49,  3.62it/s]"
     ]
    },
    {
     "name": "stdout",
     "output_type": "stream",
     "text": [
      "\n",
      "NRTQ3.SA\n",
      "[*********************100%%**********************]  1 of 1 completed"
     ]
    },
    {
     "name": "stderr",
     "output_type": "stream",
     "text": [
      "\n",
      "1 Failed download:\n",
      "['NRTQ3.SA']: Exception('%ticker%: No timezone found, symbol may be delisted')\n",
      "Processing:  68%|██████▊   | 375/554 [02:11<01:13,  2.42it/s]"
     ]
    },
    {
     "name": "stdout",
     "output_type": "stream",
     "text": [
      "\n",
      "NTCO3.SA\n",
      "[*********************100%%**********************]  1 of 1 completed"
     ]
    },
    {
     "name": "stderr",
     "output_type": "stream",
     "text": [
      "Processing:  68%|██████▊   | 376/554 [02:11<01:06,  2.66it/s]"
     ]
    },
    {
     "name": "stdout",
     "output_type": "stream",
     "text": [
      "\n",
      "NUTR3.SA\n",
      "[*********************100%%**********************]  1 of 1 completed"
     ]
    },
    {
     "name": "stderr",
     "output_type": "stream",
     "text": [
      "Processing:  68%|██████▊   | 377/554 [02:11<01:00,  2.92it/s]"
     ]
    },
    {
     "name": "stdout",
     "output_type": "stream",
     "text": [
      "\n",
      "ODER3.SA\n",
      "[*********************100%%**********************]  1 of 1 completed"
     ]
    },
    {
     "name": "stderr",
     "output_type": "stream",
     "text": [
      "\n",
      "1 Failed download:\n",
      "['ODER3.SA']: Exception('%ticker%: No timezone found, symbol may be delisted')\n",
      "Processing:  68%|██████▊   | 378/554 [02:12<01:21,  2.17it/s]"
     ]
    },
    {
     "name": "stdout",
     "output_type": "stream",
     "text": [
      "\n",
      "ODER4.SA\n",
      "[*********************100%%**********************]  1 of 1 completed"
     ]
    },
    {
     "name": "stderr",
     "output_type": "stream",
     "text": [
      "Processing:  68%|██████▊   | 379/554 [02:12<01:11,  2.46it/s]"
     ]
    },
    {
     "name": "stdout",
     "output_type": "stream",
     "text": [
      "\n",
      "ODPV3.SA\n",
      "[*********************100%%**********************]  1 of 1 completed"
     ]
    },
    {
     "name": "stderr",
     "output_type": "stream",
     "text": [
      "Processing:  69%|██████▊   | 380/554 [02:13<01:05,  2.67it/s]"
     ]
    },
    {
     "name": "stdout",
     "output_type": "stream",
     "text": [
      "\n",
      "OFSA3.SA\n",
      "[*********************100%%**********************]  1 of 1 completed"
     ]
    },
    {
     "name": "stderr",
     "output_type": "stream",
     "text": [
      "Processing:  69%|██████▉   | 381/554 [02:13<00:59,  2.89it/s]"
     ]
    },
    {
     "name": "stdout",
     "output_type": "stream",
     "text": [
      "\n",
      "OIBR3.SA\n",
      "[*********************100%%**********************]  1 of 1 completed"
     ]
    },
    {
     "name": "stderr",
     "output_type": "stream",
     "text": [
      "Processing:  69%|██████▉   | 382/554 [02:13<00:56,  3.05it/s]"
     ]
    },
    {
     "name": "stdout",
     "output_type": "stream",
     "text": [
      "\n",
      "OIBR4.SA\n",
      "[*********************100%%**********************]  1 of 1 completed"
     ]
    },
    {
     "name": "stderr",
     "output_type": "stream",
     "text": [
      "Processing:  69%|██████▉   | 383/554 [02:14<00:56,  3.01it/s]"
     ]
    },
    {
     "name": "stdout",
     "output_type": "stream",
     "text": [
      "\n",
      "ONCO3.SA\n",
      "[*********************100%%**********************]  1 of 1 completed"
     ]
    },
    {
     "name": "stderr",
     "output_type": "stream",
     "text": [
      "Processing:  69%|██████▉   | 384/554 [02:14<00:57,  2.98it/s]"
     ]
    },
    {
     "name": "stdout",
     "output_type": "stream",
     "text": [
      "\n",
      "OPCT3.SA\n",
      "[*********************100%%**********************]  1 of 1 completed"
     ]
    },
    {
     "name": "stderr",
     "output_type": "stream",
     "text": [
      "Processing:  69%|██████▉   | 385/554 [02:14<00:53,  3.17it/s]"
     ]
    },
    {
     "name": "stdout",
     "output_type": "stream",
     "text": [
      "\n",
      "OPGM3.SA\n",
      "[*********************100%%**********************]  1 of 1 completed"
     ]
    },
    {
     "name": "stderr",
     "output_type": "stream",
     "text": [
      "\n",
      "1 Failed download:\n",
      "['OPGM3.SA']: Exception('%ticker%: No timezone found, symbol may be delisted')\n",
      "Processing:  70%|██████▉   | 386/554 [02:15<01:14,  2.27it/s]"
     ]
    },
    {
     "name": "stdout",
     "output_type": "stream",
     "text": [
      "\n",
      "OPSE3.SA\n",
      "[*********************100%%**********************]  1 of 1 completed"
     ]
    },
    {
     "name": "stderr",
     "output_type": "stream",
     "text": [
      "\n",
      "1 Failed download:\n",
      "['OPSE3.SA']: Exception('%ticker%: No timezone found, symbol may be delisted')\n",
      "Processing:  70%|██████▉   | 387/554 [02:16<01:27,  1.90it/s]"
     ]
    },
    {
     "name": "stdout",
     "output_type": "stream",
     "text": [
      "\n",
      "OPTS3.SA\n",
      "[*********************100%%**********************]  1 of 1 completed"
     ]
    },
    {
     "name": "stderr",
     "output_type": "stream",
     "text": [
      "\n",
      "1 Failed download:\n",
      "['OPTS3.SA']: Exception('%ticker%: No timezone found, symbol may be delisted')\n",
      "Processing:  70%|███████   | 388/554 [02:16<01:37,  1.70it/s]"
     ]
    },
    {
     "name": "stdout",
     "output_type": "stream",
     "text": [
      "\n",
      "ORVR3.SA\n",
      "[*********************100%%**********************]  1 of 1 completed"
     ]
    },
    {
     "name": "stderr",
     "output_type": "stream",
     "text": [
      "Processing:  70%|███████   | 389/554 [02:17<01:21,  2.02it/s]"
     ]
    },
    {
     "name": "stdout",
     "output_type": "stream",
     "text": [
      "\n",
      "OSXB3.SA\n",
      "[*********************100%%**********************]  1 of 1 completed"
     ]
    },
    {
     "name": "stderr",
     "output_type": "stream",
     "text": [
      "Processing:  70%|███████   | 390/554 [02:17<01:10,  2.32it/s]"
     ]
    },
    {
     "name": "stdout",
     "output_type": "stream",
     "text": [
      "\n",
      "PASS3.SA\n",
      "[*********************100%%**********************]  1 of 1 completed"
     ]
    },
    {
     "name": "stderr",
     "output_type": "stream",
     "text": [
      "\n",
      "1 Failed download:\n",
      "['PASS3.SA']: Exception('%ticker%: No timezone found, symbol may be delisted')\n",
      "Processing:  71%|███████   | 391/554 [02:18<01:27,  1.86it/s]"
     ]
    },
    {
     "name": "stdout",
     "output_type": "stream",
     "text": [
      "\n",
      "PASS5.SA\n",
      "[*********************100%%**********************]  1 of 1 completed"
     ]
    },
    {
     "name": "stderr",
     "output_type": "stream",
     "text": [
      "\n",
      "1 Failed download:\n",
      "['PASS5.SA']: Exception('%ticker%: No timezone found, symbol may be delisted')\n",
      "Processing:  71%|███████   | 392/554 [02:19<01:56,  1.40it/s]"
     ]
    },
    {
     "name": "stdout",
     "output_type": "stream",
     "text": [
      "\n",
      "PASS6.SA\n",
      "[*********************100%%**********************]  1 of 1 completed"
     ]
    },
    {
     "name": "stderr",
     "output_type": "stream",
     "text": [
      "\n",
      "1 Failed download:\n",
      "['PASS6.SA']: Exception('%ticker%: No timezone found, symbol may be delisted')\n",
      "Processing:  71%|███████   | 393/554 [02:20<01:56,  1.38it/s]"
     ]
    },
    {
     "name": "stdout",
     "output_type": "stream",
     "text": [
      "\n",
      "PATI3.SA\n",
      "[*********************100%%**********************]  1 of 1 completed"
     ]
    },
    {
     "name": "stderr",
     "output_type": "stream",
     "text": [
      "Processing:  71%|███████   | 394/554 [02:20<01:35,  1.67it/s]"
     ]
    },
    {
     "name": "stdout",
     "output_type": "stream",
     "text": [
      "\n",
      "PATI4.SA\n",
      "[*********************100%%**********************]  1 of 1 completed"
     ]
    },
    {
     "name": "stderr",
     "output_type": "stream",
     "text": [
      "Processing:  71%|███████▏  | 395/554 [02:20<01:20,  1.99it/s]"
     ]
    },
    {
     "name": "stdout",
     "output_type": "stream",
     "text": [
      "\n",
      "PCAR3.SA\n",
      "[*********************100%%**********************]  1 of 1 completed"
     ]
    },
    {
     "name": "stderr",
     "output_type": "stream",
     "text": [
      "Processing:  71%|███████▏  | 396/554 [02:21<01:09,  2.26it/s]"
     ]
    },
    {
     "name": "stdout",
     "output_type": "stream",
     "text": [
      "\n",
      "PCAR99.SA\n",
      "[*********************100%%**********************]  1 of 1 completed"
     ]
    },
    {
     "name": "stderr",
     "output_type": "stream",
     "text": [
      "\n",
      "1 Failed download:\n",
      "['PCAR99.SA']: Exception('%ticker%: No timezone found, symbol may be delisted')\n",
      "Processing:  72%|███████▏  | 397/554 [02:21<01:22,  1.89it/s]"
     ]
    },
    {
     "name": "stdout",
     "output_type": "stream",
     "text": [
      "\n",
      "PDGR3.SA\n",
      "[*********************100%%**********************]  1 of 1 completed"
     ]
    },
    {
     "name": "stderr",
     "output_type": "stream",
     "text": [
      "Processing:  72%|███████▏  | 398/554 [02:22<01:10,  2.20it/s]"
     ]
    },
    {
     "name": "stdout",
     "output_type": "stream",
     "text": [
      "\n",
      "PDTC3.SA\n",
      "[*********************100%%**********************]  1 of 1 completed"
     ]
    },
    {
     "name": "stderr",
     "output_type": "stream",
     "text": [
      "Processing:  72%|███████▏  | 399/554 [02:22<01:02,  2.49it/s]"
     ]
    },
    {
     "name": "stdout",
     "output_type": "stream",
     "text": [
      "\n",
      "PEAB3.SA\n",
      "[*********************100%%**********************]  1 of 1 completed"
     ]
    },
    {
     "name": "stderr",
     "output_type": "stream",
     "text": [
      "Processing:  72%|███████▏  | 400/554 [02:22<00:56,  2.72it/s]"
     ]
    },
    {
     "name": "stdout",
     "output_type": "stream",
     "text": [
      "\n",
      "PEAB4.SA\n",
      "[*********************100%%**********************]  1 of 1 completed"
     ]
    },
    {
     "name": "stderr",
     "output_type": "stream",
     "text": [
      "Processing:  72%|███████▏  | 401/554 [02:22<00:52,  2.92it/s]"
     ]
    },
    {
     "name": "stdout",
     "output_type": "stream",
     "text": [
      "\n",
      "PETR3.SA\n",
      "[*********************100%%**********************]  1 of 1 completed"
     ]
    },
    {
     "name": "stderr",
     "output_type": "stream",
     "text": [
      "Processing:  73%|███████▎  | 402/554 [02:23<00:49,  3.06it/s]"
     ]
    },
    {
     "name": "stdout",
     "output_type": "stream",
     "text": [
      "\n",
      "PETR4.SA\n",
      "[*********************100%%**********************]  1 of 1 completed"
     ]
    },
    {
     "name": "stderr",
     "output_type": "stream",
     "text": [
      "Processing:  73%|███████▎  | 403/554 [02:23<00:48,  3.14it/s]"
     ]
    },
    {
     "name": "stdout",
     "output_type": "stream",
     "text": [
      "\n",
      "PETZ3.SA\n",
      "[*********************100%%**********************]  1 of 1 completed"
     ]
    },
    {
     "name": "stderr",
     "output_type": "stream",
     "text": [
      "Processing:  73%|███████▎  | 404/554 [02:23<00:46,  3.26it/s]"
     ]
    },
    {
     "name": "stdout",
     "output_type": "stream",
     "text": [
      "\n",
      "PFRM3.SA\n",
      "[*********************100%%**********************]  1 of 1 completed"
     ]
    },
    {
     "name": "stderr",
     "output_type": "stream",
     "text": [
      "Processing:  73%|███████▎  | 405/554 [02:24<00:44,  3.34it/s]"
     ]
    },
    {
     "name": "stdout",
     "output_type": "stream",
     "text": [
      "\n",
      "PGMN3.SA\n",
      "[*********************100%%**********************]  1 of 1 completed"
     ]
    },
    {
     "name": "stderr",
     "output_type": "stream",
     "text": [
      "Processing:  73%|███████▎  | 406/554 [02:24<00:43,  3.43it/s]"
     ]
    },
    {
     "name": "stdout",
     "output_type": "stream",
     "text": [
      "\n",
      "PINE3.SA\n",
      "[*********************100%%**********************]  1 of 1 completed"
     ]
    },
    {
     "name": "stderr",
     "output_type": "stream",
     "text": [
      "Processing:  73%|███████▎  | 407/554 [02:24<00:42,  3.44it/s]"
     ]
    },
    {
     "name": "stdout",
     "output_type": "stream",
     "text": [
      "\n",
      "PINE4.SA\n",
      "[*********************100%%**********************]  1 of 1 completed"
     ]
    },
    {
     "name": "stderr",
     "output_type": "stream",
     "text": [
      "Processing:  74%|███████▎  | 408/554 [02:24<00:42,  3.45it/s]"
     ]
    },
    {
     "name": "stdout",
     "output_type": "stream",
     "text": [
      "\n",
      "PLAS3.SA\n",
      "[*********************100%%**********************]  1 of 1 completed"
     ]
    },
    {
     "name": "stderr",
     "output_type": "stream",
     "text": [
      "Processing:  74%|███████▍  | 409/554 [02:25<00:40,  3.54it/s]"
     ]
    },
    {
     "name": "stdout",
     "output_type": "stream",
     "text": [
      "\n",
      "PLPL3.SA\n",
      "[*********************100%%**********************]  1 of 1 completed"
     ]
    },
    {
     "name": "stderr",
     "output_type": "stream",
     "text": [
      "Processing:  74%|███████▍  | 410/554 [02:25<00:40,  3.54it/s]"
     ]
    },
    {
     "name": "stdout",
     "output_type": "stream",
     "text": [
      "\n",
      "PMAM3.SA\n",
      "[*********************100%%**********************]  1 of 1 completed"
     ]
    },
    {
     "name": "stderr",
     "output_type": "stream",
     "text": [
      "Processing:  74%|███████▍  | 411/554 [02:25<00:39,  3.58it/s]"
     ]
    },
    {
     "name": "stdout",
     "output_type": "stream",
     "text": [
      "\n",
      "PMSP11B.SA\n",
      "[*********************100%%**********************]  1 of 1 completed"
     ]
    },
    {
     "name": "stderr",
     "output_type": "stream",
     "text": [
      "\n",
      "1 Failed download:\n",
      "['PMSP11B.SA']: Exception('%ticker%: No timezone found, symbol may be delisted')\n",
      "Processing:  74%|███████▍  | 412/554 [02:26<00:59,  2.40it/s]"
     ]
    },
    {
     "name": "stdout",
     "output_type": "stream",
     "text": [
      "\n",
      "PMSP12B.SA\n",
      "[*********************100%%**********************]  1 of 1 completed"
     ]
    },
    {
     "name": "stderr",
     "output_type": "stream",
     "text": [
      "\n",
      "1 Failed download:\n",
      "['PMSP12B.SA']: Exception('%ticker%: No timezone found, symbol may be delisted')\n",
      "Processing:  75%|███████▍  | 413/554 [02:27<01:11,  1.96it/s]"
     ]
    },
    {
     "name": "stdout",
     "output_type": "stream",
     "text": [
      "\n",
      "PMSP13B.SA\n",
      "[*********************100%%**********************]  1 of 1 completed"
     ]
    },
    {
     "name": "stderr",
     "output_type": "stream",
     "text": [
      "\n",
      "1 Failed download:\n",
      "['PMSP13B.SA']: Exception('%ticker%: No timezone found, symbol may be delisted')\n",
      "Processing:  75%|███████▍  | 414/554 [02:27<01:20,  1.74it/s]"
     ]
    },
    {
     "name": "stdout",
     "output_type": "stream",
     "text": [
      "\n",
      "PNVL3.SA\n",
      "[*********************100%%**********************]  1 of 1 completed"
     ]
    },
    {
     "name": "stderr",
     "output_type": "stream",
     "text": [
      "Processing:  75%|███████▍  | 415/554 [02:28<01:08,  2.03it/s]"
     ]
    },
    {
     "name": "stdout",
     "output_type": "stream",
     "text": [
      "\n",
      "POMO3.SA\n",
      "[*********************100%%**********************]  1 of 1 completed"
     ]
    },
    {
     "name": "stderr",
     "output_type": "stream",
     "text": [
      "Processing:  75%|███████▌  | 416/554 [02:28<01:00,  2.29it/s]"
     ]
    },
    {
     "name": "stdout",
     "output_type": "stream",
     "text": [
      "\n",
      "POMO4.SA\n",
      "[*********************100%%**********************]  1 of 1 completed"
     ]
    },
    {
     "name": "stderr",
     "output_type": "stream",
     "text": [
      "Processing:  75%|███████▌  | 417/554 [02:28<00:54,  2.52it/s]"
     ]
    },
    {
     "name": "stdout",
     "output_type": "stream",
     "text": [
      "\n",
      "PORT3.SA\n",
      "[*********************100%%**********************]  1 of 1 completed"
     ]
    },
    {
     "name": "stderr",
     "output_type": "stream",
     "text": [
      "Processing:  75%|███████▌  | 418/554 [02:29<00:50,  2.68it/s]"
     ]
    },
    {
     "name": "stdout",
     "output_type": "stream",
     "text": [
      "\n",
      "POSI3.SA\n",
      "[*********************100%%**********************]  1 of 1 completed"
     ]
    },
    {
     "name": "stderr",
     "output_type": "stream",
     "text": [
      "Processing:  76%|███████▌  | 419/554 [02:29<00:55,  2.41it/s]"
     ]
    },
    {
     "name": "stdout",
     "output_type": "stream",
     "text": [
      "\n",
      "PPAR3.SA\n",
      "[*********************100%%**********************]  1 of 1 completed"
     ]
    },
    {
     "name": "stderr",
     "output_type": "stream",
     "text": [
      "Processing:  76%|███████▌  | 420/554 [02:29<00:50,  2.65it/s]"
     ]
    },
    {
     "name": "stdout",
     "output_type": "stream",
     "text": [
      "\n",
      "PPLA11.SA\n",
      "[*********************100%%**********************]  1 of 1 completed"
     ]
    },
    {
     "name": "stderr",
     "output_type": "stream",
     "text": [
      "Processing:  76%|███████▌  | 421/554 [02:30<00:46,  2.88it/s]"
     ]
    },
    {
     "name": "stdout",
     "output_type": "stream",
     "text": [
      "\n",
      "PRIO3.SA\n",
      "[*********************100%%**********************]  1 of 1 completed"
     ]
    },
    {
     "name": "stderr",
     "output_type": "stream",
     "text": [
      "Processing:  76%|███████▌  | 422/554 [02:30<00:43,  3.06it/s]"
     ]
    },
    {
     "name": "stdout",
     "output_type": "stream",
     "text": [
      "\n",
      "PRMN3B.SA\n",
      "[*********************100%%**********************]  1 of 1 completed"
     ]
    },
    {
     "name": "stderr",
     "output_type": "stream",
     "text": [
      "\n",
      "1 Failed download:\n",
      "['PRMN3B.SA']: Exception('%ticker%: No timezone found, symbol may be delisted')\n",
      "Processing:  76%|███████▋  | 423/554 [02:31<00:59,  2.22it/s]"
     ]
    },
    {
     "name": "stdout",
     "output_type": "stream",
     "text": [
      "\n",
      "PRNR3.SA\n",
      "[*********************100%%**********************]  1 of 1 completed"
     ]
    },
    {
     "name": "stderr",
     "output_type": "stream",
     "text": [
      "Processing:  77%|███████▋  | 424/554 [02:31<00:52,  2.47it/s]"
     ]
    },
    {
     "name": "stdout",
     "output_type": "stream",
     "text": [
      "\n",
      "PRPT3.SA\n",
      "[*********************100%%**********************]  1 of 1 completed"
     ]
    },
    {
     "name": "stderr",
     "output_type": "stream",
     "text": [
      "\n",
      "1 Failed download:\n",
      "['PRPT3.SA']: Exception('%ticker%: No timezone found, symbol may be delisted')\n",
      "Processing:  77%|███████▋  | 425/554 [02:32<01:04,  1.99it/s]"
     ]
    },
    {
     "name": "stdout",
     "output_type": "stream",
     "text": [
      "\n",
      "PSSA3.SA\n",
      "[*********************100%%**********************]  1 of 1 completed"
     ]
    },
    {
     "name": "stderr",
     "output_type": "stream",
     "text": [
      "Processing:  77%|███████▋  | 426/554 [02:32<00:57,  2.24it/s]"
     ]
    },
    {
     "name": "stdout",
     "output_type": "stream",
     "text": [
      "\n",
      "PSVM11.SA\n",
      "[*********************100%%**********************]  1 of 1 completed"
     ]
    },
    {
     "name": "stderr",
     "output_type": "stream",
     "text": [
      "Processing:  77%|███████▋  | 427/554 [02:32<00:50,  2.53it/s]"
     ]
    },
    {
     "name": "stdout",
     "output_type": "stream",
     "text": [
      "\n",
      "PTBL3.SA\n",
      "[*********************100%%**********************]  1 of 1 completed"
     ]
    },
    {
     "name": "stderr",
     "output_type": "stream",
     "text": [
      "Processing:  77%|███████▋  | 428/554 [02:33<00:54,  2.33it/s]"
     ]
    },
    {
     "name": "stdout",
     "output_type": "stream",
     "text": [
      "\n",
      "PTCA11.SA\n",
      "[*********************100%%**********************]  1 of 1 completed"
     ]
    },
    {
     "name": "stderr",
     "output_type": "stream",
     "text": [
      "\n",
      "1 Failed download:\n",
      "['PTCA11.SA']: Exception('%ticker%: No timezone found, symbol may be delisted')\n",
      "Processing:  77%|███████▋  | 429/554 [02:34<01:05,  1.91it/s]"
     ]
    },
    {
     "name": "stdout",
     "output_type": "stream",
     "text": [
      "\n",
      "PTCA3.SA\n",
      "[*********************100%%**********************]  1 of 1 completed"
     ]
    },
    {
     "name": "stderr",
     "output_type": "stream",
     "text": [
      "\n",
      "1 Failed download:\n",
      "['PTCA3.SA']: Exception('%ticker%: No timezone found, symbol may be delisted')\n",
      "Processing:  78%|███████▊  | 430/554 [02:34<01:12,  1.71it/s]"
     ]
    },
    {
     "name": "stdout",
     "output_type": "stream",
     "text": [
      "\n",
      "PTNT3.SA\n",
      "[*********************100%%**********************]  1 of 1 completed"
     ]
    },
    {
     "name": "stderr",
     "output_type": "stream",
     "text": [
      "Processing:  78%|███████▊  | 431/554 [02:35<01:01,  2.01it/s]"
     ]
    },
    {
     "name": "stdout",
     "output_type": "stream",
     "text": [
      "\n",
      "PTNT4.SA\n",
      "[*********************100%%**********************]  1 of 1 completed"
     ]
    },
    {
     "name": "stderr",
     "output_type": "stream",
     "text": [
      "Processing:  78%|███████▊  | 432/554 [02:35<00:52,  2.31it/s]"
     ]
    },
    {
     "name": "stdout",
     "output_type": "stream",
     "text": [
      "\n",
      "QUAL3.SA\n",
      "[*********************100%%**********************]  1 of 1 completed"
     ]
    },
    {
     "name": "stderr",
     "output_type": "stream",
     "text": [
      "Processing:  78%|███████▊  | 433/554 [02:35<00:47,  2.55it/s]"
     ]
    },
    {
     "name": "stdout",
     "output_type": "stream",
     "text": [
      "\n",
      "QUSW3.SA\n",
      "[*********************100%%**********************]  1 of 1 completed"
     ]
    },
    {
     "name": "stderr",
     "output_type": "stream",
     "text": [
      "\n",
      "1 Failed download:\n",
      "['QUSW3.SA']: Exception('%ticker%: No timezone found, symbol may be delisted')\n",
      "Processing:  78%|███████▊  | 434/554 [02:36<00:59,  2.02it/s]"
     ]
    },
    {
     "name": "stdout",
     "output_type": "stream",
     "text": [
      "\n",
      "QVQP3.SA\n",
      "[*********************100%%**********************]  1 of 1 completed"
     ]
    },
    {
     "name": "stderr",
     "output_type": "stream",
     "text": [
      "\n",
      "1 Failed download:\n",
      "['QVQP3.SA']: Exception('%ticker%: No timezone found, symbol may be delisted')\n",
      "Processing:  79%|███████▊  | 435/554 [02:37<01:07,  1.76it/s]"
     ]
    },
    {
     "name": "stdout",
     "output_type": "stream",
     "text": [
      "\n",
      "RADL3.SA\n",
      "[*********************100%%**********************]  1 of 1 completed"
     ]
    },
    {
     "name": "stderr",
     "output_type": "stream",
     "text": [
      "Processing:  79%|███████▊  | 436/554 [02:37<00:57,  2.05it/s]"
     ]
    },
    {
     "name": "stdout",
     "output_type": "stream",
     "text": [
      "\n",
      "RAIL3.SA\n",
      "[*********************100%%**********************]  1 of 1 completed"
     ]
    },
    {
     "name": "stderr",
     "output_type": "stream",
     "text": [
      "Processing:  79%|███████▉  | 437/554 [02:37<00:49,  2.34it/s]"
     ]
    },
    {
     "name": "stdout",
     "output_type": "stream",
     "text": [
      "\n",
      "RAIZ4.SA\n",
      "[*********************100%%**********************]  1 of 1 completed"
     ]
    },
    {
     "name": "stderr",
     "output_type": "stream",
     "text": [
      "Processing:  79%|███████▉  | 438/554 [02:38<00:44,  2.59it/s]"
     ]
    },
    {
     "name": "stdout",
     "output_type": "stream",
     "text": [
      "\n",
      "RANI3.SA\n",
      "[*********************100%%**********************]  1 of 1 completed"
     ]
    },
    {
     "name": "stderr",
     "output_type": "stream",
     "text": [
      "Processing:  79%|███████▉  | 439/554 [02:38<00:41,  2.77it/s]"
     ]
    },
    {
     "name": "stdout",
     "output_type": "stream",
     "text": [
      "\n",
      "RAPT3.SA\n",
      "[*********************100%%**********************]  1 of 1 completed"
     ]
    },
    {
     "name": "stderr",
     "output_type": "stream",
     "text": [
      "Processing:  79%|███████▉  | 440/554 [02:38<00:39,  2.91it/s]"
     ]
    },
    {
     "name": "stdout",
     "output_type": "stream",
     "text": [
      "\n",
      "RAPT4.SA\n",
      "[*********************100%%**********************]  1 of 1 completed"
     ]
    },
    {
     "name": "stderr",
     "output_type": "stream",
     "text": [
      "Processing:  80%|███████▉  | 441/554 [02:38<00:37,  2.99it/s]"
     ]
    },
    {
     "name": "stdout",
     "output_type": "stream",
     "text": [
      "\n",
      "RBNS11.SA\n",
      "[*********************100%%**********************]  1 of 1 completed"
     ]
    },
    {
     "name": "stderr",
     "output_type": "stream",
     "text": [
      "\n",
      "1 Failed download:\n",
      "['RBNS11.SA']: Exception('%ticker%: No timezone found, symbol may be delisted')\n",
      "Processing:  80%|███████▉  | 442/554 [02:39<00:50,  2.20it/s]"
     ]
    },
    {
     "name": "stdout",
     "output_type": "stream",
     "text": [
      "\n",
      "RCSL3.SA\n",
      "[*********************100%%**********************]  1 of 1 completed"
     ]
    },
    {
     "name": "stderr",
     "output_type": "stream",
     "text": [
      "Processing:  80%|███████▉  | 443/554 [02:39<00:45,  2.46it/s]"
     ]
    },
    {
     "name": "stdout",
     "output_type": "stream",
     "text": [
      "\n",
      "RCSL4.SA\n",
      "[*********************100%%**********************]  1 of 1 completed"
     ]
    },
    {
     "name": "stderr",
     "output_type": "stream",
     "text": [
      "Processing:  80%|████████  | 444/554 [02:40<00:40,  2.72it/s]"
     ]
    },
    {
     "name": "stdout",
     "output_type": "stream",
     "text": [
      "\n",
      "RDNI3.SA\n",
      "[*********************100%%**********************]  1 of 1 completed"
     ]
    },
    {
     "name": "stderr",
     "output_type": "stream",
     "text": [
      "Processing:  80%|████████  | 445/554 [02:40<00:38,  2.86it/s]"
     ]
    },
    {
     "name": "stdout",
     "output_type": "stream",
     "text": [
      "\n",
      "RDOR3.SA\n",
      "[*********************100%%**********************]  1 of 1 completed"
     ]
    },
    {
     "name": "stderr",
     "output_type": "stream",
     "text": [
      "Processing:  81%|████████  | 446/554 [02:40<00:35,  3.01it/s]"
     ]
    },
    {
     "name": "stdout",
     "output_type": "stream",
     "text": [
      "\n",
      "RECV3.SA\n",
      "[*********************100%%**********************]  1 of 1 completed"
     ]
    },
    {
     "name": "stderr",
     "output_type": "stream",
     "text": [
      "Processing:  81%|████████  | 447/554 [02:41<00:33,  3.16it/s]"
     ]
    },
    {
     "name": "stdout",
     "output_type": "stream",
     "text": [
      "\n",
      "REDE3.SA\n",
      "[*********************100%%**********************]  1 of 1 completed"
     ]
    },
    {
     "name": "stderr",
     "output_type": "stream",
     "text": [
      "Processing:  81%|████████  | 448/554 [02:41<00:39,  2.69it/s]"
     ]
    },
    {
     "name": "stdout",
     "output_type": "stream",
     "text": [
      "\n",
      "RENT3.SA\n",
      "[*********************100%%**********************]  1 of 1 completed"
     ]
    },
    {
     "name": "stderr",
     "output_type": "stream",
     "text": [
      "Processing:  81%|████████  | 449/554 [02:41<00:37,  2.80it/s]"
     ]
    },
    {
     "name": "stdout",
     "output_type": "stream",
     "text": [
      "\n",
      "RNEW11.SA\n",
      "[*********************100%%**********************]  1 of 1 completed"
     ]
    },
    {
     "name": "stderr",
     "output_type": "stream",
     "text": [
      "Processing:  81%|████████  | 450/554 [02:42<00:34,  2.99it/s]"
     ]
    },
    {
     "name": "stdout",
     "output_type": "stream",
     "text": [
      "\n",
      "RNEW3.SA\n",
      "[*********************100%%**********************]  1 of 1 completed"
     ]
    },
    {
     "name": "stderr",
     "output_type": "stream",
     "text": [
      "Processing:  81%|████████▏ | 451/554 [02:42<00:32,  3.15it/s]"
     ]
    },
    {
     "name": "stdout",
     "output_type": "stream",
     "text": [
      "\n",
      "RNEW4.SA\n",
      "[*********************100%%**********************]  1 of 1 completed"
     ]
    },
    {
     "name": "stderr",
     "output_type": "stream",
     "text": [
      "Processing:  82%|████████▏ | 452/554 [02:42<00:31,  3.27it/s]"
     ]
    },
    {
     "name": "stdout",
     "output_type": "stream",
     "text": [
      "\n",
      "ROMI3.SA\n",
      "[*********************100%%**********************]  1 of 1 completed"
     ]
    },
    {
     "name": "stderr",
     "output_type": "stream",
     "text": [
      "Processing:  82%|████████▏ | 453/554 [02:43<00:31,  3.18it/s]"
     ]
    },
    {
     "name": "stdout",
     "output_type": "stream",
     "text": [
      "\n",
      "RPAD3.SA\n",
      "[*********************100%%**********************]  1 of 1 completed"
     ]
    },
    {
     "name": "stderr",
     "output_type": "stream",
     "text": [
      "Processing:  82%|████████▏ | 454/554 [02:43<00:30,  3.23it/s]"
     ]
    },
    {
     "name": "stdout",
     "output_type": "stream",
     "text": [
      "\n",
      "RPAD5.SA\n",
      "[*********************100%%**********************]  1 of 1 completed"
     ]
    },
    {
     "name": "stderr",
     "output_type": "stream",
     "text": [
      "Processing:  82%|████████▏ | 455/554 [02:43<00:30,  3.26it/s]"
     ]
    },
    {
     "name": "stdout",
     "output_type": "stream",
     "text": [
      "\n",
      "RPAD6.SA\n",
      "[*********************100%%**********************]  1 of 1 completed"
     ]
    },
    {
     "name": "stderr",
     "output_type": "stream",
     "text": [
      "Processing:  82%|████████▏ | 456/554 [02:44<00:31,  3.14it/s]"
     ]
    },
    {
     "name": "stdout",
     "output_type": "stream",
     "text": [
      "\n",
      "RPMG3.SA\n",
      "[*********************100%%**********************]  1 of 1 completed"
     ]
    },
    {
     "name": "stderr",
     "output_type": "stream",
     "text": [
      "Processing:  82%|████████▏ | 457/554 [02:44<00:29,  3.28it/s]"
     ]
    },
    {
     "name": "stdout",
     "output_type": "stream",
     "text": [
      "\n",
      "RRRP3.SA\n",
      "[*********************100%%**********************]  1 of 1 completed"
     ]
    },
    {
     "name": "stderr",
     "output_type": "stream",
     "text": [
      "Processing:  83%|████████▎ | 458/554 [02:44<00:29,  3.23it/s]"
     ]
    },
    {
     "name": "stdout",
     "output_type": "stream",
     "text": [
      "\n",
      "RSID3.SA\n",
      "[*********************100%%**********************]  1 of 1 completed"
     ]
    },
    {
     "name": "stderr",
     "output_type": "stream",
     "text": [
      "Processing:  83%|████████▎ | 459/554 [02:44<00:28,  3.31it/s]"
     ]
    },
    {
     "name": "stdout",
     "output_type": "stream",
     "text": [
      "\n",
      "RSUL3.SA\n",
      "[*********************100%%**********************]  1 of 1 completed"
     ]
    },
    {
     "name": "stderr",
     "output_type": "stream",
     "text": [
      "Processing:  83%|████████▎ | 460/554 [02:45<00:27,  3.39it/s]"
     ]
    },
    {
     "name": "stdout",
     "output_type": "stream",
     "text": [
      "\n",
      "RSUL4.SA\n",
      "[*********************100%%**********************]  1 of 1 completed"
     ]
    },
    {
     "name": "stderr",
     "output_type": "stream",
     "text": [
      "Processing:  83%|████████▎ | 461/554 [02:45<00:27,  3.44it/s]"
     ]
    },
    {
     "name": "stdout",
     "output_type": "stream",
     "text": [
      "\n",
      "SAEN3.SA\n",
      "[*********************100%%**********************]  1 of 1 completed"
     ]
    },
    {
     "name": "stderr",
     "output_type": "stream",
     "text": [
      "\n",
      "1 Failed download:\n",
      "['SAEN3.SA']: Exception('%ticker%: No timezone found, symbol may be delisted')\n",
      "Processing:  83%|████████▎ | 462/554 [02:46<00:39,  2.35it/s]"
     ]
    },
    {
     "name": "stdout",
     "output_type": "stream",
     "text": [
      "\n",
      "SANB11.SA\n",
      "[*********************100%%**********************]  1 of 1 completed"
     ]
    },
    {
     "name": "stderr",
     "output_type": "stream",
     "text": [
      "Processing:  84%|████████▎ | 463/554 [02:46<00:34,  2.61it/s]"
     ]
    },
    {
     "name": "stdout",
     "output_type": "stream",
     "text": [
      "\n",
      "SANB3.SA\n",
      "[*********************100%%**********************]  1 of 1 completed"
     ]
    },
    {
     "name": "stderr",
     "output_type": "stream",
     "text": [
      "Processing:  84%|████████▍ | 464/554 [02:46<00:32,  2.81it/s]"
     ]
    },
    {
     "name": "stdout",
     "output_type": "stream",
     "text": [
      "\n",
      "SANB4.SA\n",
      "[*********************100%%**********************]  1 of 1 completed"
     ]
    },
    {
     "name": "stderr",
     "output_type": "stream",
     "text": [
      "Processing:  84%|████████▍ | 465/554 [02:47<00:30,  2.91it/s]"
     ]
    },
    {
     "name": "stdout",
     "output_type": "stream",
     "text": [
      "\n",
      "SAPR11.SA\n",
      "[*********************100%%**********************]  1 of 1 completed"
     ]
    },
    {
     "name": "stderr",
     "output_type": "stream",
     "text": [
      "Processing:  84%|████████▍ | 466/554 [02:47<00:28,  3.08it/s]"
     ]
    },
    {
     "name": "stdout",
     "output_type": "stream",
     "text": [
      "\n",
      "SAPR3.SA\n",
      "[*********************100%%**********************]  1 of 1 completed"
     ]
    },
    {
     "name": "stderr",
     "output_type": "stream",
     "text": [
      "Processing:  84%|████████▍ | 467/554 [02:47<00:27,  3.14it/s]"
     ]
    },
    {
     "name": "stdout",
     "output_type": "stream",
     "text": [
      "\n",
      "SAPR4.SA\n",
      "[*********************100%%**********************]  1 of 1 completed"
     ]
    },
    {
     "name": "stderr",
     "output_type": "stream",
     "text": [
      "Processing:  84%|████████▍ | 468/554 [02:48<00:26,  3.19it/s]"
     ]
    },
    {
     "name": "stdout",
     "output_type": "stream",
     "text": [
      "\n",
      "SBFG3.SA\n",
      "[*********************100%%**********************]  1 of 1 completed"
     ]
    },
    {
     "name": "stderr",
     "output_type": "stream",
     "text": [
      "Processing:  85%|████████▍ | 469/554 [02:48<00:25,  3.32it/s]"
     ]
    },
    {
     "name": "stdout",
     "output_type": "stream",
     "text": [
      "\n",
      "SBSP3.SA\n",
      "[*********************100%%**********************]  1 of 1 completed"
     ]
    },
    {
     "name": "stderr",
     "output_type": "stream",
     "text": [
      "Processing:  85%|████████▍ | 470/554 [02:48<00:25,  3.31it/s]"
     ]
    },
    {
     "name": "stdout",
     "output_type": "stream",
     "text": [
      "\n",
      "SCAR3.SA\n",
      "[*********************100%%**********************]  1 of 1 completed"
     ]
    },
    {
     "name": "stderr",
     "output_type": "stream",
     "text": [
      "Processing:  85%|████████▌ | 471/554 [02:48<00:24,  3.34it/s]"
     ]
    },
    {
     "name": "stdout",
     "output_type": "stream",
     "text": [
      "\n",
      "SEER3.SA\n",
      "[*********************100%%**********************]  1 of 1 completed"
     ]
    },
    {
     "name": "stderr",
     "output_type": "stream",
     "text": [
      "Processing:  85%|████████▌ | 472/554 [02:49<00:24,  3.40it/s]"
     ]
    },
    {
     "name": "stdout",
     "output_type": "stream",
     "text": [
      "\n",
      "SEQL3.SA\n",
      "[*********************100%%**********************]  1 of 1 completed"
     ]
    },
    {
     "name": "stderr",
     "output_type": "stream",
     "text": [
      "Processing:  85%|████████▌ | 473/554 [02:49<00:23,  3.45it/s]"
     ]
    },
    {
     "name": "stdout",
     "output_type": "stream",
     "text": [
      "\n",
      "SGPS3.SA\n",
      "[*********************100%%**********************]  1 of 1 completed"
     ]
    },
    {
     "name": "stderr",
     "output_type": "stream",
     "text": [
      "Processing:  86%|████████▌ | 474/554 [02:49<00:22,  3.49it/s]"
     ]
    },
    {
     "name": "stdout",
     "output_type": "stream",
     "text": [
      "\n",
      "SHOW3.SA\n",
      "[*********************100%%**********************]  1 of 1 completed"
     ]
    },
    {
     "name": "stderr",
     "output_type": "stream",
     "text": [
      "Processing:  86%|████████▌ | 475/554 [02:50<00:22,  3.51it/s]"
     ]
    },
    {
     "name": "stdout",
     "output_type": "stream",
     "text": [
      "\n",
      "SHUL3.SA\n",
      "[*********************100%%**********************]  1 of 1 completed"
     ]
    },
    {
     "name": "stderr",
     "output_type": "stream",
     "text": [
      "Processing:  86%|████████▌ | 476/554 [02:50<00:22,  3.45it/s]"
     ]
    },
    {
     "name": "stdout",
     "output_type": "stream",
     "text": [
      "\n",
      "SHUL4.SA\n",
      "[*********************100%%**********************]  1 of 1 completed"
     ]
    },
    {
     "name": "stderr",
     "output_type": "stream",
     "text": [
      "Processing:  86%|████████▌ | 477/554 [02:50<00:22,  3.43it/s]"
     ]
    },
    {
     "name": "stdout",
     "output_type": "stream",
     "text": [
      "\n",
      "SIMH3.SA\n",
      "[*********************100%%**********************]  1 of 1 completed"
     ]
    },
    {
     "name": "stderr",
     "output_type": "stream",
     "text": [
      "Processing:  86%|████████▋ | 478/554 [02:50<00:21,  3.47it/s]"
     ]
    },
    {
     "name": "stdout",
     "output_type": "stream",
     "text": [
      "\n",
      "SLCE3.SA\n",
      "[*********************100%%**********************]  1 of 1 completed"
     ]
    },
    {
     "name": "stderr",
     "output_type": "stream",
     "text": [
      "Processing:  86%|████████▋ | 479/554 [02:51<00:21,  3.42it/s]"
     ]
    },
    {
     "name": "stdout",
     "output_type": "stream",
     "text": [
      "\n",
      "SMFT3.SA\n",
      "[*********************100%%**********************]  1 of 1 completed"
     ]
    },
    {
     "name": "stderr",
     "output_type": "stream",
     "text": [
      "Processing:  87%|████████▋ | 480/554 [02:51<00:21,  3.46it/s]"
     ]
    },
    {
     "name": "stdout",
     "output_type": "stream",
     "text": [
      "\n",
      "SMTO3.SA\n",
      "[*********************100%%**********************]  1 of 1 completed"
     ]
    },
    {
     "name": "stderr",
     "output_type": "stream",
     "text": [
      "Processing:  87%|████████▋ | 481/554 [02:51<00:21,  3.43it/s]"
     ]
    },
    {
     "name": "stdout",
     "output_type": "stream",
     "text": [
      "\n",
      "SNSY3.SA\n",
      "[*********************100%%**********************]  1 of 1 completed"
     ]
    },
    {
     "name": "stderr",
     "output_type": "stream",
     "text": [
      "Processing:  87%|████████▋ | 482/554 [02:52<00:20,  3.52it/s]"
     ]
    },
    {
     "name": "stdout",
     "output_type": "stream",
     "text": [
      "\n",
      "SNSY5.SA\n",
      "[*********************100%%**********************]  1 of 1 completed"
     ]
    },
    {
     "name": "stderr",
     "output_type": "stream",
     "text": [
      "Processing:  87%|████████▋ | 483/554 [02:52<00:20,  3.50it/s]"
     ]
    },
    {
     "name": "stdout",
     "output_type": "stream",
     "text": [
      "\n",
      "SNSY6.SA\n",
      "[*********************100%%**********************]  1 of 1 completed"
     ]
    },
    {
     "name": "stderr",
     "output_type": "stream",
     "text": [
      "Processing:  87%|████████▋ | 484/554 [02:52<00:20,  3.48it/s]"
     ]
    },
    {
     "name": "stdout",
     "output_type": "stream",
     "text": [
      "\n",
      "SOJA3.SA\n",
      "[*********************100%%**********************]  1 of 1 completed"
     ]
    },
    {
     "name": "stderr",
     "output_type": "stream",
     "text": [
      "Processing:  88%|████████▊ | 485/554 [02:52<00:19,  3.47it/s]"
     ]
    },
    {
     "name": "stdout",
     "output_type": "stream",
     "text": [
      "\n",
      "SOMA3.SA\n",
      "[*********************100%%**********************]  1 of 1 completed"
     ]
    },
    {
     "name": "stderr",
     "output_type": "stream",
     "text": [
      "Processing:  88%|████████▊ | 486/554 [02:53<00:19,  3.51it/s]"
     ]
    },
    {
     "name": "stdout",
     "output_type": "stream",
     "text": [
      "\n",
      "SOND3.SA\n",
      "[*********************100%%**********************]  1 of 1 completed"
     ]
    },
    {
     "name": "stderr",
     "output_type": "stream",
     "text": [
      "Processing:  88%|████████▊ | 487/554 [02:53<00:19,  3.48it/s]"
     ]
    },
    {
     "name": "stdout",
     "output_type": "stream",
     "text": [
      "\n",
      "SOND5.SA\n",
      "[*********************100%%**********************]  1 of 1 completed"
     ]
    },
    {
     "name": "stderr",
     "output_type": "stream",
     "text": [
      "Processing:  88%|████████▊ | 488/554 [02:53<00:19,  3.46it/s]"
     ]
    },
    {
     "name": "stdout",
     "output_type": "stream",
     "text": [
      "\n",
      "SOND6.SA\n",
      "[*********************100%%**********************]  1 of 1 completed"
     ]
    },
    {
     "name": "stderr",
     "output_type": "stream",
     "text": [
      "Processing:  88%|████████▊ | 489/554 [02:54<00:19,  3.42it/s]"
     ]
    },
    {
     "name": "stdout",
     "output_type": "stream",
     "text": [
      "\n",
      "SRNA3.SA\n",
      "[*********************100%%**********************]  1 of 1 completed"
     ]
    },
    {
     "name": "stderr",
     "output_type": "stream",
     "text": [
      "Processing:  88%|████████▊ | 490/554 [02:54<00:18,  3.47it/s]"
     ]
    },
    {
     "name": "stdout",
     "output_type": "stream",
     "text": [
      "\n",
      "STBP3.SA\n",
      "[*********************100%%**********************]  1 of 1 completed"
     ]
    },
    {
     "name": "stderr",
     "output_type": "stream",
     "text": [
      "Processing:  89%|████████▊ | 491/554 [02:54<00:18,  3.46it/s]"
     ]
    },
    {
     "name": "stdout",
     "output_type": "stream",
     "text": [
      "\n",
      "SUZB3.SA\n",
      "[*********************100%%**********************]  1 of 1 completed"
     ]
    },
    {
     "name": "stderr",
     "output_type": "stream",
     "text": [
      "Processing:  89%|████████▉ | 492/554 [02:54<00:17,  3.45it/s]"
     ]
    },
    {
     "name": "stdout",
     "output_type": "stream",
     "text": [
      "\n",
      "SYNE3.SA\n",
      "[*********************100%%**********************]  1 of 1 completed"
     ]
    },
    {
     "name": "stderr",
     "output_type": "stream",
     "text": [
      "Processing:  89%|████████▉ | 493/554 [02:55<00:17,  3.40it/s]"
     ]
    },
    {
     "name": "stdout",
     "output_type": "stream",
     "text": [
      "\n",
      "TAEE11.SA\n",
      "[*********************100%%**********************]  1 of 1 completed"
     ]
    },
    {
     "name": "stderr",
     "output_type": "stream",
     "text": [
      "Processing:  89%|████████▉ | 494/554 [02:55<00:17,  3.40it/s]"
     ]
    },
    {
     "name": "stdout",
     "output_type": "stream",
     "text": [
      "\n",
      "TAEE3.SA\n",
      "[*********************100%%**********************]  1 of 1 completed"
     ]
    },
    {
     "name": "stderr",
     "output_type": "stream",
     "text": [
      "Processing:  89%|████████▉ | 495/554 [02:55<00:17,  3.37it/s]"
     ]
    },
    {
     "name": "stdout",
     "output_type": "stream",
     "text": [
      "\n",
      "TAEE4.SA\n",
      "[*********************100%%**********************]  1 of 1 completed"
     ]
    },
    {
     "name": "stderr",
     "output_type": "stream",
     "text": [
      "Processing:  90%|████████▉ | 496/554 [02:56<00:17,  3.39it/s]"
     ]
    },
    {
     "name": "stdout",
     "output_type": "stream",
     "text": [
      "\n",
      "TASA3.SA\n",
      "[*********************100%%**********************]  1 of 1 completed"
     ]
    },
    {
     "name": "stderr",
     "output_type": "stream",
     "text": [
      "Processing:  90%|████████▉ | 497/554 [02:56<00:16,  3.39it/s]"
     ]
    },
    {
     "name": "stdout",
     "output_type": "stream",
     "text": [
      "\n",
      "TASA4.SA\n",
      "[*********************100%%**********************]  1 of 1 completed"
     ]
    },
    {
     "name": "stderr",
     "output_type": "stream",
     "text": [
      "Processing:  90%|████████▉ | 498/554 [02:56<00:16,  3.35it/s]"
     ]
    },
    {
     "name": "stdout",
     "output_type": "stream",
     "text": [
      "\n",
      "TCSA3.SA\n",
      "[*********************100%%**********************]  1 of 1 completed"
     ]
    },
    {
     "name": "stderr",
     "output_type": "stream",
     "text": [
      "Processing:  90%|█████████ | 499/554 [02:57<00:16,  3.41it/s]"
     ]
    },
    {
     "name": "stdout",
     "output_type": "stream",
     "text": [
      "\n",
      "TECN3.SA\n",
      "[*********************100%%**********************]  1 of 1 completed"
     ]
    },
    {
     "name": "stderr",
     "output_type": "stream",
     "text": [
      "Processing:  90%|█████████ | 500/554 [02:57<00:15,  3.45it/s]"
     ]
    },
    {
     "name": "stdout",
     "output_type": "stream",
     "text": [
      "\n",
      "TEGA3.SA\n",
      "[*********************100%%**********************]  1 of 1 completed"
     ]
    },
    {
     "name": "stderr",
     "output_type": "stream",
     "text": [
      "\n",
      "1 Failed download:\n",
      "['TEGA3.SA']: Exception('%ticker%: No timezone found, symbol may be delisted')\n",
      "Processing:  90%|█████████ | 501/554 [02:58<00:22,  2.36it/s]"
     ]
    },
    {
     "name": "stdout",
     "output_type": "stream",
     "text": [
      "\n",
      "TEKA3.SA\n",
      "[*********************100%%**********************]  1 of 1 completed"
     ]
    },
    {
     "name": "stderr",
     "output_type": "stream",
     "text": [
      "Processing:  91%|█████████ | 502/554 [02:58<00:19,  2.63it/s]"
     ]
    },
    {
     "name": "stdout",
     "output_type": "stream",
     "text": [
      "\n",
      "TEKA4.SA\n",
      "[*********************100%%**********************]  1 of 1 completed"
     ]
    },
    {
     "name": "stderr",
     "output_type": "stream",
     "text": [
      "Processing:  91%|█████████ | 503/554 [02:58<00:17,  2.85it/s]"
     ]
    },
    {
     "name": "stdout",
     "output_type": "stream",
     "text": [
      "\n",
      "TELB3.SA\n",
      "[*********************100%%**********************]  1 of 1 completed"
     ]
    },
    {
     "name": "stderr",
     "output_type": "stream",
     "text": [
      "Processing:  91%|█████████ | 504/554 [02:58<00:16,  3.03it/s]"
     ]
    },
    {
     "name": "stdout",
     "output_type": "stream",
     "text": [
      "\n",
      "TELB4.SA\n",
      "[*********************100%%**********************]  1 of 1 completed"
     ]
    },
    {
     "name": "stderr",
     "output_type": "stream",
     "text": [
      "Processing:  91%|█████████ | 505/554 [02:59<00:15,  3.18it/s]"
     ]
    },
    {
     "name": "stdout",
     "output_type": "stream",
     "text": [
      "\n",
      "TEND3.SA\n",
      "[*********************100%%**********************]  1 of 1 completed"
     ]
    },
    {
     "name": "stderr",
     "output_type": "stream",
     "text": [
      "Processing:  91%|█████████▏| 506/554 [02:59<00:14,  3.29it/s]"
     ]
    },
    {
     "name": "stdout",
     "output_type": "stream",
     "text": [
      "\n",
      "TFCO4.SA\n",
      "[*********************100%%**********************]  1 of 1 completed"
     ]
    },
    {
     "name": "stderr",
     "output_type": "stream",
     "text": [
      "Processing:  92%|█████████▏| 507/554 [02:59<00:14,  3.33it/s]"
     ]
    },
    {
     "name": "stdout",
     "output_type": "stream",
     "text": [
      "\n",
      "TGMA3.SA\n",
      "[*********************100%%**********************]  1 of 1 completed"
     ]
    },
    {
     "name": "stderr",
     "output_type": "stream",
     "text": [
      "Processing:  92%|█████████▏| 508/554 [03:00<00:13,  3.35it/s]"
     ]
    },
    {
     "name": "stdout",
     "output_type": "stream",
     "text": [
      "\n",
      "TIMS3.SA\n",
      "[*********************100%%**********************]  1 of 1 completed"
     ]
    },
    {
     "name": "stderr",
     "output_type": "stream",
     "text": [
      "Processing:  92%|█████████▏| 509/554 [03:00<00:13,  3.25it/s]"
     ]
    },
    {
     "name": "stdout",
     "output_type": "stream",
     "text": [
      "\n",
      "TKNO3.SA\n",
      "[*********************100%%**********************]  1 of 1 completed"
     ]
    },
    {
     "name": "stderr",
     "output_type": "stream",
     "text": [
      "Processing:  92%|█████████▏| 510/554 [03:00<00:13,  3.26it/s]"
     ]
    },
    {
     "name": "stdout",
     "output_type": "stream",
     "text": [
      "\n",
      "TKNO4.SA\n",
      "[*********************100%%**********************]  1 of 1 completed"
     ]
    },
    {
     "name": "stderr",
     "output_type": "stream",
     "text": [
      "Processing:  92%|█████████▏| 511/554 [03:00<00:12,  3.31it/s]"
     ]
    },
    {
     "name": "stdout",
     "output_type": "stream",
     "text": [
      "\n",
      "TOTS3.SA\n",
      "[*********************100%%**********************]  1 of 1 completed"
     ]
    },
    {
     "name": "stderr",
     "output_type": "stream",
     "text": [
      "Processing:  92%|█████████▏| 512/554 [03:01<00:12,  3.33it/s]"
     ]
    },
    {
     "name": "stdout",
     "output_type": "stream",
     "text": [
      "\n",
      "TPIS3.SA\n",
      "[*********************100%%**********************]  1 of 1 completed"
     ]
    },
    {
     "name": "stderr",
     "output_type": "stream",
     "text": [
      "Processing:  93%|█████████▎| 513/554 [03:01<00:12,  3.26it/s]"
     ]
    },
    {
     "name": "stdout",
     "output_type": "stream",
     "text": [
      "\n",
      "TRAD3.SA\n",
      "[*********************100%%**********************]  1 of 1 completed"
     ]
    },
    {
     "name": "stderr",
     "output_type": "stream",
     "text": [
      "Processing:  93%|█████████▎| 514/554 [03:01<00:11,  3.33it/s]"
     ]
    },
    {
     "name": "stdout",
     "output_type": "stream",
     "text": [
      "\n",
      "TRIS3.SA\n",
      "[*********************100%%**********************]  1 of 1 completed"
     ]
    },
    {
     "name": "stderr",
     "output_type": "stream",
     "text": [
      "Processing:  93%|█████████▎| 515/554 [03:02<00:11,  3.31it/s]"
     ]
    },
    {
     "name": "stdout",
     "output_type": "stream",
     "text": [
      "\n",
      "TRPL3.SA\n",
      "[*********************100%%**********************]  1 of 1 completed"
     ]
    },
    {
     "name": "stderr",
     "output_type": "stream",
     "text": [
      "Processing:  93%|█████████▎| 516/554 [03:02<00:11,  3.35it/s]"
     ]
    },
    {
     "name": "stdout",
     "output_type": "stream",
     "text": [
      "\n",
      "TRPL4.SA\n",
      "[*********************100%%**********************]  1 of 1 completed"
     ]
    },
    {
     "name": "stderr",
     "output_type": "stream",
     "text": [
      "Processing:  93%|█████████▎| 517/554 [03:02<00:11,  3.31it/s]"
     ]
    },
    {
     "name": "stdout",
     "output_type": "stream",
     "text": [
      "\n",
      "TTEN3.SA\n",
      "[*********************100%%**********************]  1 of 1 completed"
     ]
    },
    {
     "name": "stderr",
     "output_type": "stream",
     "text": [
      "Processing:  94%|█████████▎| 518/554 [03:03<00:10,  3.39it/s]"
     ]
    },
    {
     "name": "stdout",
     "output_type": "stream",
     "text": [
      "\n",
      "TUPY3.SA\n",
      "[*********************100%%**********************]  1 of 1 completed"
     ]
    },
    {
     "name": "stderr",
     "output_type": "stream",
     "text": [
      "Processing:  94%|█████████▎| 519/554 [03:03<00:10,  3.38it/s]"
     ]
    },
    {
     "name": "stdout",
     "output_type": "stream",
     "text": [
      "\n",
      "TXRX3.SA\n",
      "[*********************100%%**********************]  1 of 1 completed"
     ]
    },
    {
     "name": "stderr",
     "output_type": "stream",
     "text": [
      "Processing:  94%|█████████▍| 520/554 [03:03<00:09,  3.43it/s]"
     ]
    },
    {
     "name": "stdout",
     "output_type": "stream",
     "text": [
      "\n",
      "TXRX4.SA\n",
      "[*********************100%%**********************]  1 of 1 completed"
     ]
    },
    {
     "name": "stderr",
     "output_type": "stream",
     "text": [
      "Processing:  94%|█████████▍| 521/554 [03:03<00:09,  3.47it/s]"
     ]
    },
    {
     "name": "stdout",
     "output_type": "stream",
     "text": [
      "\n",
      "UCAS3.SA\n",
      "[*********************100%%**********************]  1 of 1 completed"
     ]
    },
    {
     "name": "stderr",
     "output_type": "stream",
     "text": [
      "Processing:  94%|█████████▍| 522/554 [03:04<00:09,  3.45it/s]"
     ]
    },
    {
     "name": "stdout",
     "output_type": "stream",
     "text": [
      "\n",
      "UGPA3.SA\n",
      "[*********************100%%**********************]  1 of 1 completed"
     ]
    },
    {
     "name": "stderr",
     "output_type": "stream",
     "text": [
      "Processing:  94%|█████████▍| 523/554 [03:04<00:09,  3.40it/s]"
     ]
    },
    {
     "name": "stdout",
     "output_type": "stream",
     "text": [
      "\n",
      "UNIP3.SA\n",
      "[*********************100%%**********************]  1 of 1 completed"
     ]
    },
    {
     "name": "stderr",
     "output_type": "stream",
     "text": [
      "Processing:  95%|█████████▍| 524/554 [03:04<00:09,  3.20it/s]"
     ]
    },
    {
     "name": "stdout",
     "output_type": "stream",
     "text": [
      "\n",
      "UNIP5.SA\n",
      "[*********************100%%**********************]  1 of 1 completed"
     ]
    },
    {
     "name": "stderr",
     "output_type": "stream",
     "text": [
      "Processing:  95%|█████████▍| 525/554 [03:05<00:08,  3.25it/s]"
     ]
    },
    {
     "name": "stdout",
     "output_type": "stream",
     "text": [
      "\n",
      "UNIP6.SA\n",
      "[*********************100%%**********************]  1 of 1 completed"
     ]
    },
    {
     "name": "stderr",
     "output_type": "stream",
     "text": [
      "Processing:  95%|█████████▍| 526/554 [03:05<00:08,  3.28it/s]"
     ]
    },
    {
     "name": "stdout",
     "output_type": "stream",
     "text": [
      "\n",
      "UPKP3.SA\n",
      "[*********************100%%**********************]  1 of 1 completed"
     ]
    },
    {
     "name": "stderr",
     "output_type": "stream",
     "text": [
      "\n",
      "1 Failed download:\n",
      "['UPKP3.SA']: Exception('%ticker%: No timezone found, symbol may be delisted')\n",
      "Processing:  95%|█████████▌| 527/554 [03:06<00:11,  2.33it/s]"
     ]
    },
    {
     "name": "stdout",
     "output_type": "stream",
     "text": [
      "\n",
      "USIM3.SA\n",
      "[*********************100%%**********************]  1 of 1 completed"
     ]
    },
    {
     "name": "stderr",
     "output_type": "stream",
     "text": [
      "Processing:  95%|█████████▌| 528/554 [03:06<00:10,  2.54it/s]"
     ]
    },
    {
     "name": "stdout",
     "output_type": "stream",
     "text": [
      "\n",
      "USIM5.SA\n",
      "[*********************100%%**********************]  1 of 1 completed"
     ]
    },
    {
     "name": "stderr",
     "output_type": "stream",
     "text": [
      "Processing:  95%|█████████▌| 529/554 [03:06<00:09,  2.71it/s]"
     ]
    },
    {
     "name": "stdout",
     "output_type": "stream",
     "text": [
      "\n",
      "USIM6.SA\n",
      "[*********************100%%**********************]  1 of 1 completed"
     ]
    },
    {
     "name": "stderr",
     "output_type": "stream",
     "text": [
      "Processing:  96%|█████████▌| 530/554 [03:07<00:08,  2.89it/s]"
     ]
    },
    {
     "name": "stdout",
     "output_type": "stream",
     "text": [
      "\n",
      "VALE3.SA\n",
      "[*********************100%%**********************]  1 of 1 completed"
     ]
    },
    {
     "name": "stderr",
     "output_type": "stream",
     "text": [
      "Processing:  96%|█████████▌| 531/554 [03:07<00:07,  3.04it/s]"
     ]
    },
    {
     "name": "stdout",
     "output_type": "stream",
     "text": [
      "\n",
      "VAMO3.SA\n",
      "[*********************100%%**********************]  1 of 1 completed"
     ]
    },
    {
     "name": "stderr",
     "output_type": "stream",
     "text": [
      "Processing:  96%|█████████▌| 532/554 [03:07<00:06,  3.19it/s]"
     ]
    },
    {
     "name": "stdout",
     "output_type": "stream",
     "text": [
      "\n",
      "VBBR3.SA\n",
      "[*********************100%%**********************]  1 of 1 completed"
     ]
    },
    {
     "name": "stderr",
     "output_type": "stream",
     "text": [
      "Processing:  96%|█████████▌| 533/554 [03:07<00:06,  3.12it/s]"
     ]
    },
    {
     "name": "stdout",
     "output_type": "stream",
     "text": [
      "\n",
      "VITT3.SA\n",
      "[*********************100%%**********************]  1 of 1 completed"
     ]
    },
    {
     "name": "stderr",
     "output_type": "stream",
     "text": [
      "Processing:  96%|█████████▋| 534/554 [03:08<00:06,  3.26it/s]"
     ]
    },
    {
     "name": "stdout",
     "output_type": "stream",
     "text": [
      "\n",
      "VIVA3.SA\n",
      "[*********************100%%**********************]  1 of 1 completed"
     ]
    },
    {
     "name": "stderr",
     "output_type": "stream",
     "text": [
      "Processing:  97%|█████████▋| 535/554 [03:08<00:05,  3.34it/s]"
     ]
    },
    {
     "name": "stdout",
     "output_type": "stream",
     "text": [
      "\n",
      "VIVR3.SA\n",
      "[*********************100%%**********************]  1 of 1 completed"
     ]
    },
    {
     "name": "stderr",
     "output_type": "stream",
     "text": [
      "Processing:  97%|█████████▋| 536/554 [03:08<00:05,  3.44it/s]"
     ]
    },
    {
     "name": "stdout",
     "output_type": "stream",
     "text": [
      "\n",
      "VIVT3.SA\n",
      "[*********************100%%**********************]  1 of 1 completed"
     ]
    },
    {
     "name": "stderr",
     "output_type": "stream",
     "text": [
      "Processing:  97%|█████████▋| 537/554 [03:09<00:05,  3.35it/s]"
     ]
    },
    {
     "name": "stdout",
     "output_type": "stream",
     "text": [
      "\n",
      "VLID3.SA\n",
      "[*********************100%%**********************]  1 of 1 completed"
     ]
    },
    {
     "name": "stderr",
     "output_type": "stream",
     "text": [
      "Processing:  97%|█████████▋| 538/554 [03:09<00:04,  3.37it/s]"
     ]
    },
    {
     "name": "stdout",
     "output_type": "stream",
     "text": [
      "\n",
      "VSPT3.SA\n",
      "[*********************100%%**********************]  1 of 1 completed"
     ]
    },
    {
     "name": "stderr",
     "output_type": "stream",
     "text": [
      "Processing:  97%|█████████▋| 539/554 [03:09<00:04,  3.43it/s]"
     ]
    },
    {
     "name": "stdout",
     "output_type": "stream",
     "text": [
      "\n",
      "VSPT4.SA\n",
      "[*********************100%%**********************]  1 of 1 completed"
     ]
    },
    {
     "name": "stderr",
     "output_type": "stream",
     "text": [
      "\n",
      "1 Failed download:\n",
      "['VSPT4.SA']: Exception(\"%ticker%: Period 'max' is invalid, must be one of ['1d', '5d']\")\n",
      "Processing:  97%|█████████▋| 540/554 [03:09<00:03,  3.53it/s]"
     ]
    },
    {
     "name": "stdout",
     "output_type": "stream",
     "text": [
      "\n",
      "VSTE3.SA\n",
      "[*********************100%%**********************]  1 of 1 completed"
     ]
    },
    {
     "name": "stderr",
     "output_type": "stream",
     "text": [
      "Processing:  98%|█████████▊| 541/554 [03:10<00:03,  3.45it/s]"
     ]
    },
    {
     "name": "stdout",
     "output_type": "stream",
     "text": [
      "\n",
      "VULC3.SA\n",
      "[*********************100%%**********************]  1 of 1 completed"
     ]
    },
    {
     "name": "stderr",
     "output_type": "stream",
     "text": [
      "Processing:  98%|█████████▊| 542/554 [03:10<00:03,  3.43it/s]"
     ]
    },
    {
     "name": "stdout",
     "output_type": "stream",
     "text": [
      "\n",
      "VVEO3.SA\n",
      "[*********************100%%**********************]  1 of 1 completed"
     ]
    },
    {
     "name": "stderr",
     "output_type": "stream",
     "text": [
      "Processing:  98%|█████████▊| 543/554 [03:10<00:03,  3.46it/s]"
     ]
    },
    {
     "name": "stdout",
     "output_type": "stream",
     "text": [
      "\n",
      "WEGE3.SA\n",
      "[*********************100%%**********************]  1 of 1 completed"
     ]
    },
    {
     "name": "stderr",
     "output_type": "stream",
     "text": [
      "Processing:  98%|█████████▊| 544/554 [03:11<00:02,  3.41it/s]"
     ]
    },
    {
     "name": "stdout",
     "output_type": "stream",
     "text": [
      "\n",
      "WEST3.SA\n",
      "[*********************100%%**********************]  1 of 1 completed"
     ]
    },
    {
     "name": "stderr",
     "output_type": "stream",
     "text": [
      "Processing:  98%|█████████▊| 545/554 [03:11<00:02,  3.45it/s]"
     ]
    },
    {
     "name": "stdout",
     "output_type": "stream",
     "text": [
      "\n",
      "WHRL3.SA\n",
      "[*********************100%%**********************]  1 of 1 completed"
     ]
    },
    {
     "name": "stderr",
     "output_type": "stream",
     "text": [
      "Processing:  99%|█████████▊| 546/554 [03:11<00:02,  3.45it/s]"
     ]
    },
    {
     "name": "stdout",
     "output_type": "stream",
     "text": [
      "\n",
      "WHRL4.SA\n",
      "[*********************100%%**********************]  1 of 1 completed"
     ]
    },
    {
     "name": "stderr",
     "output_type": "stream",
     "text": [
      "Processing:  99%|█████████▊| 547/554 [03:12<00:02,  3.45it/s]"
     ]
    },
    {
     "name": "stdout",
     "output_type": "stream",
     "text": [
      "\n",
      "WIZC3.SA\n",
      "[*********************100%%**********************]  1 of 1 completed"
     ]
    },
    {
     "name": "stderr",
     "output_type": "stream",
     "text": [
      "Processing:  99%|█████████▉| 548/554 [03:12<00:01,  3.48it/s]"
     ]
    },
    {
     "name": "stdout",
     "output_type": "stream",
     "text": [
      "\n",
      "WLMM3.SA\n",
      "[*********************100%%**********************]  1 of 1 completed"
     ]
    },
    {
     "name": "stderr",
     "output_type": "stream",
     "text": [
      "Processing:  99%|█████████▉| 549/554 [03:12<00:01,  3.49it/s]"
     ]
    },
    {
     "name": "stdout",
     "output_type": "stream",
     "text": [
      "\n",
      "WLMM4.SA\n",
      "[*********************100%%**********************]  1 of 1 completed"
     ]
    },
    {
     "name": "stderr",
     "output_type": "stream",
     "text": [
      "Processing:  99%|█████████▉| 550/554 [03:12<00:01,  3.43it/s]"
     ]
    },
    {
     "name": "stdout",
     "output_type": "stream",
     "text": [
      "\n",
      "YBRA3.SA\n",
      "[*********************100%%**********************]  1 of 1 completed"
     ]
    },
    {
     "name": "stderr",
     "output_type": "stream",
     "text": [
      "\n",
      "1 Failed download:\n",
      "['YBRA3.SA']: Exception('%ticker%: No timezone found, symbol may be delisted')\n",
      "Processing:  99%|█████████▉| 551/554 [03:13<00:01,  2.16it/s]"
     ]
    },
    {
     "name": "stdout",
     "output_type": "stream",
     "text": [
      "\n",
      "YBRA4.SA\n",
      "[*********************100%%**********************]  1 of 1 completed"
     ]
    },
    {
     "name": "stderr",
     "output_type": "stream",
     "text": [
      "\n",
      "1 Failed download:\n",
      "['YBRA4.SA']: Exception(\"%ticker%: Data doesn't exist for startDate = 1641006000, endDate = 1672542000\")\n",
      "Processing: 100%|█████████▉| 552/554 [03:14<00:01,  1.83it/s]"
     ]
    },
    {
     "name": "stdout",
     "output_type": "stream",
     "text": [
      "\n",
      "YDUQ3.SA\n",
      "[*********************100%%**********************]  1 of 1 completed"
     ]
    },
    {
     "name": "stderr",
     "output_type": "stream",
     "text": [
      "Processing: 100%|█████████▉| 553/554 [03:14<00:00,  2.13it/s]"
     ]
    },
    {
     "name": "stdout",
     "output_type": "stream",
     "text": [
      "\n",
      "ZAMP3.SA\n",
      "[*********************100%%**********************]  1 of 1 completed"
     ]
    },
    {
     "name": "stderr",
     "output_type": "stream",
     "text": [
      "Processing: 100%|██████████| 554/554 [03:15<00:00,  2.84it/s]"
     ]
    },
    {
     "name": "stdout",
     "output_type": "stream",
     "text": [
      "\n"
     ]
    },
    {
     "name": "stderr",
     "output_type": "stream",
     "text": [
      "\n"
     ]
    }
   ],
   "source": [
    "for stock in tqdm(stock_list[:], desc=\"Processing\"):\n",
    "    print(stock)\n",
    "    temp_df = yf.download(stock, start=start_date, end=end_date)\n",
    "    if len(temp_df) != 0:\n",
    "        temp_df = temp_df.assign(ticker = stock)\n",
    "        stocks_df = pd.concat([stocks_df[df_cols], temp_df[df_cols]])"
   ]
  },
  {
   "cell_type": "code",
   "execution_count": 85,
   "metadata": {},
   "outputs": [
    {
     "data": {
      "text/plain": [
       "array(['AALR3.SA', 'ABCB4.SA', 'ABEV3.SA', 'AERI3.SA', 'AESB3.SA',\n",
       "       'AFLT3.SA', 'AGRO3.SA', 'AGXY3.SA', 'AHEB3.SA', 'AHEB5.SA',\n",
       "       'AHEB6.SA', 'ALLD3.SA', 'ALPA3.SA', 'ALPA4.SA', 'ALPK3.SA',\n",
       "       'ALUP11.SA', 'ALUP3.SA', 'ALUP4.SA', 'AMAR3.SA', 'AMBP3.SA',\n",
       "       'AMER3.SA', 'ANIM3.SA', 'APER3.SA', 'ARML3.SA', 'ARZZ3.SA',\n",
       "       'ASAI3.SA', 'ATMP3.SA', 'ATOM3.SA', 'AURE3.SA', 'AVLL3.SA',\n",
       "       'AZEV3.SA', 'AZEV4.SA', 'AZUL4.SA', 'B3SA3.SA', 'BAHI3.SA',\n",
       "       'BALM3.SA', 'BALM4.SA', 'BAUH3.SA', 'BAUH4.SA', 'BAZA3.SA',\n",
       "       'BBAS3.SA', 'BBDC3.SA', 'BBDC4.SA', 'BBSE3.SA', 'BDLL3.SA',\n",
       "       'BDLL4.SA', 'BEEF3.SA', 'BEES3.SA', 'BEES4.SA', 'BGIP3.SA',\n",
       "       'BGIP4.SA', 'BHIA3.SA', 'BIOM3.SA', 'BLAU3.SA', 'BMEB3.SA',\n",
       "       'BMEB4.SA', 'BMGB4.SA', 'BMIN3.SA', 'BMIN4.SA', 'BMKS3.SA',\n",
       "       'BMOB3.SA', 'BNBR3.SA', 'BOBR3.SA', 'BOBR4.SA', 'BPAC11.SA',\n",
       "       'BPAC3.SA', 'BPAC5.SA', 'BPAN4.SA', 'BRAP3.SA', 'BRAP4.SA',\n",
       "       'BRBI11.SA', 'BRFS3.SA', 'BRGE11.SA', 'BRGE12.SA', 'BRGE3.SA',\n",
       "       'BRGE5.SA', 'BRGE6.SA', 'BRGE7.SA', 'BRGE8.SA', 'BRIT3.SA',\n",
       "       'BRIV3.SA', 'BRIV4.SA', 'BRKM3.SA', 'BRKM5.SA', 'BRKM6.SA',\n",
       "       'BRSR3.SA', 'BRSR5.SA', 'BRSR6.SA', 'BSLI3.SA', 'BSLI4.SA',\n",
       "       'CALI3.SA', 'CAMB3.SA', 'CAML3.SA', 'CASH3.SA', 'CASN3.SA',\n",
       "       'CASN4.SA', 'CBAV3.SA', 'CBEE3.SA', 'CCRO3.SA', 'CEAB3.SA',\n",
       "       'CEBR3.SA', 'CEBR5.SA', 'CEBR6.SA', 'CEDO3.SA', 'CEDO4.SA',\n",
       "       'CEEB3.SA', 'CEEB5.SA', 'CEED3.SA', 'CEED4.SA', 'CEGR3.SA',\n",
       "       'CGAS3.SA', 'CGAS5.SA', 'CGRA3.SA', 'CGRA4.SA', 'CIEL3.SA',\n",
       "       'CLSA3.SA', 'CLSC3.SA', 'CLSC4.SA', 'CMIG3.SA', 'CMIG4.SA',\n",
       "       'CMIN3.SA', 'COCE3.SA', 'COCE5.SA', 'COCE6.SA', 'COGN3.SA',\n",
       "       'CORR3.SA', 'CORR4.SA', 'CPFE3.SA', 'CPLE11.SA', 'CPLE3.SA',\n",
       "       'CPLE5.SA', 'CPLE6.SA', 'CRFB3.SA', 'CRIV3.SA', 'CRIV4.SA',\n",
       "       'CRPG3.SA', 'CRPG5.SA', 'CRPG6.SA', 'CSAB3.SA', 'CSAB4.SA',\n",
       "       'CSAN3.SA', 'CSED3.SA', 'CSMG3.SA', 'CSNA3.SA', 'CSRN3.SA',\n",
       "       'CSRN5.SA', 'CSRN6.SA', 'CSUD3.SA', 'CTKA3.SA', 'CTKA4.SA',\n",
       "       'CTNM3.SA', 'CTNM4.SA', 'CTSA3.SA', 'CTSA4.SA', 'CURY3.SA',\n",
       "       'CVCB3.SA', 'CXSE3.SA', 'CYRE3.SA', 'DASA3.SA', 'DESK3.SA',\n",
       "       'DEXP3.SA', 'DEXP4.SA', 'DIRR3.SA', 'DMFN3.SA', 'DMVF3.SA',\n",
       "       'DOHL3.SA', 'DOHL4.SA', 'DOTZ3.SA', 'DTCY3.SA', 'DXCO3.SA',\n",
       "       'EALT3.SA', 'EALT4.SA', 'ECOR3.SA', 'EGIE3.SA', 'EKTR3.SA',\n",
       "       'EKTR4.SA', 'ELET3.SA', 'ELET5.SA', 'ELET6.SA', 'ELMD3.SA',\n",
       "       'EMAE3.SA', 'EMAE4.SA', 'EMBR3.SA', 'ENAT3.SA', 'ENEV3.SA',\n",
       "       'ENGI11.SA', 'ENGI3.SA', 'ENGI4.SA', 'ENJU3.SA', 'ENMT3.SA',\n",
       "       'ENMT4.SA', 'EPAR3.SA', 'EQMA3B.SA', 'EQPA3.SA', 'EQPA5.SA',\n",
       "       'EQPA6.SA', 'EQPA7.SA', 'EQTL3.SA', 'ESPA3.SA', 'ESTR3.SA',\n",
       "       'ESTR4.SA', 'ETER3.SA', 'EUCA3.SA', 'EUCA4.SA', 'EVEN3.SA',\n",
       "       'EZTC3.SA', 'FESA3.SA', 'FESA4.SA', 'FHER3.SA', 'FIEI3.SA',\n",
       "       'FIGE3.SA', 'FIGE4.SA', 'FIQE3.SA', 'FLRY3.SA', 'FRAS3.SA',\n",
       "       'FRIO3.SA', 'FRTA3.SA', 'GEPA3.SA', 'GEPA4.SA', 'GFSA3.SA',\n",
       "       'GGBR3.SA', 'GGBR4.SA', 'GGPS3.SA', 'GMAT3.SA', 'GOAU3.SA',\n",
       "       'GOAU4.SA', 'GOLL4.SA', 'GPAR3.SA', 'GRND3.SA', 'GSHP3.SA',\n",
       "       'GUAR3.SA', 'HAGA3.SA', 'HAGA4.SA', 'HAPV3.SA', 'HBOR3.SA',\n",
       "       'HBRE3.SA', 'HBSA3.SA', 'HBTS5.SA', 'HETA3.SA', 'HETA4.SA',\n",
       "       'HOOT3.SA', 'HOOT4.SA', 'HYPE3.SA', 'IFCM3.SA', 'IGTI11.SA',\n",
       "       'IGTI3.SA', 'INEP3.SA', 'INEP4.SA', 'INTB3.SA', 'IRBR3.SA',\n",
       "       'ITSA3.SA', 'ITSA4.SA', 'ITUB3.SA', 'ITUB4.SA', 'JALL3.SA',\n",
       "       'JBSS3.SA', 'JFEN3.SA', 'JHSF3.SA', 'JOPA3.SA', 'JOPA4.SA',\n",
       "       'JSLG3.SA', 'KEPL3.SA', 'KLBN11.SA', 'KLBN3.SA', 'KLBN4.SA',\n",
       "       'KRSA3.SA', 'LAND3.SA', 'LAVV3.SA', 'LEVE3.SA', 'LIGT3.SA',\n",
       "       'LIPR3.SA', 'LJQQ3.SA', 'LOGG3.SA', 'LOGN3.SA', 'LPSB3.SA',\n",
       "       'LREN3.SA', 'LUPA3.SA', 'LUXM3.SA', 'LUXM4.SA', 'LVTC3.SA',\n",
       "       'LWSA3.SA', 'MAPT3.SA', 'MAPT4.SA', 'MATD3.SA', 'MBLY3.SA',\n",
       "       'MDIA3.SA', 'MDNE3.SA', 'MEAL3.SA', 'MELK3.SA', 'MERC3.SA',\n",
       "       'MERC4.SA', 'MGEL3.SA', 'MGEL4.SA', 'MGLU3.SA', 'MILS3.SA',\n",
       "       'MLAS3.SA', 'MMAQ3.SA', 'MMAQ4.SA', 'MNDL3.SA', 'MNPR3.SA',\n",
       "       'MOAR3.SA', 'MOVI3.SA', 'MRFG3.SA', 'MRSA3B.SA', 'MRSA5B.SA',\n",
       "       'MRSA6B.SA', 'MRVE3.SA', 'MSPA3.SA', 'MSPA4.SA', 'MTRE3.SA',\n",
       "       'MTSA3.SA', 'MTSA4.SA', 'MULT3.SA', 'MWET3.SA', 'MWET4.SA',\n",
       "       'MYPK3.SA', 'NEMO3.SA', 'NEOE3.SA', 'NEXP3.SA', 'NGRD3.SA',\n",
       "       'NINJ3.SA', 'NORD3.SA', 'NTCO3.SA', 'NUTR3.SA', 'ODER4.SA',\n",
       "       'ODPV3.SA', 'OFSA3.SA', 'OIBR3.SA', 'OIBR4.SA', 'ONCO3.SA',\n",
       "       'OPCT3.SA', 'ORVR3.SA', 'OSXB3.SA', 'PATI3.SA', 'PATI4.SA',\n",
       "       'PCAR3.SA', 'PDGR3.SA', 'PDTC3.SA', 'PEAB3.SA', 'PEAB4.SA',\n",
       "       'PETR3.SA', 'PETR4.SA', 'PETZ3.SA', 'PFRM3.SA', 'PGMN3.SA',\n",
       "       'PINE3.SA', 'PINE4.SA', 'PLAS3.SA', 'PLPL3.SA', 'PMAM3.SA',\n",
       "       'PNVL3.SA', 'POMO3.SA', 'POMO4.SA', 'PORT3.SA', 'POSI3.SA',\n",
       "       'PPAR3.SA', 'PPLA11.SA', 'PRIO3.SA', 'PRNR3.SA', 'PSSA3.SA',\n",
       "       'PSVM11.SA', 'PTBL3.SA', 'PTNT3.SA', 'PTNT4.SA', 'QUAL3.SA',\n",
       "       'RADL3.SA', 'RAIL3.SA', 'RAIZ4.SA', 'RANI3.SA', 'RAPT3.SA',\n",
       "       'RAPT4.SA', 'RCSL3.SA', 'RCSL4.SA', 'RDNI3.SA', 'RDOR3.SA',\n",
       "       'RECV3.SA', 'REDE3.SA', 'RENT3.SA', 'RNEW11.SA', 'RNEW3.SA',\n",
       "       'RNEW4.SA', 'ROMI3.SA', 'RPAD3.SA', 'RPAD5.SA', 'RPAD6.SA',\n",
       "       'RPMG3.SA', 'RRRP3.SA', 'RSID3.SA', 'RSUL3.SA', 'RSUL4.SA',\n",
       "       'SANB11.SA', 'SANB3.SA', 'SANB4.SA', 'SAPR11.SA', 'SAPR3.SA',\n",
       "       'SAPR4.SA', 'SBFG3.SA', 'SBSP3.SA', 'SCAR3.SA', 'SEER3.SA',\n",
       "       'SEQL3.SA', 'SGPS3.SA', 'SHOW3.SA', 'SHUL3.SA', 'SHUL4.SA',\n",
       "       'SIMH3.SA', 'SLCE3.SA', 'SMFT3.SA', 'SMTO3.SA', 'SNSY3.SA',\n",
       "       'SNSY5.SA', 'SNSY6.SA', 'SOJA3.SA', 'SOMA3.SA', 'SOND3.SA',\n",
       "       'SOND5.SA', 'SOND6.SA', 'SRNA3.SA', 'STBP3.SA', 'SUZB3.SA',\n",
       "       'SYNE3.SA', 'TAEE11.SA', 'TAEE3.SA', 'TAEE4.SA', 'TASA3.SA',\n",
       "       'TASA4.SA', 'TCSA3.SA', 'TECN3.SA', 'TEKA3.SA', 'TEKA4.SA',\n",
       "       'TELB3.SA', 'TELB4.SA', 'TEND3.SA', 'TFCO4.SA', 'TGMA3.SA',\n",
       "       'TIMS3.SA', 'TKNO3.SA', 'TKNO4.SA', 'TOTS3.SA', 'TPIS3.SA',\n",
       "       'TRAD3.SA', 'TRIS3.SA', 'TRPL3.SA', 'TRPL4.SA', 'TTEN3.SA',\n",
       "       'TUPY3.SA', 'TXRX3.SA', 'TXRX4.SA', 'UCAS3.SA', 'UGPA3.SA',\n",
       "       'UNIP3.SA', 'UNIP5.SA', 'UNIP6.SA', 'USIM3.SA', 'USIM5.SA',\n",
       "       'USIM6.SA', 'VALE3.SA', 'VAMO3.SA', 'VBBR3.SA', 'VITT3.SA',\n",
       "       'VIVA3.SA', 'VIVR3.SA', 'VIVT3.SA', 'VLID3.SA', 'VSPT3.SA',\n",
       "       'VSTE3.SA', 'VULC3.SA', 'VVEO3.SA', 'WEGE3.SA', 'WEST3.SA',\n",
       "       'WHRL3.SA', 'WHRL4.SA', 'WIZC3.SA', 'WLMM3.SA', 'WLMM4.SA',\n",
       "       'YDUQ3.SA', 'ZAMP3.SA'], dtype=object)"
      ]
     },
     "execution_count": 85,
     "metadata": {},
     "output_type": "execute_result"
    }
   ],
   "source": [
    "stocks_df['ticker'].unique()"
   ]
  },
  {
   "cell_type": "code",
   "execution_count": 86,
   "metadata": {},
   "outputs": [],
   "source": [
    "stocks_df.to_parquet('b3_stock_data.parquet')"
   ]
  },
  {
   "cell_type": "code",
   "execution_count": 87,
   "metadata": {},
   "outputs": [
    {
     "data": {
      "text/plain": [
       "array(['AALR3.SA', 'ABCB4.SA', 'ABEV3.SA', 'AERI3.SA', 'AESB3.SA',\n",
       "       'AFLT3.SA', 'AGRO3.SA', 'AGXY3.SA', 'AHEB3.SA', 'AHEB5.SA',\n",
       "       'AHEB6.SA', 'ALLD3.SA', 'ALPA3.SA', 'ALPA4.SA', 'ALPK3.SA',\n",
       "       'ALUP11.SA', 'ALUP3.SA', 'ALUP4.SA', 'AMAR3.SA', 'AMBP3.SA',\n",
       "       'AMER3.SA', 'ANIM3.SA', 'APER3.SA', 'ARML3.SA', 'ARZZ3.SA',\n",
       "       'ASAI3.SA', 'ATMP3.SA', 'ATOM3.SA', 'AURE3.SA', 'AVLL3.SA',\n",
       "       'AZEV3.SA', 'AZEV4.SA', 'AZUL4.SA', 'B3SA3.SA', 'BAHI3.SA',\n",
       "       'BALM3.SA', 'BALM4.SA', 'BAUH3.SA', 'BAUH4.SA', 'BAZA3.SA',\n",
       "       'BBAS3.SA', 'BBDC3.SA', 'BBDC4.SA', 'BBSE3.SA', 'BDLL3.SA',\n",
       "       'BDLL4.SA', 'BEEF3.SA', 'BEES3.SA', 'BEES4.SA', 'BGIP3.SA',\n",
       "       'BGIP4.SA', 'BHIA3.SA', 'BIOM3.SA', 'BLAU3.SA', 'BMEB3.SA',\n",
       "       'BMEB4.SA', 'BMGB4.SA', 'BMIN3.SA', 'BMIN4.SA', 'BMKS3.SA',\n",
       "       'BMOB3.SA', 'BNBR3.SA', 'BOBR3.SA', 'BOBR4.SA', 'BPAC11.SA',\n",
       "       'BPAC3.SA', 'BPAC5.SA', 'BPAN4.SA', 'BRAP3.SA', 'BRAP4.SA',\n",
       "       'BRBI11.SA', 'BRFS3.SA', 'BRGE11.SA', 'BRGE12.SA', 'BRGE3.SA',\n",
       "       'BRGE5.SA', 'BRGE6.SA', 'BRGE7.SA', 'BRGE8.SA', 'BRIT3.SA',\n",
       "       'BRIV3.SA', 'BRIV4.SA', 'BRKM3.SA', 'BRKM5.SA', 'BRKM6.SA',\n",
       "       'BRSR3.SA', 'BRSR5.SA', 'BRSR6.SA', 'BSLI3.SA', 'BSLI4.SA',\n",
       "       'CALI3.SA', 'CAMB3.SA', 'CAML3.SA', 'CASH3.SA', 'CASN3.SA',\n",
       "       'CASN4.SA', 'CBAV3.SA', 'CBEE3.SA', 'CCRO3.SA', 'CEAB3.SA',\n",
       "       'CEBR3.SA', 'CEBR5.SA', 'CEBR6.SA', 'CEDO3.SA', 'CEDO4.SA',\n",
       "       'CEEB3.SA', 'CEEB5.SA', 'CEED3.SA', 'CEED4.SA', 'CEGR3.SA',\n",
       "       'CGAS3.SA', 'CGAS5.SA', 'CGRA3.SA', 'CGRA4.SA', 'CIEL3.SA',\n",
       "       'CLSA3.SA', 'CLSC3.SA', 'CLSC4.SA', 'CMIG3.SA', 'CMIG4.SA',\n",
       "       'CMIN3.SA', 'COCE3.SA', 'COCE5.SA', 'COCE6.SA', 'COGN3.SA',\n",
       "       'CORR3.SA', 'CORR4.SA', 'CPFE3.SA', 'CPLE11.SA', 'CPLE3.SA',\n",
       "       'CPLE5.SA', 'CPLE6.SA', 'CRFB3.SA', 'CRIV3.SA', 'CRIV4.SA',\n",
       "       'CRPG3.SA', 'CRPG5.SA', 'CRPG6.SA', 'CSAB3.SA', 'CSAB4.SA',\n",
       "       'CSAN3.SA', 'CSED3.SA', 'CSMG3.SA', 'CSNA3.SA', 'CSRN3.SA',\n",
       "       'CSRN5.SA', 'CSRN6.SA', 'CSUD3.SA', 'CTKA3.SA', 'CTKA4.SA',\n",
       "       'CTNM3.SA', 'CTNM4.SA', 'CTSA3.SA', 'CTSA4.SA', 'CURY3.SA',\n",
       "       'CVCB3.SA', 'CXSE3.SA', 'CYRE3.SA', 'DASA3.SA', 'DESK3.SA',\n",
       "       'DEXP3.SA', 'DEXP4.SA', 'DIRR3.SA', 'DMFN3.SA', 'DMVF3.SA',\n",
       "       'DOHL3.SA', 'DOHL4.SA', 'DOTZ3.SA', 'DTCY3.SA', 'DXCO3.SA',\n",
       "       'EALT3.SA', 'EALT4.SA', 'ECOR3.SA', 'EGIE3.SA', 'EKTR3.SA',\n",
       "       'EKTR4.SA', 'ELET3.SA', 'ELET5.SA', 'ELET6.SA', 'ELMD3.SA',\n",
       "       'EMAE3.SA', 'EMAE4.SA', 'EMBR3.SA', 'ENAT3.SA', 'ENEV3.SA',\n",
       "       'ENGI11.SA', 'ENGI3.SA', 'ENGI4.SA', 'ENJU3.SA', 'ENMT3.SA',\n",
       "       'ENMT4.SA', 'EPAR3.SA', 'EQMA3B.SA', 'EQPA3.SA', 'EQPA5.SA',\n",
       "       'EQPA6.SA', 'EQPA7.SA', 'EQTL3.SA', 'ESPA3.SA', 'ESTR3.SA',\n",
       "       'ESTR4.SA', 'ETER3.SA', 'EUCA3.SA', 'EUCA4.SA', 'EVEN3.SA',\n",
       "       'EZTC3.SA', 'FESA3.SA', 'FESA4.SA', 'FHER3.SA', 'FIEI3.SA',\n",
       "       'FIGE3.SA', 'FIGE4.SA', 'FIQE3.SA', 'FLRY3.SA', 'FRAS3.SA',\n",
       "       'FRIO3.SA', 'FRTA3.SA', 'GEPA3.SA', 'GEPA4.SA', 'GFSA3.SA',\n",
       "       'GGBR3.SA', 'GGBR4.SA', 'GGPS3.SA', 'GMAT3.SA', 'GOAU3.SA',\n",
       "       'GOAU4.SA', 'GOLL4.SA', 'GPAR3.SA', 'GRND3.SA', 'GSHP3.SA',\n",
       "       'GUAR3.SA', 'HAGA3.SA', 'HAGA4.SA', 'HAPV3.SA', 'HBOR3.SA',\n",
       "       'HBRE3.SA', 'HBSA3.SA', 'HBTS5.SA', 'HETA3.SA', 'HETA4.SA',\n",
       "       'HOOT3.SA', 'HOOT4.SA', 'HYPE3.SA', 'IFCM3.SA', 'IGTI11.SA',\n",
       "       'IGTI3.SA', 'INEP3.SA', 'INEP4.SA', 'INTB3.SA', 'IRBR3.SA',\n",
       "       'ITSA3.SA', 'ITSA4.SA', 'ITUB3.SA', 'ITUB4.SA', 'JALL3.SA',\n",
       "       'JBSS3.SA', 'JFEN3.SA', 'JHSF3.SA', 'JOPA3.SA', 'JOPA4.SA',\n",
       "       'JSLG3.SA', 'KEPL3.SA', 'KLBN11.SA', 'KLBN3.SA', 'KLBN4.SA',\n",
       "       'KRSA3.SA', 'LAND3.SA', 'LAVV3.SA', 'LEVE3.SA', 'LIGT3.SA',\n",
       "       'LIPR3.SA', 'LJQQ3.SA', 'LOGG3.SA', 'LOGN3.SA', 'LPSB3.SA',\n",
       "       'LREN3.SA', 'LUPA3.SA', 'LUXM3.SA', 'LUXM4.SA', 'LVTC3.SA',\n",
       "       'LWSA3.SA', 'MAPT3.SA', 'MAPT4.SA', 'MATD3.SA', 'MBLY3.SA',\n",
       "       'MDIA3.SA', 'MDNE3.SA', 'MEAL3.SA', 'MELK3.SA', 'MERC3.SA',\n",
       "       'MERC4.SA', 'MGEL3.SA', 'MGEL4.SA', 'MGLU3.SA', 'MILS3.SA',\n",
       "       'MLAS3.SA', 'MMAQ3.SA', 'MMAQ4.SA', 'MNDL3.SA', 'MNPR3.SA',\n",
       "       'MOAR3.SA', 'MOVI3.SA', 'MRFG3.SA', 'MRSA3B.SA', 'MRSA5B.SA',\n",
       "       'MRSA6B.SA', 'MRVE3.SA', 'MSPA3.SA', 'MSPA4.SA', 'MTRE3.SA',\n",
       "       'MTSA3.SA', 'MTSA4.SA', 'MULT3.SA', 'MWET3.SA', 'MWET4.SA',\n",
       "       'MYPK3.SA', 'NEMO3.SA', 'NEOE3.SA', 'NEXP3.SA', 'NGRD3.SA',\n",
       "       'NINJ3.SA', 'NORD3.SA', 'NTCO3.SA', 'NUTR3.SA', 'ODER4.SA',\n",
       "       'ODPV3.SA', 'OFSA3.SA', 'OIBR3.SA', 'OIBR4.SA', 'ONCO3.SA',\n",
       "       'OPCT3.SA', 'ORVR3.SA', 'OSXB3.SA', 'PATI3.SA', 'PATI4.SA',\n",
       "       'PCAR3.SA', 'PDGR3.SA', 'PDTC3.SA', 'PEAB3.SA', 'PEAB4.SA',\n",
       "       'PETR3.SA', 'PETR4.SA', 'PETZ3.SA', 'PFRM3.SA', 'PGMN3.SA',\n",
       "       'PINE3.SA', 'PINE4.SA', 'PLAS3.SA', 'PLPL3.SA', 'PMAM3.SA',\n",
       "       'PNVL3.SA', 'POMO3.SA', 'POMO4.SA', 'PORT3.SA', 'POSI3.SA',\n",
       "       'PPAR3.SA', 'PPLA11.SA', 'PRIO3.SA', 'PRNR3.SA', 'PSSA3.SA',\n",
       "       'PSVM11.SA', 'PTBL3.SA', 'PTNT3.SA', 'PTNT4.SA', 'QUAL3.SA',\n",
       "       'RADL3.SA', 'RAIL3.SA', 'RAIZ4.SA', 'RANI3.SA', 'RAPT3.SA',\n",
       "       'RAPT4.SA', 'RCSL3.SA', 'RCSL4.SA', 'RDNI3.SA', 'RDOR3.SA',\n",
       "       'RECV3.SA', 'REDE3.SA', 'RENT3.SA', 'RNEW11.SA', 'RNEW3.SA',\n",
       "       'RNEW4.SA', 'ROMI3.SA', 'RPAD3.SA', 'RPAD5.SA', 'RPAD6.SA',\n",
       "       'RPMG3.SA', 'RRRP3.SA', 'RSID3.SA', 'RSUL3.SA', 'RSUL4.SA',\n",
       "       'SANB11.SA', 'SANB3.SA', 'SANB4.SA', 'SAPR11.SA', 'SAPR3.SA',\n",
       "       'SAPR4.SA', 'SBFG3.SA', 'SBSP3.SA', 'SCAR3.SA', 'SEER3.SA',\n",
       "       'SEQL3.SA', 'SGPS3.SA', 'SHOW3.SA', 'SHUL3.SA', 'SHUL4.SA',\n",
       "       'SIMH3.SA', 'SLCE3.SA', 'SMFT3.SA', 'SMTO3.SA', 'SNSY3.SA',\n",
       "       'SNSY5.SA', 'SNSY6.SA', 'SOJA3.SA', 'SOMA3.SA', 'SOND3.SA',\n",
       "       'SOND5.SA', 'SOND6.SA', 'SRNA3.SA', 'STBP3.SA', 'SUZB3.SA',\n",
       "       'SYNE3.SA', 'TAEE11.SA', 'TAEE3.SA', 'TAEE4.SA', 'TASA3.SA',\n",
       "       'TASA4.SA', 'TCSA3.SA', 'TECN3.SA', 'TEKA3.SA', 'TEKA4.SA',\n",
       "       'TELB3.SA', 'TELB4.SA', 'TEND3.SA', 'TFCO4.SA', 'TGMA3.SA',\n",
       "       'TIMS3.SA', 'TKNO3.SA', 'TKNO4.SA', 'TOTS3.SA', 'TPIS3.SA',\n",
       "       'TRAD3.SA', 'TRIS3.SA', 'TRPL3.SA', 'TRPL4.SA', 'TTEN3.SA',\n",
       "       'TUPY3.SA', 'TXRX3.SA', 'TXRX4.SA', 'UCAS3.SA', 'UGPA3.SA',\n",
       "       'UNIP3.SA', 'UNIP5.SA', 'UNIP6.SA', 'USIM3.SA', 'USIM5.SA',\n",
       "       'USIM6.SA', 'VALE3.SA', 'VAMO3.SA', 'VBBR3.SA', 'VITT3.SA',\n",
       "       'VIVA3.SA', 'VIVR3.SA', 'VIVT3.SA', 'VLID3.SA', 'VSPT3.SA',\n",
       "       'VSTE3.SA', 'VULC3.SA', 'VVEO3.SA', 'WEGE3.SA', 'WEST3.SA',\n",
       "       'WHRL3.SA', 'WHRL4.SA', 'WIZC3.SA', 'WLMM3.SA', 'WLMM4.SA',\n",
       "       'YDUQ3.SA', 'ZAMP3.SA'], dtype=object)"
      ]
     },
     "execution_count": 87,
     "metadata": {},
     "output_type": "execute_result"
    }
   ],
   "source": [
    "stock_list = stocks_df['ticker'].unique()\n",
    "stock_list"
   ]
  },
  {
   "cell_type": "markdown",
   "metadata": {},
   "source": [
    "## Grasp Greedy Solution: stock selection"
   ]
  },
  {
   "cell_type": "markdown",
   "metadata": {},
   "source": [
    "1 -  Evaluate the incremental costs of the candidate elements"
   ]
  },
  {
   "cell_type": "code",
   "execution_count": 88,
   "metadata": {},
   "outputs": [
    {
     "name": "stderr",
     "output_type": "stream",
     "text": [
      "C:\\Users\\Felps\\AppData\\Local\\Packages\\PythonSoftwareFoundation.Python.3.11_qbz5n2kfra8p0\\LocalCache\\local-packages\\Python311\\site-packages\\pandas_ta\\utils\\_metrics.py:208: RuntimeWarning: invalid value encountered in scalar divide\n",
      "  return (period_mu - benchmark_rate) / period_std\n"
     ]
    },
    {
     "data": {
      "text/plain": [
       "{'CTSA4.SA': -3.0435783801089173,\n",
       " 'RCSL4.SA': -2.4515915425923103,\n",
       " 'TXRX3.SA': -2.3769338045736417,\n",
       " 'KRSA3.SA': -2.278903747227344,\n",
       " 'PDGR3.SA': -2.2487836231944174,\n",
       " 'CSAB3.SA': -2.1708243375240377,\n",
       " 'AERI3.SA': -2.060979136588289,\n",
       " 'MERC3.SA': -2.002761334315933,\n",
       " 'DOHL3.SA': -1.9306863479478928,\n",
       " 'BRKM3.SA': -1.9209040473862466,\n",
       " 'BGIP3.SA': -1.919572528584861,\n",
       " 'ALLD3.SA': -1.854412895822023,\n",
       " 'CTSA3.SA': -1.8525363788440792,\n",
       " 'MAPT4.SA': -1.8022268910705121,\n",
       " 'ESTR4.SA': -1.776913687685499,\n",
       " 'MRSA6B.SA': -1.7573377132174388,\n",
       " 'AHEB6.SA': -1.7201865793186093,\n",
       " 'ESPA3.SA': -1.642522585939813,\n",
       " 'BRFS3.SA': -1.6317167589589785,\n",
       " 'BRKM5.SA': -1.6255422240312603,\n",
       " 'MRFG3.SA': -1.6181161596726314,\n",
       " 'AZEV3.SA': -1.6178004740594087,\n",
       " 'IRBR3.SA': -1.599420890535876,\n",
       " 'DASA3.SA': -1.582526361227319,\n",
       " 'MRSA5B.SA': -1.5771957173882187,\n",
       " 'ALPA3.SA': -1.5593836898989073,\n",
       " 'SEQL3.SA': -1.5573934101599405,\n",
       " 'NEXP3.SA': -1.5206422977607839,\n",
       " 'OIBR3.SA': -1.4711054119865656,\n",
       " 'WHRL4.SA': -1.4600129039439322,\n",
       " 'SCAR3.SA': -1.452331616890141,\n",
       " 'SHUL3.SA': -1.4255835864460142,\n",
       " 'FRIO3.SA': -1.424454292794104,\n",
       " 'IFCM3.SA': -1.4190169931122805,\n",
       " 'JBSS3.SA': -1.409473422914499,\n",
       " 'LVTC3.SA': -1.365790868302598,\n",
       " 'USIM5.SA': -1.3322460896241823,\n",
       " 'PATI3.SA': -1.3321744781454603,\n",
       " 'AZEV4.SA': -1.307381115451552,\n",
       " 'TASA4.SA': -1.2999002285133745,\n",
       " 'DXCO3.SA': -1.2928419998565581,\n",
       " 'SEER3.SA': -1.2912856738921856,\n",
       " 'TXRX4.SA': -1.2889402974694975,\n",
       " 'TASA3.SA': -1.2823033015654206,\n",
       " 'TPIS3.SA': -1.2680338452161326,\n",
       " 'CBEE3.SA': -1.265892170193785,\n",
       " 'HBOR3.SA': -1.2583598713742747,\n",
       " 'USIM3.SA': -1.2552554026506182,\n",
       " 'PDTC3.SA': -1.2528149312786794,\n",
       " 'RSID3.SA': -1.2500066775039387,\n",
       " 'AMAR3.SA': -1.2494011169732284,\n",
       " 'WLMM3.SA': -1.2318493849566932,\n",
       " 'AVLL3.SA': -1.2266860672177713,\n",
       " 'ENJU3.SA': -1.2250325159742705,\n",
       " 'WEST3.SA': -1.2234365637419327,\n",
       " 'PGMN3.SA': -1.2198432786857594,\n",
       " 'ALPA4.SA': -1.2195314390301126,\n",
       " 'PFRM3.SA': -1.2186988266242957,\n",
       " 'QUAL3.SA': -1.2096439949697204,\n",
       " 'HOOT4.SA': -1.204541220723873,\n",
       " 'RAPT3.SA': -1.2002221714810204,\n",
       " 'LIGT3.SA': -1.2001578134561501,\n",
       " 'RPMG3.SA': -1.1874881758953693,\n",
       " 'DOHL4.SA': -1.1655724993501668,\n",
       " 'SYNE3.SA': -1.16453964308989,\n",
       " 'LJQQ3.SA': -1.1474813487291786,\n",
       " 'MTRE3.SA': -1.1348675798040904,\n",
       " 'SGPS3.SA': -1.132859812022157,\n",
       " 'WHRL3.SA': -1.1245958685761517,\n",
       " 'AMER3.SA': -1.1176166631919935,\n",
       " 'CTNM4.SA': -1.1110783949403422,\n",
       " 'CEAB3.SA': -1.1104705150878036,\n",
       " 'PETZ3.SA': -1.1066819926140599,\n",
       " 'MOVI3.SA': -1.0930295633834413,\n",
       " 'PMAM3.SA': -1.074879951859733,\n",
       " 'HAGA4.SA': -1.0649191701016232,\n",
       " 'CASN3.SA': -1.0594250862674681,\n",
       " 'EQMA3B.SA': -1.0542988470934767,\n",
       " 'CRPG6.SA': -1.0283424229257736,\n",
       " 'CVCB3.SA': -1.0282851119371474,\n",
       " 'CTNM3.SA': -1.025021530970184,\n",
       " 'CTKA3.SA': -1.0248475450553265,\n",
       " 'CASH3.SA': -1.0155094703833176,\n",
       " 'AMBP3.SA': -1.008902678150817,\n",
       " 'CASN4.SA': -1.0060199255091455,\n",
       " 'PINE3.SA': -1.0060070844740656,\n",
       " 'COCE3.SA': -1.0060060600071377,\n",
       " 'TEND3.SA': -1.0054825949980917,\n",
       " 'EMBR3.SA': -0.9942659504890392,\n",
       " 'TEKA3.SA': -0.980369421018221,\n",
       " 'VIVT3.SA': -0.9798933833232379,\n",
       " 'BIOM3.SA': -0.9681941297186173,\n",
       " 'CGRA3.SA': -0.9668897281694823,\n",
       " 'SOJA3.SA': -0.9659189496096765,\n",
       " 'MSPA4.SA': -0.9565691659019535,\n",
       " 'BMIN4.SA': -0.9554635434551496,\n",
       " 'ANIM3.SA': -0.9526171075173487,\n",
       " 'TELB3.SA': -0.9473850923665402,\n",
       " 'CMIN3.SA': -0.9384079152200293,\n",
       " 'MATD3.SA': -0.9380862476162305,\n",
       " 'ALPK3.SA': -0.9320154682295974,\n",
       " 'CRPG5.SA': -0.9303546928128469,\n",
       " 'FRTA3.SA': -0.9278771969750128,\n",
       " 'CGRA4.SA': -0.9274119422982114,\n",
       " 'RAIZ4.SA': -0.9229509238940631,\n",
       " 'MERC4.SA': -0.9041995673870244,\n",
       " 'MLAS3.SA': -0.8952792275447033,\n",
       " 'BGIP4.SA': -0.8896522610732394,\n",
       " 'NTCO3.SA': -0.882114219109235,\n",
       " 'BMIN3.SA': -0.8772612459531988,\n",
       " 'RDNI3.SA': -0.8710371249312443,\n",
       " 'OIBR4.SA': -0.867469958969897,\n",
       " 'KLBN3.SA': -0.8600211213020778,\n",
       " 'ARML3.SA': -0.8374907304238464,\n",
       " 'GOLL4.SA': -0.8359184921713674,\n",
       " 'SNSY3.SA': -0.8346578034321451,\n",
       " 'HAPV3.SA': -0.8325066164428752,\n",
       " 'UCAS3.SA': -0.8190802919850132,\n",
       " 'CSED3.SA': -0.8190516407684126,\n",
       " 'AZUL4.SA': -0.8142915827754971,\n",
       " 'ONCO3.SA': -0.8024151710123589,\n",
       " 'ODPV3.SA': -0.7931529977761951,\n",
       " 'YDUQ3.SA': -0.768862773781804,\n",
       " 'WLMM4.SA': -0.76558372403517,\n",
       " 'SIMH3.SA': -0.7568763515897121,\n",
       " 'FRAS3.SA': -0.7562753718063795,\n",
       " 'ECOR3.SA': -0.7484445570729884,\n",
       " 'DESK3.SA': -0.7472318644707966,\n",
       " 'KLBN11.SA': -0.7294513285133447,\n",
       " 'NINJ3.SA': -0.728014629927549,\n",
       " 'BPAN4.SA': -0.7264379863649753,\n",
       " 'CEBR6.SA': -0.7128923595879271,\n",
       " 'MRSA3B.SA': -0.7114614406629771,\n",
       " 'PTNT3.SA': -0.7071703891808727,\n",
       " 'DOTZ3.SA': -0.7063015654056005,\n",
       " 'GSHP3.SA': -0.705353729687729,\n",
       " 'TRIS3.SA': -0.7003016817753528,\n",
       " 'MGLU3.SA': -0.6926762421625563,\n",
       " 'LOGG3.SA': -0.6919226493802281,\n",
       " 'BOBR4.SA': -0.6805330889946896,\n",
       " 'TRAD3.SA': -0.6777089050190519,\n",
       " 'RDOR3.SA': -0.6743702641167111,\n",
       " 'VIVR3.SA': -0.665626813680799,\n",
       " 'BMGB4.SA': -0.6611696371972882,\n",
       " 'CSNA3.SA': -0.6587057249538533,\n",
       " 'SBFG3.SA': -0.6459960666625862,\n",
       " 'BHIA3.SA': -0.6415210837413088,\n",
       " 'ETER3.SA': -0.6308802658364548,\n",
       " 'KLBN4.SA': -0.6278531962496765,\n",
       " 'USIM6.SA': -0.621193126667435,\n",
       " 'HAGA3.SA': -0.618072787103978,\n",
       " 'BALM3.SA': -0.6172091904773563,\n",
       " 'HETA4.SA': -0.6020651055222133,\n",
       " 'HBTS5.SA': -0.5988055744392446,\n",
       " 'CPLE5.SA': -0.5975061751618886,\n",
       " 'RAPT4.SA': -0.5945466318232733,\n",
       " 'BDLL4.SA': -0.5939201588776359,\n",
       " 'DTCY3.SA': -0.5935096326475506,\n",
       " 'HBRE3.SA': -0.5862705837751883,\n",
       " 'GRND3.SA': -0.5862310022606181,\n",
       " 'BRIT3.SA': -0.5839337353062419,\n",
       " 'CEBR3.SA': -0.5801067917567967,\n",
       " 'NGRD3.SA': -0.5764410252240606,\n",
       " 'PATI4.SA': -0.564812648974872,\n",
       " 'AHEB3.SA': -0.5625485862899972,\n",
       " 'CTKA4.SA': -0.5616809628235414,\n",
       " 'CLSC3.SA': -0.555572902211015,\n",
       " 'BSLI3.SA': -0.5526480916178472,\n",
       " 'VBBR3.SA': -0.5515176034710998,\n",
       " 'EZTC3.SA': -0.5447289367308608,\n",
       " 'FIQE3.SA': -0.5443634821614359,\n",
       " 'CAML3.SA': -0.5255977538234189,\n",
       " 'GEPA3.SA': -0.5213677514122028,\n",
       " 'COCE5.SA': -0.5198271817477587,\n",
       " 'HBSA3.SA': -0.5126264306106761,\n",
       " 'JALL3.SA': -0.5047806564150822,\n",
       " 'CRPG3.SA': -0.4951225786827102,\n",
       " 'SUZB3.SA': -0.48720847378201515,\n",
       " 'CLSC4.SA': -0.4741445888057992,\n",
       " 'GEPA4.SA': -0.4408953038130024,\n",
       " 'MRVE3.SA': -0.4332352769938985,\n",
       " 'MYPK3.SA': -0.4203304669655866,\n",
       " 'EVEN3.SA': -0.41918942428766764,\n",
       " 'MWET4.SA': -0.41401999788628985,\n",
       " 'GFSA3.SA': -0.41250940871870967,\n",
       " 'BALM4.SA': -0.4093946395172361,\n",
       " 'CEBR5.SA': -0.4082177020097613,\n",
       " 'JFEN3.SA': -0.4065349751109325,\n",
       " 'GGPS3.SA': -0.4007373936450014,\n",
       " 'SRNA3.SA': -0.3976825277043282,\n",
       " 'CSAN3.SA': -0.3964899674384732,\n",
       " 'LWSA3.SA': -0.3963202242004257,\n",
       " 'JSLG3.SA': -0.39624810578786956,\n",
       " 'DEXP3.SA': -0.38925978332844147,\n",
       " 'ATMP3.SA': -0.3810647872552717,\n",
       " 'RCSL3.SA': -0.36921206007679575,\n",
       " 'BLAU3.SA': -0.36713693155804045,\n",
       " 'SMTO3.SA': -0.36469119056576144,\n",
       " 'CEED3.SA': -0.36018036989699326,\n",
       " 'BBDC4.SA': -0.35585083479025414,\n",
       " 'CEDO3.SA': -0.3555185563792655,\n",
       " 'DEXP4.SA': -0.3522516382593171,\n",
       " 'AESB3.SA': -0.34009973147920175,\n",
       " 'JOPA3.SA': -0.3359820644273634,\n",
       " 'PNVL3.SA': -0.33296146311694935,\n",
       " 'MBLY3.SA': -0.3269463523685698,\n",
       " 'GUAR3.SA': -0.3154151776147086,\n",
       " 'TELB4.SA': -0.3126453483277522,\n",
       " 'CEED4.SA': -0.30874555726032904,\n",
       " 'AURE3.SA': -0.30841009294581795,\n",
       " 'REDE3.SA': -0.3069350380118345,\n",
       " 'PCAR3.SA': -0.2742758297087849,\n",
       " 'EPAR3.SA': -0.261956748008652,\n",
       " 'BRSR3.SA': -0.2570238095598678,\n",
       " 'BRKM6.SA': -0.22420807413243304,\n",
       " 'EALT3.SA': -0.2143617934730665,\n",
       " 'BBDC3.SA': -0.21206005719067536,\n",
       " 'SOND5.SA': -0.20761856120904298,\n",
       " 'SANB3.SA': -0.20254335979790855,\n",
       " 'CLSA3.SA': -0.20235532134987805,\n",
       " 'CEDO4.SA': -0.20141814767925245,\n",
       " 'CGAS5.SA': -0.19632245669158108,\n",
       " 'SNSY5.SA': -0.18918815457364943,\n",
       " 'CEEB5.SA': -0.18888005276813583,\n",
       " 'MELK3.SA': -0.1801412315821855,\n",
       " 'TRPL4.SA': -0.17885508115807294,\n",
       " 'MGEL4.SA': -0.16953027006976246,\n",
       " 'BRBI11.SA': -0.16929406812276504,\n",
       " 'SHOW3.SA': -0.16876957639477816,\n",
       " 'ENEV3.SA': -0.1625269691504608,\n",
       " 'SOND6.SA': -0.16123470193699632,\n",
       " 'SANB11.SA': -0.15070115551356508,\n",
       " 'UNIP3.SA': -0.1432281129412366,\n",
       " 'TAEE11.SA': -0.1382086755821757,\n",
       " 'PETR4.SA': -0.1339179117495741,\n",
       " 'SANB4.SA': -0.10178536511239714,\n",
       " 'TAEE3.SA': -0.09296202261629342,\n",
       " 'ABEV3.SA': -0.09125683969535325,\n",
       " 'BMEB3.SA': -0.07952375072578899,\n",
       " 'TCSA3.SA': -0.06968224663861652,\n",
       " 'EALT4.SA': -0.06532219150794087,\n",
       " 'DMFN3.SA': -0.0642918940475154,\n",
       " 'PEAB3.SA': -0.06356314757347707,\n",
       " 'UGPA3.SA': -0.06266094166585447,\n",
       " 'TAEE4.SA': -0.05899183592391112,\n",
       " 'LREN3.SA': -0.04445051026725841,\n",
       " 'SOMA3.SA': -0.041268043708256985,\n",
       " 'TRPL3.SA': -0.03770945997751955,\n",
       " 'LUPA3.SA': -0.03442902233188855,\n",
       " 'TFCO4.SA': -0.0338249986612845,\n",
       " 'PETR3.SA': -0.029460742553473813,\n",
       " 'VVEO3.SA': -0.016508269031117566,\n",
       " 'PSVM11.SA': -0.012260311454212917,\n",
       " 'SMFT3.SA': -0.010949026590688266,\n",
       " 'RPAD5.SA': -0.006706280896801002,\n",
       " 'FLRY3.SA': -0.005313031887802301,\n",
       " 'FIEI3.SA': 0.0004021265024231959,\n",
       " 'CCRO3.SA': 0.001231018495228206,\n",
       " 'RSUL4.SA': 0.003804525803480701,\n",
       " 'CRIV4.SA': 0.005373346791436363,\n",
       " 'CALI3.SA': 0.01747171068554005,\n",
       " 'UNIP6.SA': 0.022498694525896125,\n",
       " 'SAPR3.SA': 0.022517530541936292,\n",
       " 'NORD3.SA': 0.02570913198695822,\n",
       " 'CYRE3.SA': 0.02832338409107284,\n",
       " 'BMEB4.SA': 0.029637331707465752,\n",
       " 'VITT3.SA': 0.031754808635934946,\n",
       " 'RNEW3.SA': 0.03510161191085159,\n",
       " 'VIVA3.SA': 0.03632453683782681,\n",
       " 'POMO3.SA': 0.03637383747005686,\n",
       " 'TIMS3.SA': 0.042979077952394286,\n",
       " 'NEOE3.SA': 0.04392793179388199,\n",
       " 'EKTR3.SA': 0.04580416615027429,\n",
       " 'COGN3.SA': 0.051242582668253475,\n",
       " 'WIZC3.SA': 0.05229031613619302,\n",
       " 'PPLA11.SA': 0.05268250321259587,\n",
       " 'CBAV3.SA': 0.05672174253063186,\n",
       " 'PINE4.SA': 0.06121750379372917,\n",
       " 'CGAS3.SA': 0.061227636514277,\n",
       " 'BRGE8.SA': 0.06429049886520025,\n",
       " 'BAHI3.SA': 0.07328742661542699,\n",
       " 'LIPR3.SA': 0.07336148625012295,\n",
       " 'EGIE3.SA': 0.07590497019934588,\n",
       " 'LPSB3.SA': 0.07633942825753808,\n",
       " 'POMO4.SA': 0.07659018373238623,\n",
       " 'LUXM4.SA': 0.08582560261476642,\n",
       " 'OFSA3.SA': 0.08677212861275721,\n",
       " 'APER3.SA': 0.09053786556521198,\n",
       " 'RNEW11.SA': 0.09160234205334869,\n",
       " 'TKNO4.SA': 0.09920353065469073,\n",
       " 'BRSR5.SA': 0.09990241688747985,\n",
       " 'SAPR4.SA': 0.10011032242186038,\n",
       " 'BAUH4.SA': 0.10336064662771968,\n",
       " 'BSLI4.SA': 0.10383812199063172,\n",
       " 'POSI3.SA': 0.10481652374411392,\n",
       " 'FIGE3.SA': 0.10540726530491706,\n",
       " 'ENMT3.SA': 0.12111113790469832,\n",
       " 'EMAE4.SA': 0.12249140195516968,\n",
       " 'SAPR11.SA': 0.12474338375184074,\n",
       " 'CSUD3.SA': 0.13611691619645086,\n",
       " 'JHSF3.SA': 0.138580605795183,\n",
       " 'AGXY3.SA': 0.13923920979198706,\n",
       " 'LAVV3.SA': 0.15237875424484645,\n",
       " 'INEP4.SA': 0.15622550215304917,\n",
       " 'PTBL3.SA': 0.15714672154603423,\n",
       " 'ATOM3.SA': 0.16078271599801056,\n",
       " 'ZAMP3.SA': 0.17450513161815434,\n",
       " 'DMVF3.SA': 0.18263177893205462,\n",
       " 'UNIP5.SA': 0.1827565906773339,\n",
       " 'ROMI3.SA': 0.18500119195923126,\n",
       " 'LEVE3.SA': 0.19349513222800827,\n",
       " 'BDLL3.SA': 0.2015075555277595,\n",
       " 'ENMT4.SA': 0.20174182371406718,\n",
       " 'RNEW4.SA': 0.20340719616918437,\n",
       " 'BMOB3.SA': 0.20990683064155602,\n",
       " 'EUCA3.SA': 0.2109159183483712,\n",
       " 'MNPR3.SA': 0.21742835093747925,\n",
       " 'RADL3.SA': 0.22188749127645402,\n",
       " 'OSXB3.SA': 0.22294711168680886,\n",
       " 'BRSR6.SA': 0.2240079546487938,\n",
       " 'PLAS3.SA': 0.2254069587575452,\n",
       " 'PRNR3.SA': 0.2298942605638325,\n",
       " 'TOTS3.SA': 0.2344747492281289,\n",
       " 'FHER3.SA': 0.24280121809641003,\n",
       " 'TECN3.SA': 0.25274228958498113,\n",
       " 'TTEN3.SA': 0.25577126972901254,\n",
       " 'EUCA4.SA': 0.26378144104321427,\n",
       " 'BNBR3.SA': 0.26401562112172816,\n",
       " 'CXSE3.SA': 0.26717317500765986,\n",
       " 'CRFB3.SA': 0.270145808792668,\n",
       " 'ITSA4.SA': 0.27479708397159275,\n",
       " 'ENAT3.SA': 0.2780548051988389,\n",
       " 'OPCT3.SA': 0.28962215926911816,\n",
       " 'AFLT3.SA': 0.2989522318524149,\n",
       " 'RENT3.SA': 0.30827434996809905,\n",
       " 'PEAB4.SA': 0.3099034823946935,\n",
       " 'PTNT4.SA': 0.32577049539602804,\n",
       " 'BRGE11.SA': 0.32736048459788053,\n",
       " 'FESA3.SA': 0.32806558710555606,\n",
       " 'AGRO3.SA': 0.33582211616896535,\n",
       " 'INEP3.SA': 0.34247073339561607,\n",
       " 'BPAC3.SA': 0.3539017191486743,\n",
       " 'GPAR3.SA': 0.3622599542471323,\n",
       " 'IGTI11.SA': 0.36441578769665134,\n",
       " 'RAIL3.SA': 0.37032508623816857,\n",
       " 'ELMD3.SA': 0.37645300807379073,\n",
       " 'MTSA4.SA': 0.38104600706535535,\n",
       " 'CSAB4.SA': 0.3817576164792722,\n",
       " 'IGTI3.SA': 0.3820080398335594,\n",
       " 'GGBR4.SA': 0.3871592958388749,\n",
       " 'ITSA3.SA': 0.39199868397140003,\n",
       " 'MDNE3.SA': 0.3981943785090629,\n",
       " 'ARZZ3.SA': 0.4021407830371278,\n",
       " 'ENGI4.SA': 0.40530482569254367,\n",
       " 'CRIV3.SA': 0.41443852417033145,\n",
       " 'GMAT3.SA': 0.4174770237724026,\n",
       " 'VLID3.SA': 0.43257093873712504,\n",
       " 'GGBR3.SA': 0.4328564412980966,\n",
       " 'FESA4.SA': 0.4448754349223257,\n",
       " 'RRRP3.SA': 0.4545770048615579,\n",
       " 'VAMO3.SA': 0.4696414643206125,\n",
       " 'ENGI3.SA': 0.4709038515810574,\n",
       " 'BRGE5.SA': 0.4742151977706087,\n",
       " 'ENGI11.SA': 0.47485197997730194,\n",
       " 'BPAC5.SA': 0.4861738634255448,\n",
       " 'SLCE3.SA': 0.5069040372250881,\n",
       " 'ALUP3.SA': 0.5144930192233819,\n",
       " 'CMIG4.SA': 0.5146085629891629,\n",
       " 'VALE3.SA': 0.5296128388117175,\n",
       " 'INTB3.SA': 0.54290679268326,\n",
       " 'GOAU3.SA': 0.5598350800707809,\n",
       " 'GOAU4.SA': 0.5638990732087055,\n",
       " 'CPLE3.SA': 0.5661443126510654,\n",
       " 'CMIG3.SA': 0.5704592608201235,\n",
       " 'SHUL4.SA': 0.5808249651761929,\n",
       " 'BEES4.SA': 0.591493805077317,\n",
       " 'MEAL3.SA': 0.5936513923123545,\n",
       " 'EQPA7.SA': 0.6028605716181213,\n",
       " 'STBP3.SA': 0.6065515006429419,\n",
       " 'BPAC11.SA': 0.6222065559352866,\n",
       " 'PSSA3.SA': 0.6228327416162484,\n",
       " 'BRIV4.SA': 0.6235927436755613,\n",
       " 'MNDL3.SA': 0.6255713222355576,\n",
       " 'BRAP3.SA': 0.6269608187059914,\n",
       " 'RPAD3.SA': 0.6322972191549474,\n",
       " 'ITUB3.SA': 0.6336862844908284,\n",
       " 'CSRN6.SA': 0.6383042994104101,\n",
       " 'EKTR4.SA': 0.6522592525858713,\n",
       " 'BRIV3.SA': 0.6677751119302168,\n",
       " 'EQPA3.SA': 0.6769944159717084,\n",
       " 'MWET3.SA': 0.6803044474279155,\n",
       " 'WEGE3.SA': 0.6851968567654703,\n",
       " 'CPLE11.SA': 0.6882295855046944,\n",
       " 'B3SA3.SA': 0.6979439548767681,\n",
       " 'ITUB4.SA': 0.7013308780054475,\n",
       " 'BRAP4.SA': 0.7078880694537766,\n",
       " 'PLPL3.SA': 0.7114906307818684,\n",
       " 'RANI3.SA': 0.7152240956923317,\n",
       " 'CSRN5.SA': 0.7185200596687633,\n",
       " 'BRGE6.SA': 0.7200653459860241,\n",
       " 'PORT3.SA': 0.7241307411512249,\n",
       " 'BEEF3.SA': 0.7367443023219473,\n",
       " 'BBAS3.SA': 0.737403807715071,\n",
       " 'ALUP4.SA': 0.7438093511315027,\n",
       " 'CPLE6.SA': 0.7482885282360182,\n",
       " 'DIRR3.SA': 0.7486860284613803,\n",
       " 'BAZA3.SA': 0.7546285285625691,\n",
       " 'BRGE3.SA': 0.7723146676171316,\n",
       " 'BMKS3.SA': 0.77635633445773,\n",
       " 'CEEB3.SA': 0.7973043437820636,\n",
       " 'MULT3.SA': 0.8139061553736507,\n",
       " 'EQPA5.SA': 0.8287914601336279,\n",
       " 'ALUP11.SA': 0.8300015258928563,\n",
       " 'CSMG3.SA': 0.8479609523324897,\n",
       " 'CAMB3.SA': 0.8643643802816804,\n",
       " 'CSRN3.SA': 0.8696611817741825,\n",
       " 'VSTE3.SA': 0.871194420207455,\n",
       " 'MTSA3.SA': 0.8714501968878302,\n",
       " 'MOAR3.SA': 0.8728813348598697,\n",
       " 'BEES3.SA': 0.8887926886804801,\n",
       " 'TGMA3.SA': 0.8906817020195799,\n",
       " 'EQTL3.SA': 0.904615082328851,\n",
       " 'ABCB4.SA': 0.9047661861939693,\n",
       " 'BRGE12.SA': 0.9189334534450021,\n",
       " 'ELET3.SA': 0.9243643456165735,\n",
       " 'CPFE3.SA': 0.9653637285780647,\n",
       " 'TUPY3.SA': 0.9674224055363672,\n",
       " 'ORVR3.SA': 0.9728811037583487,\n",
       " 'MDIA3.SA': 1.003215191580854,\n",
       " 'EQPA6.SA': 1.0060060600071372,\n",
       " 'MAPT3.SA': 1.0060060600071374,\n",
       " 'MSPA3.SA': 1.0060060600071374,\n",
       " 'SOND3.SA': 1.0060060600071374,\n",
       " 'RPAD6.SA': 1.0208386387311132,\n",
       " 'LAND3.SA': 1.048740037824324,\n",
       " 'NUTR3.SA': 1.0666308561992712,\n",
       " 'VULC3.SA': 1.0836556507388924,\n",
       " 'ELET6.SA': 1.0896681792274094,\n",
       " 'JOPA4.SA': 1.1036207109933402,\n",
       " 'SBSP3.SA': 1.171606777489665,\n",
       " 'LOGN3.SA': 1.1928469855939738,\n",
       " 'CEGR3.SA': 1.2544083256697032,\n",
       " 'KEPL3.SA': 1.2929221684655148,\n",
       " 'ASAI3.SA': 1.3857577012768687,\n",
       " 'TEKA4.SA': 1.3887403861977952,\n",
       " 'MILS3.SA': 1.48922910157757,\n",
       " 'CURY3.SA': 1.4940602964327252,\n",
       " 'AALR3.SA': 1.5252420633201416,\n",
       " 'PRIO3.SA': 1.529024285087907,\n",
       " 'RECV3.SA': 1.5531120679066137,\n",
       " 'HYPE3.SA': 1.8367153646812924,\n",
       " 'BBSE3.SA': 2.0160899264459635,\n",
       " 'CIEL3.SA': 2.046932533186576}"
      ]
     },
     "execution_count": 88,
     "metadata": {},
     "output_type": "execute_result"
    }
   ],
   "source": [
    "sharpe_ratio_dict = {}\n",
    "\n",
    "start_date = \"2022-01-01\"\n",
    "end_date = \"2022-12-30\"\n",
    "\n",
    "for stock in stock_list:\n",
    "    df = stocks_df[stocks_df['ticker'] == stock]\n",
    "    df = df.loc[start_date:end_date]\n",
    "    try:\n",
    "        sharpe_ratio = ta.sharpe_ratio(df['Close'])\n",
    "        sharpe_ratio_dict[stock] = sharpe_ratio\n",
    "    except:\n",
    "        sharpe_ratio_dict[stock] = math.nan\n",
    "sharpe_ratio_dict\n",
    "\n",
    "\n",
    "# Remove items with NaN values\n",
    "sharpe_ratio_dict = {key: value for key, value in sharpe_ratio_dict.items() if not math.isnan(value)}\n",
    "\n",
    "# Sort the dictionary by values\n",
    "sharpe_ratio_dict = sorted(sharpe_ratio_dict.items(), key=lambda x: x[1])\n",
    "\n",
    "# Create a new dictionary with sorted values\n",
    "sharpe_ratio_dict = {key: value for key, value in sharpe_ratio_dict}\n",
    "sharpe_ratio_dict"
   ]
  },
  {
   "cell_type": "code",
   "execution_count": 89,
   "metadata": {},
   "outputs": [],
   "source": [
    "def greedy_portfolio(RLC_length = 150, portfolio_length = 15):\n",
    "    #Solution\n",
    "    portfolio = []\n",
    "\n",
    "    #Initialize the set of candidate elements\n",
    "    \n",
    "    #RLC_length = 150\n",
    "    #portfolio_length = 15\n",
    "    # Get the top 12 items based on values\n",
    "    RLC = sorted(sharpe_ratio_dict.items(), key=lambda x: x[1], reverse=True)[:RLC_length]\n",
    "\n",
    "    while len(portfolio) < portfolio_length:\n",
    "        #Select an element s from the RCL at random;\n",
    "        random_stock = random.choice(RLC)\n",
    "        portfolio.append(random_stock)\n",
    "\n",
    "        RLC.pop(RLC.index(random_stock))\n",
    "\n",
    "    #print(portfolio)\n",
    "    #len(portfolio)\n",
    "    return portfolio"
   ]
  },
  {
   "cell_type": "code",
   "execution_count": 90,
   "metadata": {},
   "outputs": [
    {
     "data": {
      "text/plain": [
       "[('GGBR3.SA', 0.4328564412980966),\n",
       " ('BEES4.SA', 0.591493805077317),\n",
       " ('TEKA4.SA', 1.3887403861977952),\n",
       " ('ELET6.SA', 1.0896681792274094),\n",
       " ('ITSA4.SA', 0.27479708397159275),\n",
       " ('PLPL3.SA', 0.7114906307818684),\n",
       " ('ALUP4.SA', 0.7438093511315027),\n",
       " ('VLID3.SA', 0.43257093873712504),\n",
       " ('CXSE3.SA', 0.26717317500765986),\n",
       " ('KEPL3.SA', 1.2929221684655148),\n",
       " ('CSMG3.SA', 0.8479609523324897),\n",
       " ('PLAS3.SA', 0.2254069587575452),\n",
       " ('EQTL3.SA', 0.904615082328851),\n",
       " ('ITSA3.SA', 0.39199868397140003),\n",
       " ('BMKS3.SA', 0.77635633445773)]"
      ]
     },
     "execution_count": 90,
     "metadata": {},
     "output_type": "execute_result"
    }
   ],
   "source": [
    "greedy_portfolio(RLC_length = 150, portfolio_length = 15)"
   ]
  },
  {
   "cell_type": "code",
   "execution_count": 91,
   "metadata": {},
   "outputs": [
    {
     "data": {
      "text/plain": [
       "'000100101010101001010101010100110010101011000001100101110110101010010110111000111010001001111010111001100'"
      ]
     },
     "execution_count": 91,
     "metadata": {},
     "output_type": "execute_result"
    }
   ],
   "source": [
    "portfolio_length = 15\n",
    "def generate_random_solution(portfolio_length , bin_str_size = 7):\n",
    "    bin_string = ''\n",
    "    for letter in range(portfolio_length):\n",
    "        binary_letter_string = \"\".join(str(np.random.randint(0,2)) for i in range(bin_str_size))\n",
    "        bin_string = bin_string + binary_letter_string\n",
    "    return bin_string\n",
    "\n",
    "generate_random_solution(portfolio_length)"
   ]
  },
  {
   "cell_type": "code",
   "execution_count": 92,
   "metadata": {},
   "outputs": [
    {
     "data": {
      "text/plain": [
       "[0.09162011173184358,\n",
       " 0.041340782122905026,\n",
       " 0.13966480446927373,\n",
       " 0.02011173184357542,\n",
       " 0.00558659217877095,\n",
       " 0.02346368715083799,\n",
       " 0.09385474860335195,\n",
       " 0.14078212290502792,\n",
       " 0.12290502793296089,\n",
       " 0.054748603351955305,\n",
       " 0.060335195530726256,\n",
       " 0.026815642458100558,\n",
       " 0.10167597765363129,\n",
       " 0.054748603351955305,\n",
       " 0.0223463687150838]"
      ]
     },
     "execution_count": 92,
     "metadata": {},
     "output_type": "execute_result"
    }
   ],
   "source": [
    "def decode_binary_to_weights(solution, bin_str_size = 7):\n",
    "    weight_list = []\n",
    "    for pos in range(0, len(solution), bin_str_size):\n",
    "        binary_weight = str(solution[pos: pos+bin_str_size])\n",
    "        weight = (int(binary_weight, 2))\n",
    "        weight_list.append(weight)\n",
    "        sum_w = np.sum(weight_list)\n",
    "    return [(weight / sum_w) for weight in weight_list]\n",
    "\n",
    "solution = generate_random_solution(portfolio_length)\n",
    "decode_binary_to_weights(solution)"
   ]
  },
  {
   "cell_type": "code",
   "execution_count": 93,
   "metadata": {},
   "outputs": [
    {
     "data": {
      "text/plain": [
       "0.01990049751243781"
      ]
     },
     "execution_count": 93,
     "metadata": {},
     "output_type": "execute_result"
    }
   ],
   "source": [
    "hist_bin_size[0]"
   ]
  },
  {
   "cell_type": "code",
   "execution_count": 94,
   "metadata": {},
   "outputs": [
    {
     "data": {
      "image/png": "[encoded data removed]",
      "text/plain": [
       "<Figure size 640x480 with 1 Axes>"
      ]
     },
     "metadata": {},
     "output_type": "display_data"
    }
   ],
   "source": [
    "import matplotlib.pyplot as plt\n",
    "hist_bin_size = []\n",
    "for i in range(10000):\n",
    "    hist_bin_size.append(decode_binary_to_weights(generate_random_solution(10, bin_str_size = 3))[0])\n",
    "plt.hist(hist_bin_size, bins=50)\n",
    "plt.show()"
   ]
  },
  {
   "cell_type": "code",
   "execution_count": 95,
   "metadata": {},
   "outputs": [],
   "source": [
    "#stocks_df = stocks_df.set_index('ticker', 'datetime')"
   ]
  },
  {
   "cell_type": "code",
   "execution_count": 96,
   "metadata": {},
   "outputs": [
    {
     "data": {
      "text/plain": [
       "Index(['Open', 'High', 'Low', 'Close', 'Adj Close', 'Volume', 'ticker'], dtype='object')"
      ]
     },
     "execution_count": 96,
     "metadata": {},
     "output_type": "execute_result"
    }
   ],
   "source": [
    "stocks_df.columns"
   ]
  },
  {
   "cell_type": "code",
   "execution_count": 111,
   "metadata": {},
   "outputs": [
    {
     "data": {
      "text/html": [
       "<div>\n",
       "<style scoped>\n",
       "    .dataframe tbody tr th:only-of-type {\n",
       "        vertical-align: middle;\n",
       "    }\n",
       "\n",
       "    .dataframe tbody tr th {\n",
       "        vertical-align: top;\n",
       "    }\n",
       "\n",
       "    .dataframe thead th {\n",
       "        text-align: right;\n",
       "    }\n",
       "</style>\n",
       "<table border=\"1\" class=\"dataframe\">\n",
       "  <thead>\n",
       "    <tr style=\"text-align: right;\">\n",
       "      <th></th>\n",
       "      <th></th>\n",
       "      <th>Open</th>\n",
       "      <th>High</th>\n",
       "      <th>Low</th>\n",
       "      <th>Close</th>\n",
       "      <th>Adj Close</th>\n",
       "      <th>Volume</th>\n",
       "    </tr>\n",
       "    <tr>\n",
       "      <th>ticker</th>\n",
       "      <th>time</th>\n",
       "      <th></th>\n",
       "      <th></th>\n",
       "      <th></th>\n",
       "      <th></th>\n",
       "      <th></th>\n",
       "      <th></th>\n",
       "    </tr>\n",
       "  </thead>\n",
       "  <tbody>\n",
       "    <tr>\n",
       "      <th rowspan=\"5\" valign=\"top\">AALR3.SA</th>\n",
       "      <th>2022-01-03</th>\n",
       "      <td>14.96</td>\n",
       "      <td>14.96</td>\n",
       "      <td>13.51</td>\n",
       "      <td>13.58</td>\n",
       "      <td>13.58</td>\n",
       "      <td>601000.0</td>\n",
       "    </tr>\n",
       "    <tr>\n",
       "      <th>2022-01-04</th>\n",
       "      <td>13.54</td>\n",
       "      <td>14.14</td>\n",
       "      <td>13.30</td>\n",
       "      <td>13.51</td>\n",
       "      <td>13.51</td>\n",
       "      <td>743300.0</td>\n",
       "    </tr>\n",
       "    <tr>\n",
       "      <th>2022-01-05</th>\n",
       "      <td>13.54</td>\n",
       "      <td>13.58</td>\n",
       "      <td>12.66</td>\n",
       "      <td>12.68</td>\n",
       "      <td>12.68</td>\n",
       "      <td>359600.0</td>\n",
       "    </tr>\n",
       "    <tr>\n",
       "      <th>2022-01-06</th>\n",
       "      <td>12.75</td>\n",
       "      <td>13.00</td>\n",
       "      <td>12.41</td>\n",
       "      <td>12.90</td>\n",
       "      <td>12.90</td>\n",
       "      <td>502900.0</td>\n",
       "    </tr>\n",
       "    <tr>\n",
       "      <th>2022-01-07</th>\n",
       "      <td>12.86</td>\n",
       "      <td>13.56</td>\n",
       "      <td>12.45</td>\n",
       "      <td>12.85</td>\n",
       "      <td>12.85</td>\n",
       "      <td>539900.0</td>\n",
       "    </tr>\n",
       "    <tr>\n",
       "      <th>...</th>\n",
       "      <th>...</th>\n",
       "      <td>...</td>\n",
       "      <td>...</td>\n",
       "      <td>...</td>\n",
       "      <td>...</td>\n",
       "      <td>...</td>\n",
       "      <td>...</td>\n",
       "    </tr>\n",
       "    <tr>\n",
       "      <th rowspan=\"5\" valign=\"top\">ZAMP3.SA</th>\n",
       "      <th>2022-12-23</th>\n",
       "      <td>4.97</td>\n",
       "      <td>5.62</td>\n",
       "      <td>4.97</td>\n",
       "      <td>5.62</td>\n",
       "      <td>5.62</td>\n",
       "      <td>887100.0</td>\n",
       "    </tr>\n",
       "    <tr>\n",
       "      <th>2022-12-26</th>\n",
       "      <td>5.50</td>\n",
       "      <td>5.86</td>\n",
       "      <td>5.43</td>\n",
       "      <td>5.48</td>\n",
       "      <td>5.48</td>\n",
       "      <td>760000.0</td>\n",
       "    </tr>\n",
       "    <tr>\n",
       "      <th>2022-12-27</th>\n",
       "      <td>5.52</td>\n",
       "      <td>5.58</td>\n",
       "      <td>5.21</td>\n",
       "      <td>5.28</td>\n",
       "      <td>5.28</td>\n",
       "      <td>920700.0</td>\n",
       "    </tr>\n",
       "    <tr>\n",
       "      <th>2022-12-28</th>\n",
       "      <td>5.35</td>\n",
       "      <td>5.41</td>\n",
       "      <td>5.22</td>\n",
       "      <td>5.35</td>\n",
       "      <td>5.35</td>\n",
       "      <td>421100.0</td>\n",
       "    </tr>\n",
       "    <tr>\n",
       "      <th>2022-12-29</th>\n",
       "      <td>5.35</td>\n",
       "      <td>5.59</td>\n",
       "      <td>5.31</td>\n",
       "      <td>5.45</td>\n",
       "      <td>5.45</td>\n",
       "      <td>1286500.0</td>\n",
       "    </tr>\n",
       "  </tbody>\n",
       "</table>\n",
       "<p>119087 rows × 6 columns</p>\n",
       "</div>"
      ],
      "text/plain": [
       "                      Open   High    Low  Close  Adj Close     Volume\n",
       "ticker   time                                                        \n",
       "AALR3.SA 2022-01-03  14.96  14.96  13.51  13.58      13.58   601000.0\n",
       "         2022-01-04  13.54  14.14  13.30  13.51      13.51   743300.0\n",
       "         2022-01-05  13.54  13.58  12.66  12.68      12.68   359600.0\n",
       "         2022-01-06  12.75  13.00  12.41  12.90      12.90   502900.0\n",
       "         2022-01-07  12.86  13.56  12.45  12.85      12.85   539900.0\n",
       "...                    ...    ...    ...    ...        ...        ...\n",
       "ZAMP3.SA 2022-12-23   4.97   5.62   4.97   5.62       5.62   887100.0\n",
       "         2022-12-26   5.50   5.86   5.43   5.48       5.48   760000.0\n",
       "         2022-12-27   5.52   5.58   5.21   5.28       5.28   920700.0\n",
       "         2022-12-28   5.35   5.41   5.22   5.35       5.35   421100.0\n",
       "         2022-12-29   5.35   5.59   5.31   5.45       5.45  1286500.0\n",
       "\n",
       "[119087 rows x 6 columns]"
      ]
     },
     "execution_count": 111,
     "metadata": {},
     "output_type": "execute_result"
    }
   ],
   "source": [
    "sharpe_df = stocks_df.reset_index()\n",
    "sharpe_df = sharpe_df.rename(columns={\"index\" : \"time\"})\n",
    "sharpe_df = sharpe_df.set_index(['ticker', 'time'])\n",
    "sharpe_df"
   ]
  },
  {
   "cell_type": "code",
   "execution_count": 137,
   "metadata": {},
   "outputs": [
    {
     "data": {
      "text/plain": [
       "{'ITUB4.SA': 0.12067260138476756,\n",
       " 'PRNR3.SA': 0.11671612265084075,\n",
       " 'MOAR3.SA': 0.06429277942631058,\n",
       " 'OPCT3.SA': 0.02967359050445104,\n",
       " 'PRIO3.SA': 0.08605341246290801,\n",
       " 'PLPL3.SA': 0.05341246290801187,\n",
       " 'ELMD3.SA': 0.09000989119683482,\n",
       " 'FESA4.SA': 0.008902077151335312,\n",
       " 'MNPR3.SA': 0.10979228486646884,\n",
       " 'TECN3.SA': 0.05934718100890208,\n",
       " 'BPAC5.SA': 0.08605341246290801,\n",
       " 'BPAC3.SA': 0.09693372898120672,\n",
       " 'ENAT3.SA': 0.07418397626112759,\n",
       " 'BRSR6.SA': 0.002967359050445104,\n",
       " 'KEPL3.SA': 0.0009891196834817012}"
      ]
     },
     "execution_count": 137,
     "metadata": {},
     "output_type": "execute_result"
    }
   ],
   "source": [
    "portfiolio = greedy_portfolio(RLC_length = 150, portfolio_length = 15)\n",
    "portfiolio = [ticker[0] for ticker in portfiolio]\n",
    "portfolio_weights = decode_binary_to_weights(generate_random_solution(len(portfiolio), bin_str_size = 7))\n",
    "\n",
    "portfolio_dict = {k : v for (k, v) in zip(portfiolio, portfolio_weights)}\n",
    "portfolio_dict"
   ]
  },
  {
   "cell_type": "code",
   "execution_count": 121,
   "metadata": {},
   "outputs": [
    {
     "data": {
      "text/html": [
       "<div>\n",
       "<style scoped>\n",
       "    .dataframe tbody tr th:only-of-type {\n",
       "        vertical-align: middle;\n",
       "    }\n",
       "\n",
       "    .dataframe tbody tr th {\n",
       "        vertical-align: top;\n",
       "    }\n",
       "\n",
       "    .dataframe thead th {\n",
       "        text-align: right;\n",
       "    }\n",
       "</style>\n",
       "<table border=\"1\" class=\"dataframe\">\n",
       "  <thead>\n",
       "    <tr style=\"text-align: right;\">\n",
       "      <th></th>\n",
       "      <th></th>\n",
       "      <th>Open</th>\n",
       "      <th>High</th>\n",
       "      <th>Low</th>\n",
       "      <th>Close</th>\n",
       "      <th>Adj Close</th>\n",
       "      <th>Volume</th>\n",
       "    </tr>\n",
       "    <tr>\n",
       "      <th>ticker</th>\n",
       "      <th>time</th>\n",
       "      <th></th>\n",
       "      <th></th>\n",
       "      <th></th>\n",
       "      <th></th>\n",
       "      <th></th>\n",
       "      <th></th>\n",
       "    </tr>\n",
       "  </thead>\n",
       "  <tbody>\n",
       "    <tr>\n",
       "      <th rowspan=\"5\" valign=\"top\">FESA4.SA</th>\n",
       "      <th>2022-01-03</th>\n",
       "      <td>49.049999</td>\n",
       "      <td>49.610001</td>\n",
       "      <td>47.779999</td>\n",
       "      <td>48.439999</td>\n",
       "      <td>43.431656</td>\n",
       "      <td>509600.0</td>\n",
       "    </tr>\n",
       "    <tr>\n",
       "      <th>2022-01-04</th>\n",
       "      <td>48.380001</td>\n",
       "      <td>49.740002</td>\n",
       "      <td>47.330002</td>\n",
       "      <td>47.570000</td>\n",
       "      <td>42.710178</td>\n",
       "      <td>536300.0</td>\n",
       "    </tr>\n",
       "    <tr>\n",
       "      <th>2022-01-05</th>\n",
       "      <td>47.580002</td>\n",
       "      <td>47.650002</td>\n",
       "      <td>45.360001</td>\n",
       "      <td>45.520000</td>\n",
       "      <td>40.869610</td>\n",
       "      <td>358500.0</td>\n",
       "    </tr>\n",
       "    <tr>\n",
       "      <th>2022-01-06</th>\n",
       "      <td>45.619999</td>\n",
       "      <td>46.500000</td>\n",
       "      <td>44.779999</td>\n",
       "      <td>45.250000</td>\n",
       "      <td>40.627190</td>\n",
       "      <td>519300.0</td>\n",
       "    </tr>\n",
       "    <tr>\n",
       "      <th>2022-01-07</th>\n",
       "      <td>45.020000</td>\n",
       "      <td>47.220001</td>\n",
       "      <td>44.799999</td>\n",
       "      <td>46.880001</td>\n",
       "      <td>42.090672</td>\n",
       "      <td>464000.0</td>\n",
       "    </tr>\n",
       "    <tr>\n",
       "      <th>...</th>\n",
       "      <th>...</th>\n",
       "      <td>...</td>\n",
       "      <td>...</td>\n",
       "      <td>...</td>\n",
       "      <td>...</td>\n",
       "      <td>...</td>\n",
       "      <td>...</td>\n",
       "    </tr>\n",
       "    <tr>\n",
       "      <th rowspan=\"5\" valign=\"top\">BMKS3.SA</th>\n",
       "      <th>2022-12-23</th>\n",
       "      <td>300.000000</td>\n",
       "      <td>300.000000</td>\n",
       "      <td>299.989990</td>\n",
       "      <td>300.000000</td>\n",
       "      <td>255.548981</td>\n",
       "      <td>29.0</td>\n",
       "    </tr>\n",
       "    <tr>\n",
       "      <th>2022-12-26</th>\n",
       "      <td>299.489990</td>\n",
       "      <td>299.500000</td>\n",
       "      <td>299.489990</td>\n",
       "      <td>299.500000</td>\n",
       "      <td>255.123062</td>\n",
       "      <td>2.0</td>\n",
       "    </tr>\n",
       "    <tr>\n",
       "      <th>2022-12-27</th>\n",
       "      <td>320.000000</td>\n",
       "      <td>320.000000</td>\n",
       "      <td>281.000000</td>\n",
       "      <td>310.500000</td>\n",
       "      <td>264.493195</td>\n",
       "      <td>292.0</td>\n",
       "    </tr>\n",
       "    <tr>\n",
       "      <th>2022-12-28</th>\n",
       "      <td>290.000000</td>\n",
       "      <td>310.500000</td>\n",
       "      <td>290.000000</td>\n",
       "      <td>308.000000</td>\n",
       "      <td>262.363617</td>\n",
       "      <td>85.0</td>\n",
       "    </tr>\n",
       "    <tr>\n",
       "      <th>2022-12-29</th>\n",
       "      <td>310.000000</td>\n",
       "      <td>316.000000</td>\n",
       "      <td>310.000000</td>\n",
       "      <td>316.000000</td>\n",
       "      <td>269.178253</td>\n",
       "      <td>11.0</td>\n",
       "    </tr>\n",
       "  </tbody>\n",
       "</table>\n",
       "<p>3750 rows × 6 columns</p>\n",
       "</div>"
      ],
      "text/plain": [
       "                           Open        High         Low       Close   \n",
       "ticker   time                                                         \n",
       "FESA4.SA 2022-01-03   49.049999   49.610001   47.779999   48.439999  \\\n",
       "         2022-01-04   48.380001   49.740002   47.330002   47.570000   \n",
       "         2022-01-05   47.580002   47.650002   45.360001   45.520000   \n",
       "         2022-01-06   45.619999   46.500000   44.779999   45.250000   \n",
       "         2022-01-07   45.020000   47.220001   44.799999   46.880001   \n",
       "...                         ...         ...         ...         ...   \n",
       "BMKS3.SA 2022-12-23  300.000000  300.000000  299.989990  300.000000   \n",
       "         2022-12-26  299.489990  299.500000  299.489990  299.500000   \n",
       "         2022-12-27  320.000000  320.000000  281.000000  310.500000   \n",
       "         2022-12-28  290.000000  310.500000  290.000000  308.000000   \n",
       "         2022-12-29  310.000000  316.000000  310.000000  316.000000   \n",
       "\n",
       "                      Adj Close    Volume  \n",
       "ticker   time                              \n",
       "FESA4.SA 2022-01-03   43.431656  509600.0  \n",
       "         2022-01-04   42.710178  536300.0  \n",
       "         2022-01-05   40.869610  358500.0  \n",
       "         2022-01-06   40.627190  519300.0  \n",
       "         2022-01-07   42.090672  464000.0  \n",
       "...                         ...       ...  \n",
       "BMKS3.SA 2022-12-23  255.548981      29.0  \n",
       "         2022-12-26  255.123062       2.0  \n",
       "         2022-12-27  264.493195     292.0  \n",
       "         2022-12-28  262.363617      85.0  \n",
       "         2022-12-29  269.178253      11.0  \n",
       "\n",
       "[3750 rows x 6 columns]"
      ]
     },
     "execution_count": 121,
     "metadata": {},
     "output_type": "execute_result"
    }
   ],
   "source": [
    "portfolio_df = sharpe_df.loc[portfiolio]\n",
    "portfolio_df"
   ]
  },
  {
   "cell_type": "code",
   "execution_count": 164,
   "metadata": {},
   "outputs": [
    {
     "data": {
      "text/plain": [
       "3750"
      ]
     },
     "execution_count": 164,
     "metadata": {},
     "output_type": "execute_result"
    }
   ],
   "source": [
    "len([time_index[1] for time_index in portfolio_df.index.values])"
   ]
  },
  {
   "cell_type": "code",
   "execution_count": 166,
   "metadata": {},
   "outputs": [
    {
     "data": {
      "text/plain": [
       "250"
      ]
     },
     "execution_count": 166,
     "metadata": {},
     "output_type": "execute_result"
    }
   ],
   "source": [
    "days = len(set([time_index[1] for time_index in portfolio_df.index.values]))"
   ]
  },
  {
   "cell_type": "code",
   "execution_count": 173,
   "metadata": {},
   "outputs": [],
   "source": [
    "def portfolio_returns_sharpe(weights, df):\n",
    "\n",
    "    weights = portfolio_dict\n",
    "    df = portfolio_df\n",
    "    \n",
    "    days = len(set([time_index[1] for time_index in portfolio_df.index.values]))\n",
    "\n",
    "    df['weight'] = df.index.get_level_values('ticker').map(weights)\n",
    "\n",
    "    # Calculate daily returns\n",
    "    df['return'] = df.groupby('ticker')['Adj Close'].pct_change()\n",
    "\n",
    "    # Calculate portfolio return\n",
    "    df['portfolio_return'] = df['return'] * df['weight']\n",
    "\n",
    "    # Calculate daily portfolio return\n",
    "    daily_portfolio_return = df.groupby('time')['portfolio_return'].sum()\n",
    "\n",
    "    # Calculate cumulative portfolio return\n",
    "    cumulative_portfolio_return = (1 + daily_portfolio_return).cumprod() - 1\n",
    "    \n",
    "\n",
    "    # Calculate daily risk-free rate (e.g., use Treasury yields)\n",
    "    risk_free_rate = 0.02 / days  # Assuming a 2% annual risk-free rate\n",
    "\n",
    "    # Calculate portfolio Sharpe ratio\n",
    "    daily_sharpe_ratio = (daily_portfolio_return.mean() - risk_free_rate) / daily_portfolio_return.std()\n",
    "\n",
    "    # Calculate annualized Sharpe ratio\n",
    "    annual_sharpe_ratio = daily_sharpe_ratio * (days ** 0.5)\n",
    "\n",
    "    #print(\"Cumulative Portfolio Return:\")\n",
    "    print(cumulative_portfolio_return)\n",
    "\n",
    "    #print(\"\\nAnnualized Sharpe Ratio:\")\n",
    "    print(annual_sharpe_ratio)\n",
    "    \n",
    "    return cumulative_portfolio_return, annual_sharpe_ratio\n"
   ]
  },
  {
   "cell_type": "code",
   "execution_count": 174,
   "metadata": {},
   "outputs": [
    {
     "name": "stdout",
     "output_type": "stream",
     "text": [
      "time\n",
      "2022-01-03    0.000000\n",
      "2022-01-04   -0.000148\n",
      "2022-01-05   -0.000531\n",
      "2022-01-06   -0.000584\n",
      "2022-01-07   -0.000264\n",
      "                ...   \n",
      "2022-12-23    0.002369\n",
      "2022-12-26    0.002316\n",
      "2022-12-27    0.002423\n",
      "2022-12-28    0.002482\n",
      "2022-12-29    0.002288\n",
      "Name: portfolio_return, Length: 250, dtype: float64\n",
      "-4.677988377767097\n"
     ]
    }
   ],
   "source": [
    "portfolio_returns, sharpe = portfolio_returns_sharpe(portfolio_dict, portfolio_df)"
   ]
  },
  {
   "cell_type": "code",
   "execution_count": 175,
   "metadata": {},
   "outputs": [],
   "source": [
    "def perturbate_solution(s, n = 1):\n",
    "    for i in range(n):\n",
    "        pos = np.random.choice(len(s))\n",
    "        \n",
    "        binary_list = list(s)\n",
    "        \n",
    "        if binary_list[pos] == '0':\n",
    "            binary_list[pos] = '1'\n",
    "        else:\n",
    "            binary_list[pos] = '0'\n",
    "        \n",
    "        s = ''.join(binary_list)\n",
    "    \n",
    "    return s"
   ]
  },
  {
   "cell_type": "code",
   "execution_count": 182,
   "metadata": {},
   "outputs": [
    {
     "name": "stdout",
     "output_type": "stream",
     "text": [
      "0010\n",
      "0000\n"
     ]
    }
   ],
   "source": [
    "pf_test = generate_random_solution(portfolio_length=2, bin_str_size=2)\n",
    "pt_test = perturbate_solution(pf_test)\n",
    "print(pf_test)\n",
    "print(pt_test)"
   ]
  },
  {
   "cell_type": "code",
   "execution_count": 185,
   "metadata": {},
   "outputs": [],
   "source": [
    "RLC_length = 150\n",
    "portfolio_length = 15\n",
    "bin_str_size = 7\n",
    "\n",
    "#Initial greedy solutin\n",
    "portfiolio = greedy_portfolio(RLC_length, portfolio_length)\n",
    "\n",
    "portfiolio = [ticker[0] for ticker in portfiolio]\n",
    "portfolio_weights = decode_binary_to_weights(generate_random_solution(len(portfiolio), bin_str_size))\n",
    "\n",
    "#greedy solution with random weights\n",
    "portfolio_dict = {k : v for (k, v) in zip(portfiolio, portfolio_weights)}"
   ]
  },
  {
   "cell_type": "code",
   "execution_count": null,
   "metadata": {},
   "outputs": [],
   "source": [
    "def tabu_search(max_iterations, n_neighbors, early_stop_n, tabu_list_len, s0, df):\n",
    "\n",
    "    tabu_list, bin_list, bin_bests, score_list, best_scores, mean_scores = [], [], [], [], [], []\n",
    "\n",
    "    portfolio_df = df.loc[[stock for stock in s0.keys()]]\n",
    "\n",
    "    _, best_score = portfolio_returns_sharpe(s0, df)\n",
    "    best_solution = s0\n",
    "    iteration, best_iteration = 0, 0\n",
    "    \n",
    "    while (iteration <= max_iterations) and (iteration - best_iteration <= early_stop_n):\n",
    "        #Neighborhood and scores\n",
    "        neighborhood = generate_neighborhood(n_neighbors, s0)\n",
    "        neighbors_scores = [solution_score(bin_phrase, neighbor) for neighbor in neighborhood]\n",
    "        min_neighbor_score =  min(neighbors_scores)\n",
    "        best_neighbor = neighborhood[neighbors_scores.index(min_neighbor_score)]\n",
    "        \n",
    "        if (best_neighbor not in tabu_list) or (min_neighbor_score <= best_score):\n",
    "            tabu_list = update_tabu_list(tabu_list, tabu_list_len, best_neighbor)\n",
    "            s0, s0_score = best_neighbor, min_neighbor_score\n",
    "            bin_list.append(s0)\n",
    "            score_list.append(s0_score)\n",
    "            mean_scores.append(np.mean(neighbors_scores))\n",
    "            if s0_score <= best_score:\n",
    "                best_score = s0_score\n",
    "                best_solution = s0\n",
    "                best_iteration = iteration\n",
    "                bin_bests.append(best_solution)\n",
    "                best_scores.append(best_score)\n",
    "            \n",
    "        \n",
    "        iteration += 1\n",
    "        \n",
    "    return best_solution, best_score, bin_list, score_list, bin_bests, best_scores, mean_scores\n"
   ]
  },
  {
   "cell_type": "code",
   "execution_count": null,
   "metadata": {},
   "outputs": [],
   "source": [
    "tabu_search(max_iterations, n_neighbors, early_stop_n, tabu_list_len, s0 = portfolio_dict, df = sharpe_df)"
   ]
  }
 ],
 "metadata": {
  "kernelspec": {
   "display_name": "Python 3",
   "language": "python",
   "name": "python3"
  },
  "language_info": {
   "codemirror_mode": {
    "name": "ipython",
    "version": 3
   },
   "file_extension": ".py",
   "mimetype": "text/x-python",
   "name": "python",
   "nbconvert_exporter": "python",
   "pygments_lexer": "ipython3",
   "version": "3.11.6"
  }
 },
 "nbformat": 4,
 "nbformat_minor": 2
}
