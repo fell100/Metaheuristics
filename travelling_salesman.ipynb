{
 "cells": [
  {
   "cell_type": "code",
   "execution_count": null,
   "metadata": {},
   "outputs": [],
   "source": [
    "#https://towardsdatascience.com/solving-geographic-travelling-salesman-problems-using-python-e57284b14cd7\n",
    "#Todo:\n",
    "#Open Google Earth, get latitude, longitude, and name of the place\n",
    "#get the libraries info of the distance of those places,\n",
    "#turn the matrix of the distances into a simetric matrix \n"
   ]
  }
 ],
 "metadata": {
  "language_info": {
   "name": "python"
  },
  "orig_nbformat": 4
 },
 "nbformat": 4,
 "nbformat_minor": 2
}
