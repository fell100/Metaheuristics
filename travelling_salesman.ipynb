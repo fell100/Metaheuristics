{
 "cells": [
  {
   "cell_type": "code",
   "execution_count": 7,
   "metadata": {},
   "outputs": [],
   "source": [
    "#https://towardsdatascience.com/solving-geographic-travelling-salesman-problems-using-python-e57284b14cd7\n",
    "#Todo:\n",
    "#Open Google Earth, get latitude, longitude, and name of the place\n",
    "#get the libraries info of the distance of those places,\n",
    "#turn the matrix of the distances into a simetric matrix \n"
   ]
  },
  {
   "cell_type": "code",
   "execution_count": 8,
   "metadata": {},
   "outputs": [
    {
     "name": "stdout",
     "output_type": "stream",
     "text": [
      "Requirement already satisfied: routingpy in c:\\users\\felps\\appdata\\local\\packages\\pythonsoftwarefoundation.python.3.11_qbz5n2kfra8p0\\localcache\\local-packages\\python311\\site-packages (1.3.0)\n",
      "Requirement already satisfied: concorde in c:\\users\\felps\\appdata\\local\\packages\\pythonsoftwarefoundation.python.3.11_qbz5n2kfra8p0\\localcache\\local-packages\\python311\\site-packages (0.1.2)\n",
      "Requirement already satisfied: folium in c:\\users\\felps\\appdata\\local\\packages\\pythonsoftwarefoundation.python.3.11_qbz5n2kfra8p0\\localcache\\local-packages\\python311\\site-packages (0.14.0)\n"
     ]
    },
    {
     "name": "stderr",
     "output_type": "stream",
     "text": [
      "ERROR: Could not find a version that satisfies the requirement urlparse (from versions: none)\n",
      "ERROR: No matching distribution found for urlparse\n"
     ]
    }
   ],
   "source": [
    "!pip install routingpy concorde folium urlparse"
   ]
  },
  {
   "cell_type": "code",
   "execution_count": 14,
   "metadata": {},
   "outputs": [],
   "source": [
    "import routingpy as rp\n",
    "import numpy as np\n",
    "import os\n",
    "import folium"
   ]
  },
  {
   "cell_type": "code",
   "execution_count": 10,
   "metadata": {},
   "outputs": [],
   "source": [
    "def symmetricize(m, high_int=None):\n",
    "    \n",
    "    # if high_int not provided, make it equal to 10 times the max value:\n",
    "    if high_int is None:\n",
    "        high_int = round(10*m.max())\n",
    "        \n",
    "    m_bar = m.copy()\n",
    "    np.fill_diagonal(m_bar, 0)\n",
    "    u = np.matrix(np.ones(m.shape) * high_int)\n",
    "    np.fill_diagonal(u, 0)\n",
    "    m_symm_top = np.concatenate((u, np.transpose(m_bar)), axis=1)\n",
    "    m_symm_bottom = np.concatenate((m_bar, u), axis=1)\n",
    "    m_symm = np.concatenate((m_symm_top, m_symm_bottom), axis=0)\n",
    "    \n",
    "    return m_symm.astype(int) # Concorde requires integer weights"
   ]
  },
  {
   "cell_type": "code",
   "execution_count": 11,
   "metadata": {},
   "outputs": [],
   "source": [
    "def solve_concorde(matrix):\n",
    "    problem = Problem.from_matrix(matrix)\n",
    "    solution = run_concorde(problem)\n",
    "    print(solution.tour)\n",
    "    return solution"
   ]
  },
  {
   "cell_type": "code",
   "execution_count": 12,
   "metadata": {},
   "outputs": [],
   "source": [
    "class GeographicTSP:\n",
    "    \n",
    "    def __init__(self, points, profile):\n",
    "        \n",
    "        if isinstance(points[0], list) or isinstance(points[0], tuple):\n",
    "            # List of (lon, lat) pairs\n",
    "            self.points = points\n",
    "            self.names = None\n",
    "            \n",
    "        elif isinstance(points[0], dict):\n",
    "            # List of dicts of form {'name': xxx, 'lon': yyy, 'lat': zzz}\n",
    "            self.points = [(p['lon'], p['lat']) for p in points]\n",
    "            self.names = [p['name'] for p in points]\n",
    "        else:\n",
    "            raise ValueError(\"Invalid input format. Expected list of (lon, lat) tuples or dictionaries.\")\n",
    "\n",
    "        self.length = len(points)\n",
    "        self.profile = profile\n",
    "        \n",
    "    def solve(self, api):\n",
    "        \n",
    "        matrix = api.matrix(locations=self.points, profile=self.profile)\n",
    "        durations = np.matrix(matrix.durations)\n",
    "        \n",
    "        # test if durations is symmetric\n",
    "        if np.array_equal(durations, durations.transpose()):\n",
    "            # it is symmetric, do nothing\n",
    "            print('distance matrix is symmetric')\n",
    "            pass\n",
    "        else:\n",
    "            print('distance matrix is not symmetric; making it so')\n",
    "            durations = symmetricize(durations)\n",
    "            \n",
    "        solution = solve_concorde(durations)\n",
    "        \n",
    "        if len(solution.tour) == self.length:\n",
    "            return solution.tour\n",
    "        else: \n",
    "            # check that alternate elements of solution.tour are the original points\n",
    "            if max(solution.tour[0::2]) == self.length-1:\n",
    "                # alternate elements (starting at index 0) are original\n",
    "                self.tour = solution.tour[0::2]\n",
    "                return self.tour\n",
    "            else:\n",
    "                # alternate elements (starting at index 1) are original\n",
    "                self.tour = solution.tour[1::2]\n",
    "                return self.tour\n",
    "            \n",
    "    def get_directions(self, api):\n",
    "        \n",
    "        try:\n",
    "            points_ordered = [self.points[i] for i in self.tour]\n",
    "            self.points_ordered = points_ordered\n",
    "            if self.names is not None:\n",
    "                names_ordered = [self.names[i] for i in self.tour]\n",
    "                self.names_ordered = names_ordered\n",
    "        except AttributeError:\n",
    "            print(\"self.tour does not exist; ensure solve() is run first\")\n",
    "            \n",
    "        points_ordered_with_return = points_ordered + [points_ordered[0]]\n",
    "        \n",
    "        directions = api.directions(locations=points_ordered_with_return, profile=self.profile)\n",
    "        self.directions = directions\n",
    "        return self.directions\n",
    "    \n",
    "    def generate_map(self):\n",
    "        # Create a map centered at a specific location\n",
    "        route_points = [(y, x) for (x, y) in self.points_ordered]\n",
    "        centre = np.mean([x for (x, y) in route_points]), np.mean([y for (x, y) in route_points])\n",
    "        \n",
    "        try:\n",
    "            route_line = [(y, x) for (x, y) in self.directions.geometry] # folium needs lat, long\n",
    "        except AttributeError:\n",
    "            print(\"self.directions does not exist; ensure get_directions() is run first\")\n",
    "        \n",
    "        m = folium.Map(location=centre, zoom_start=12, zoom_control=False)\n",
    "\n",
    "        # Create a feature group for the route line\n",
    "        route_line_group = folium.FeatureGroup(name='Route Line')\n",
    "\n",
    "        # Add the route line to the feature group\n",
    "        folium.PolyLine(route_line, color='red', weight=2).add_to(route_line_group)\n",
    "\n",
    "        # Add the feature group to the map\n",
    "        route_line_group.add_to(m)\n",
    "\n",
    "        # Create a feature group for the route points\n",
    "        route_points_group = folium.FeatureGroup(name='Route Points')\n",
    "\n",
    "        # Add the route points to the feature group\n",
    "        if self.names is None:\n",
    "            names = route_points\n",
    "        else:\n",
    "            names = self.names_ordered\n",
    "        for i, (point, name) in enumerate(zip(route_points, names)):\n",
    "            folium.Marker(location=point, tooltip=f'{i}: {name}').add_to(route_points_group)\n",
    "\n",
    "        # Add the feature group to the map\n",
    "        route_points_group.add_to(m)\n",
    "\n",
    "        # Create a custom tile layer with a partially greyed out basemap\n",
    "        custom_tile_layer = folium.TileLayer(\n",
    "            tiles='http://{s}.basemaps.cartocdn.com/light_all/{z}/{x}/{y}.png',\n",
    "            attr='CartoDB Positron',\n",
    "            name='Positron',\n",
    "            overlay=True,\n",
    "            control=True,\n",
    "            opacity=0.7  # Adjust opacity to control the level of greying out\n",
    "        )\n",
    "\n",
    "        # Add the custom tile layer to the map\n",
    "        custom_tile_layer.add_to(m)\n",
    "\n",
    "        # Add layer control to the map\n",
    "        folium.LayerControl().add_to(m)\n",
    "\n",
    "        self.map = m\n",
    "        return m"
   ]
  },
  {
   "cell_type": "code",
   "execution_count": 15,
   "metadata": {},
   "outputs": [],
   "source": [
    "coordinates = [\n",
    "                [-1.8162, 53.3651],\n",
    "                [-1.8764, 53.3973],\n",
    "                [-1.8757, 53.3630],\n",
    "                [-1.7714, 53.3649],\n",
    "                [-1.9098, 53.3578],\n",
    "                [-1.9173, 53.3637],\n",
    "                [-1.8826, 53.3803],\n",
    "                [-1.7963, 53.3893],\n",
    "                [-1.8096, 53.3492]\n",
    "              ]\n",
    "\n",
    "edale = GeographicTSP(points=coordinates, profile='hike')"
   ]
  },
  {
   "cell_type": "code",
   "execution_count": 26,
   "metadata": {},
   "outputs": [],
   "source": [
    "import configparser\n",
    "config = configparser.ConfigParser()\n",
    "config.read('.config')\n",
    "api_key = config.get('API', 'GRAPHHOPPER_API_KEY')"
   ]
  },
  {
   "cell_type": "code",
   "execution_count": 27,
   "metadata": {},
   "outputs": [],
   "source": [
    "#api_key = os.environ['GRAPHHOPPER_API_KEY'] # get a free key at https://www.graphhopper.com/\n",
    "api = rp.Graphhopper(api_key=api_key)"
   ]
  },
  {
   "cell_type": "code",
   "execution_count": null,
   "metadata": {},
   "outputs": [],
   "source": [
    "tour = edale.solve(api=api)"
   ]
  },
  {
   "cell_type": "code",
   "execution_count": null,
   "metadata": {},
   "outputs": [],
   "source": [
    "tour"
   ]
  },
  {
   "cell_type": "code",
   "execution_count": null,
   "metadata": {},
   "outputs": [],
   "source": [
    "edale.get_directions(api=api)"
   ]
  },
  {
   "cell_type": "code",
   "execution_count": null,
   "metadata": {},
   "outputs": [],
   "source": [
    "edale.generate_map()"
   ]
  },
  {
   "cell_type": "code",
   "execution_count": null,
   "metadata": {},
   "outputs": [],
   "source": [
    "edale.map.save('edale.html')"
   ]
  },
  {
   "cell_type": "code",
   "execution_count": 17,
   "metadata": {},
   "outputs": [
    {
     "name": "stdout",
     "output_type": "stream",
     "text": [
      "Collecting pykml\n",
      "  Downloading pykml-0.2.0-py3-none-any.whl (41 kB)\n",
      "     ---------------------------------------- 0.0/41.1 kB ? eta -:--:--\n",
      "     ------------------- -------------------- 20.5/41.1 kB 640.0 kB/s eta 0:00:01\n",
      "     ---------------------------------------- 41.1/41.1 kB 490.2 kB/s eta 0:00:00\n",
      "Collecting lxml>=3.3.6 (from pykml)\n",
      "  Obtaining dependency information for lxml>=3.3.6 from https://files.pythonhosted.org/packages/31/58/e3b3dd6bb2ab7404f1f4992e2d0e6926ed40cef8ce1b3bbefd95877499e1/lxml-4.9.3-cp311-cp311-win_amd64.whl.metadata\n",
      "  Downloading lxml-4.9.3-cp311-cp311-win_amd64.whl.metadata (3.9 kB)\n",
      "Downloading lxml-4.9.3-cp311-cp311-win_amd64.whl (3.8 MB)\n",
      "   ---------------------------------------- 0.0/3.8 MB ? eta -:--:--\n",
      "   -- ------------------------------------- 0.2/3.8 MB 4.7 MB/s eta 0:00:01\n",
      "   ------- -------------------------------- 0.7/3.8 MB 7.5 MB/s eta 0:00:01\n",
      "   ------------- -------------------------- 1.3/3.8 MB 8.9 MB/s eta 0:00:01\n",
      "   -------------------- ------------------- 1.9/3.8 MB 10.3 MB/s eta 0:00:01\n",
      "   ---------------------------- ----------- 2.7/3.8 MB 11.5 MB/s eta 0:00:01\n",
      "   ------------------------------------- -- 3.5/3.8 MB 12.5 MB/s eta 0:00:01\n",
      "   ---------------------------------------- 3.8/3.8 MB 12.7 MB/s eta 0:00:00\n",
      "Installing collected packages: lxml, pykml\n",
      "Successfully installed lxml-4.9.3 pykml-0.2.0\n"
     ]
    }
   ],
   "source": [
    "!pip install pykml"
   ]
  },
  {
   "cell_type": "code",
   "execution_count": 18,
   "metadata": {},
   "outputs": [
    {
     "ename": "FileNotFoundError",
     "evalue": "[Errno 2] No such file or directory: 'london.kml'",
     "output_type": "error",
     "traceback": [
      "\u001b[1;31m---------------------------------------------------------------------------\u001b[0m",
      "\u001b[1;31mFileNotFoundError\u001b[0m                         Traceback (most recent call last)",
      "Cell \u001b[1;32mIn[18], line 5\u001b[0m\n\u001b[0;32m      1\u001b[0m \u001b[39mfrom\u001b[39;00m \u001b[39mpykml\u001b[39;00m \u001b[39mimport\u001b[39;00m parser\n\u001b[0;32m      3\u001b[0m kml_file \u001b[39m=\u001b[39m os\u001b[39m.\u001b[39mpath\u001b[39m.\u001b[39mjoin(\u001b[39m'\u001b[39m\u001b[39mlondon.kml\u001b[39m\u001b[39m'\u001b[39m)\n\u001b[1;32m----> 5\u001b[0m \u001b[39mwith\u001b[39;00m \u001b[39mopen\u001b[39;49m(kml_file) \u001b[39mas\u001b[39;00m f:\n\u001b[0;32m      6\u001b[0m   doc \u001b[39m=\u001b[39m parser\u001b[39m.\u001b[39mparse(f)\u001b[39m.\u001b[39mgetroot()\n\u001b[0;32m      8\u001b[0m points \u001b[39m=\u001b[39m []\n",
      "File \u001b[1;32m~\\AppData\\Local\\Packages\\PythonSoftwareFoundation.Python.3.11_qbz5n2kfra8p0\\LocalCache\\local-packages\\Python311\\site-packages\\IPython\\core\\interactiveshell.py:284\u001b[0m, in \u001b[0;36m_modified_open\u001b[1;34m(file, *args, **kwargs)\u001b[0m\n\u001b[0;32m    277\u001b[0m \u001b[39mif\u001b[39;00m file \u001b[39min\u001b[39;00m {\u001b[39m0\u001b[39m, \u001b[39m1\u001b[39m, \u001b[39m2\u001b[39m}:\n\u001b[0;32m    278\u001b[0m     \u001b[39mraise\u001b[39;00m \u001b[39mValueError\u001b[39;00m(\n\u001b[0;32m    279\u001b[0m         \u001b[39mf\u001b[39m\u001b[39m\"\u001b[39m\u001b[39mIPython won\u001b[39m\u001b[39m'\u001b[39m\u001b[39mt let you open fd=\u001b[39m\u001b[39m{\u001b[39;00mfile\u001b[39m}\u001b[39;00m\u001b[39m by default \u001b[39m\u001b[39m\"\u001b[39m\n\u001b[0;32m    280\u001b[0m         \u001b[39m\"\u001b[39m\u001b[39mas it is likely to crash IPython. If you know what you are doing, \u001b[39m\u001b[39m\"\u001b[39m\n\u001b[0;32m    281\u001b[0m         \u001b[39m\"\u001b[39m\u001b[39myou can use builtins\u001b[39m\u001b[39m'\u001b[39m\u001b[39m open.\u001b[39m\u001b[39m\"\u001b[39m\n\u001b[0;32m    282\u001b[0m     )\n\u001b[1;32m--> 284\u001b[0m \u001b[39mreturn\u001b[39;00m io_open(file, \u001b[39m*\u001b[39;49margs, \u001b[39m*\u001b[39;49m\u001b[39m*\u001b[39;49mkwargs)\n",
      "\u001b[1;31mFileNotFoundError\u001b[0m: [Errno 2] No such file or directory: 'london.kml'"
     ]
    }
   ],
   "source": [
    "from pykml import parser\n",
    "\n",
    "kml_file = os.path.join('london.kml')\n",
    "\n",
    "with open(kml_file) as f:\n",
    "  doc = parser.parse(f).getroot()\n",
    "\n",
    "points = []\n",
    "\n",
    "for x in doc.Document.Placemark:\n",
    "    name = str(x.name)\n",
    "    coords = str(x.Point.coordinates).split(',')\n",
    "    lon = round(float(coords[0]), 4)\n",
    "    lat = round(float(coords[1]), 4)\n",
    "    points.append({'name': name, 'lon': lon, 'lat': lat})\n",
    "    \n",
    "points"
   ]
  },
  {
   "cell_type": "code",
   "execution_count": null,
   "metadata": {},
   "outputs": [],
   "source": [
    "london = GeographicTSP(points, profile='car')\n",
    "london.points"
   ]
  },
  {
   "cell_type": "code",
   "execution_count": null,
   "metadata": {},
   "outputs": [],
   "source": [
    "london.names"
   ]
  },
  {
   "cell_type": "code",
   "execution_count": null,
   "metadata": {},
   "outputs": [],
   "source": [
    "london.solve(api)"
   ]
  },
  {
   "cell_type": "code",
   "execution_count": null,
   "metadata": {},
   "outputs": [],
   "source": [
    "london.get_directions(api)"
   ]
  },
  {
   "cell_type": "code",
   "execution_count": null,
   "metadata": {},
   "outputs": [],
   "source": [
    "london.generate_map()"
   ]
  },
  {
   "cell_type": "code",
   "execution_count": null,
   "metadata": {},
   "outputs": [],
   "source": [
    "london.map.save('london.html')"
   ]
  }
 ],
 "metadata": {
  "kernelspec": {
   "display_name": "Python 3",
   "language": "python",
   "name": "python3"
  },
  "language_info": {
   "codemirror_mode": {
    "name": "ipython",
    "version": 3
   },
   "file_extension": ".py",
   "mimetype": "text/x-python",
   "name": "python",
   "nbconvert_exporter": "python",
   "pygments_lexer": "ipython3",
   "version": "3.11.6"
  },
  "orig_nbformat": 4
 },
 "nbformat": 4,
 "nbformat_minor": 2
}
